{
 "cells": [
  {
   "cell_type": "code",
   "execution_count": 1,
   "id": "411301e6-da35-4568-bc9e-3e5a638799b2",
   "metadata": {},
   "outputs": [],
   "source": [
    "import pandas as pd"
   ]
  },
  {
   "cell_type": "markdown",
   "id": "83690e90-8057-4ea8-918d-6d676b5c0f18",
   "metadata": {},
   "source": [
    "# **Intéragir avec un fichier d'Excel**"
   ]
  },
  {
   "cell_type": "markdown",
   "id": "e9c945e8-4e18-4652-80f6-194ce798dc10",
   "metadata": {},
   "source": [
    "Comme pour le CSV, Pandas ne sais que les lires et les écrires.  \n",
    "Idem pour un fichier html."
   ]
  },
  {
   "cell_type": "markdown",
   "id": "a9bd4944-c0ac-4033-8339-0f1866ef25a2",
   "metadata": {},
   "source": [
    "Il faut utiliser `xlrd`.  \n",
    "C'est par défaut installer avec Anaconda.  \n",
    "S'il est absent `conda install xlrd` ou `pip install xlrd`."
   ]
  },
  {
   "cell_type": "code",
   "execution_count": 2,
   "id": "f7dd6345-8034-49b8-92c9-fce343b73f7a",
   "metadata": {},
   "outputs": [],
   "source": [
    "notes = pd.read_excel('notes_eleves.xlsx')"
   ]
  },
  {
   "cell_type": "markdown",
   "id": "02375762-02ee-48e0-9790-9e5d08ec98ee",
   "metadata": {},
   "source": [
    "Par défaut, la 1ère feuille est importée."
   ]
  },
  {
   "cell_type": "code",
   "execution_count": 3,
   "id": "7e728c78-ed5e-4529-917c-871075ee4bdd",
   "metadata": {},
   "outputs": [
    {
     "data": {
      "text/html": [
       "<div>\n",
       "<style scoped>\n",
       "    .dataframe tbody tr th:only-of-type {\n",
       "        vertical-align: middle;\n",
       "    }\n",
       "\n",
       "    .dataframe tbody tr th {\n",
       "        vertical-align: top;\n",
       "    }\n",
       "\n",
       "    .dataframe thead th {\n",
       "        text-align: right;\n",
       "    }\n",
       "</style>\n",
       "<table border=\"1\" class=\"dataframe\">\n",
       "  <thead>\n",
       "    <tr style=\"text-align: right;\">\n",
       "      <th></th>\n",
       "      <th>Prenom</th>\n",
       "      <th>age</th>\n",
       "      <th>note_maths</th>\n",
       "      <th>note_physique</th>\n",
       "      <th>note_informatique</th>\n",
       "    </tr>\n",
       "  </thead>\n",
       "  <tbody>\n",
       "    <tr>\n",
       "      <th>0</th>\n",
       "      <td>Claire</td>\n",
       "      <td>21</td>\n",
       "      <td>12</td>\n",
       "      <td>15</td>\n",
       "      <td>10</td>\n",
       "    </tr>\n",
       "    <tr>\n",
       "      <th>1</th>\n",
       "      <td>Amine</td>\n",
       "      <td>19</td>\n",
       "      <td>10</td>\n",
       "      <td>10</td>\n",
       "      <td>11</td>\n",
       "    </tr>\n",
       "    <tr>\n",
       "      <th>2</th>\n",
       "      <td>Karine</td>\n",
       "      <td>20</td>\n",
       "      <td>12</td>\n",
       "      <td>15</td>\n",
       "      <td>20</td>\n",
       "    </tr>\n",
       "    <tr>\n",
       "      <th>3</th>\n",
       "      <td>Samira</td>\n",
       "      <td>19</td>\n",
       "      <td>13</td>\n",
       "      <td>13</td>\n",
       "      <td>18</td>\n",
       "    </tr>\n",
       "    <tr>\n",
       "      <th>4</th>\n",
       "      <td>Sarah</td>\n",
       "      <td>18</td>\n",
       "      <td>12</td>\n",
       "      <td>10</td>\n",
       "      <td>9</td>\n",
       "    </tr>\n",
       "    <tr>\n",
       "      <th>5</th>\n",
       "      <td>Lina</td>\n",
       "      <td>20</td>\n",
       "      <td>13</td>\n",
       "      <td>15</td>\n",
       "      <td>16</td>\n",
       "    </tr>\n",
       "  </tbody>\n",
       "</table>\n",
       "</div>"
      ],
      "text/plain": [
       "   Prenom  age  note_maths  note_physique  note_informatique\n",
       "0  Claire   21          12             15                 10\n",
       "1   Amine   19          10             10                 11\n",
       "2  Karine   20          12             15                 20\n",
       "3  Samira   19          13             13                 18\n",
       "4   Sarah   18          12             10                  9\n",
       "5    Lina   20          13             15                 16"
      ]
     },
     "execution_count": 3,
     "metadata": {},
     "output_type": "execute_result"
    }
   ],
   "source": [
    "notes"
   ]
  },
  {
   "cell_type": "code",
   "execution_count": 4,
   "id": "c787b7b5-846d-451c-ab15-595308dc14be",
   "metadata": {},
   "outputs": [
    {
     "data": {
      "text/html": [
       "<div>\n",
       "<style scoped>\n",
       "    .dataframe tbody tr th:only-of-type {\n",
       "        vertical-align: middle;\n",
       "    }\n",
       "\n",
       "    .dataframe tbody tr th {\n",
       "        vertical-align: top;\n",
       "    }\n",
       "\n",
       "    .dataframe thead th {\n",
       "        text-align: right;\n",
       "    }\n",
       "</style>\n",
       "<table border=\"1\" class=\"dataframe\">\n",
       "  <thead>\n",
       "    <tr style=\"text-align: right;\">\n",
       "      <th></th>\n",
       "      <th>Prenom</th>\n",
       "      <th>age</th>\n",
       "      <th>note_maths</th>\n",
       "      <th>note_physique</th>\n",
       "      <th>note_informatique</th>\n",
       "      <th>Moyenne</th>\n",
       "    </tr>\n",
       "  </thead>\n",
       "  <tbody>\n",
       "    <tr>\n",
       "      <th>0</th>\n",
       "      <td>Claire</td>\n",
       "      <td>21</td>\n",
       "      <td>12</td>\n",
       "      <td>15</td>\n",
       "      <td>10</td>\n",
       "      <td>12.333333</td>\n",
       "    </tr>\n",
       "    <tr>\n",
       "      <th>1</th>\n",
       "      <td>Amine</td>\n",
       "      <td>19</td>\n",
       "      <td>10</td>\n",
       "      <td>10</td>\n",
       "      <td>11</td>\n",
       "      <td>10.333333</td>\n",
       "    </tr>\n",
       "    <tr>\n",
       "      <th>2</th>\n",
       "      <td>Karine</td>\n",
       "      <td>20</td>\n",
       "      <td>12</td>\n",
       "      <td>15</td>\n",
       "      <td>20</td>\n",
       "      <td>15.666667</td>\n",
       "    </tr>\n",
       "    <tr>\n",
       "      <th>3</th>\n",
       "      <td>Samira</td>\n",
       "      <td>19</td>\n",
       "      <td>13</td>\n",
       "      <td>13</td>\n",
       "      <td>18</td>\n",
       "      <td>14.666667</td>\n",
       "    </tr>\n",
       "    <tr>\n",
       "      <th>4</th>\n",
       "      <td>Sarah</td>\n",
       "      <td>18</td>\n",
       "      <td>12</td>\n",
       "      <td>10</td>\n",
       "      <td>9</td>\n",
       "      <td>10.333333</td>\n",
       "    </tr>\n",
       "    <tr>\n",
       "      <th>5</th>\n",
       "      <td>Lina</td>\n",
       "      <td>20</td>\n",
       "      <td>13</td>\n",
       "      <td>15</td>\n",
       "      <td>16</td>\n",
       "      <td>14.666667</td>\n",
       "    </tr>\n",
       "  </tbody>\n",
       "</table>\n",
       "</div>"
      ],
      "text/plain": [
       "   Prenom  age  note_maths  note_physique  note_informatique    Moyenne\n",
       "0  Claire   21          12             15                 10  12.333333\n",
       "1   Amine   19          10             10                 11  10.333333\n",
       "2  Karine   20          12             15                 20  15.666667\n",
       "3  Samira   19          13             13                 18  14.666667\n",
       "4   Sarah   18          12             10                  9  10.333333\n",
       "5    Lina   20          13             15                 16  14.666667"
      ]
     },
     "execution_count": 4,
     "metadata": {},
     "output_type": "execute_result"
    }
   ],
   "source": [
    "# Créer la colonne Moyenne\n",
    "notes['Moyenne']=notes[['note_maths','note_physique','note_informatique']].mean(axis=1)\n",
    "notes"
   ]
  },
  {
   "cell_type": "code",
   "execution_count": 5,
   "id": "5be99ef3-4dab-4dba-ac43-aed2653056ae",
   "metadata": {},
   "outputs": [],
   "source": [
    "# Exporter\n",
    "notes.to_excel('notes_etudiants.xlsx', index=False)"
   ]
  },
  {
   "cell_type": "code",
   "execution_count": 6,
   "id": "2f007bb5-8cce-4a38-93ed-1c5233fa5420",
   "metadata": {},
   "outputs": [],
   "source": [
    "# Importer la seconde\n",
    "notes2 = pd.read_excel('notes_eleves.xlsx', sheet_name='notes2')"
   ]
  },
  {
   "cell_type": "code",
   "execution_count": 7,
   "id": "8df1f6b8-c081-4f88-9ce1-3e7355ba6dc7",
   "metadata": {},
   "outputs": [
    {
     "data": {
      "text/html": [
       "<div>\n",
       "<style scoped>\n",
       "    .dataframe tbody tr th:only-of-type {\n",
       "        vertical-align: middle;\n",
       "    }\n",
       "\n",
       "    .dataframe tbody tr th {\n",
       "        vertical-align: top;\n",
       "    }\n",
       "\n",
       "    .dataframe thead th {\n",
       "        text-align: right;\n",
       "    }\n",
       "</style>\n",
       "<table border=\"1\" class=\"dataframe\">\n",
       "  <thead>\n",
       "    <tr style=\"text-align: right;\">\n",
       "      <th></th>\n",
       "      <th>Prenom</th>\n",
       "      <th>Age</th>\n",
       "      <th>Note_Anglais</th>\n",
       "      <th>Note_Français</th>\n",
       "      <th>Moyenne</th>\n",
       "    </tr>\n",
       "  </thead>\n",
       "  <tbody>\n",
       "    <tr>\n",
       "      <th>0</th>\n",
       "      <td>Claire</td>\n",
       "      <td>21</td>\n",
       "      <td>10</td>\n",
       "      <td>12</td>\n",
       "      <td>11.0</td>\n",
       "    </tr>\n",
       "    <tr>\n",
       "      <th>1</th>\n",
       "      <td>Amine</td>\n",
       "      <td>19</td>\n",
       "      <td>9</td>\n",
       "      <td>13</td>\n",
       "      <td>11.0</td>\n",
       "    </tr>\n",
       "    <tr>\n",
       "      <th>2</th>\n",
       "      <td>Karine</td>\n",
       "      <td>15</td>\n",
       "      <td>11</td>\n",
       "      <td>11</td>\n",
       "      <td>11.0</td>\n",
       "    </tr>\n",
       "    <tr>\n",
       "      <th>3</th>\n",
       "      <td>Samira</td>\n",
       "      <td>20</td>\n",
       "      <td>12</td>\n",
       "      <td>13</td>\n",
       "      <td>12.5</td>\n",
       "    </tr>\n",
       "    <tr>\n",
       "      <th>4</th>\n",
       "      <td>Sarah</td>\n",
       "      <td>14</td>\n",
       "      <td>16</td>\n",
       "      <td>18</td>\n",
       "      <td>17.0</td>\n",
       "    </tr>\n",
       "    <tr>\n",
       "      <th>5</th>\n",
       "      <td>Lina</td>\n",
       "      <td>20</td>\n",
       "      <td>13</td>\n",
       "      <td>12</td>\n",
       "      <td>12.5</td>\n",
       "    </tr>\n",
       "  </tbody>\n",
       "</table>\n",
       "</div>"
      ],
      "text/plain": [
       "   Prenom  Age  Note_Anglais  Note_Français  Moyenne\n",
       "0  Claire   21            10             12     11.0\n",
       "1   Amine   19             9             13     11.0\n",
       "2  Karine   15            11             11     11.0\n",
       "3  Samira   20            12             13     12.5\n",
       "4   Sarah   14            16             18     17.0\n",
       "5    Lina   20            13             12     12.5"
      ]
     },
     "execution_count": 7,
     "metadata": {},
     "output_type": "execute_result"
    }
   ],
   "source": [
    "notes2"
   ]
  }
 ],
 "metadata": {
  "kernelspec": {
   "display_name": "Python [conda env:base] *",
   "language": "python",
   "name": "conda-base-py"
  },
  "language_info": {
   "codemirror_mode": {
    "name": "ipython",
    "version": 3
   },
   "file_extension": ".py",
   "mimetype": "text/x-python",
   "name": "python",
   "nbconvert_exporter": "python",
   "pygments_lexer": "ipython3",
   "version": "3.13.5"
  }
 },
 "nbformat": 4,
 "nbformat_minor": 5
}
