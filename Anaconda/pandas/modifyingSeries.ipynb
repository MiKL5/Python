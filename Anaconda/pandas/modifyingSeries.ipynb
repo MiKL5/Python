{
 "cells": [
  {
   "cell_type": "code",
   "execution_count": 1,
   "id": "52aca965-8b2d-4e44-9d93-173d158a3507",
   "metadata": {},
   "outputs": [],
   "source": [
    "import numpy  as np\n",
    "import pandas as pd"
   ]
  },
  {
   "cell_type": "markdown",
   "id": "8a16534c-27b3-4f08-9bbb-eb4d593990a7",
   "metadata": {},
   "source": [
    "# **Modifier une série**"
   ]
  },
  {
   "cell_type": "code",
   "execution_count": 5,
   "id": "5238edce-1669-4bf2-9868-6fd30912f488",
   "metadata": {},
   "outputs": [
    {
     "data": {
      "text/plain": [
       "a     5\n",
       "b    10\n",
       "c    20\n",
       "d    30\n",
       "e    40\n",
       "dtype: int64"
      ]
     },
     "execution_count": 5,
     "metadata": {},
     "output_type": "execute_result"
    }
   ],
   "source": [
    "data = pd.Series([5, 10, 20, 30, 40], index=[\"a\", \"b\", \"c\", \"d\", \"e\"])\n",
    "data"
   ]
  },
  {
   "cell_type": "code",
   "execution_count": 6,
   "id": "46b23c95-bb24-4c4e-b06a-dde15fad85ed",
   "metadata": {},
   "outputs": [
    {
     "data": {
      "text/plain": [
       "a     0\n",
       "b    10\n",
       "c    20\n",
       "d    30\n",
       "e    40\n",
       "dtype: int64"
      ]
     },
     "execution_count": 6,
     "metadata": {},
     "output_type": "execute_result"
    }
   ],
   "source": [
    "# a devient 0\n",
    "data['a']=0\n",
    "data"
   ]
  },
  {
   "cell_type": "code",
   "execution_count": 7,
   "id": "44473f3e-0eaa-414e-8df8-be1d9c3018d2",
   "metadata": {},
   "outputs": [
    {
     "data": {
      "text/plain": [
       "a      0\n",
       "b     10\n",
       "c     20\n",
       "d     30\n",
       "e     40\n",
       "g    100\n",
       "h    500\n",
       "dtype: int64"
      ]
     },
     "execution_count": 7,
     "metadata": {},
     "output_type": "execute_result"
    }
   ],
   "source": [
    "# ajouter 100 et 500\n",
    "data = pd.concat([data, pd.Series([100, 500], index=[\"g\", \"h\"])])\n",
    "data"
   ]
  },
  {
   "cell_type": "code",
   "execution_count": 9,
   "id": "67e95804-8960-4137-aad4-b1c7ba55972f",
   "metadata": {},
   "outputs": [
    {
     "data": {
      "text/plain": [
       "a       0\n",
       "b      10\n",
       "c      20\n",
       "d      30\n",
       "e      40\n",
       "g     100\n",
       "h     500\n",
       "i    1000\n",
       "dtype: int64"
      ]
     },
     "execution_count": 9,
     "metadata": {},
     "output_type": "execute_result"
    }
   ],
   "source": [
    "# ajouter 1000\n",
    "data['i'] = 1000\n",
    "data"
   ]
  },
  {
   "cell_type": "code",
   "execution_count": 11,
   "id": "026d4acb-ef93-45c7-90f6-95621bf695c5",
   "metadata": {},
   "outputs": [],
   "source": [
    "# les élèves ayant au moins 12\n",
    "maths_notes = pd.Series({\"Christophe\": 17, \"Carla\": 6, \"Caroine\": 20, \"Jean-Baptiste\": 2, \"Florence\": 15.5, \"Emma\": 19})\n",
    "eleves_au_moins_12 = maths_notes[maths_notes >= 12]"
   ]
  },
  {
   "cell_type": "code",
   "execution_count": 12,
   "id": "18a55c20-69f8-4a03-a23c-927151a29278",
   "metadata": {},
   "outputs": [
    {
     "data": {
      "text/plain": [
       "Christophe    17.0\n",
       "Caroine       20.0\n",
       "Florence      15.5\n",
       "Emma          19.0\n",
       "dtype: float64"
      ]
     },
     "execution_count": 12,
     "metadata": {},
     "output_type": "execute_result"
    }
   ],
   "source": [
    "eleves_au_moins_12"
   ]
  },
  {
   "cell_type": "code",
   "execution_count": 13,
   "id": "4d53ea6c-9406-48c9-b796-cd11f288968d",
   "metadata": {},
   "outputs": [
    {
     "data": {
      "text/plain": [
       "Christophe    17\n",
       "Caroine       20\n",
       "Florence      15\n",
       "Emma          19\n",
       "dtype: int64"
      ]
     },
     "execution_count": 13,
     "metadata": {},
     "output_type": "execute_result"
    }
   ],
   "source": [
    "# entier\n",
    "eleves_au_moins_12 = maths_notes[maths_notes >= 12].astype(int)\n",
    "eleves_au_moins_12"
   ]
  },
  {
   "cell_type": "code",
   "execution_count": 14,
   "id": "72707b78-560c-4bcb-a2a5-344f8813b5d7",
   "metadata": {},
   "outputs": [
    {
     "data": {
      "text/plain": [
       "Carla             6.0\n",
       "Caroine          20.0\n",
       "Christophe       17.0\n",
       "Emma             19.0\n",
       "Florence         15.5\n",
       "Jean-Baptiste     2.0\n",
       "dtype: float64"
      ]
     },
     "execution_count": 14,
     "metadata": {},
     "output_type": "execute_result"
    }
   ],
   "source": [
    "# Liste des notes, élèves classés par l'alphabet\n",
    "eleves_alphabet = maths_notes.sort_index()\n",
    "eleves_alphabet"
   ]
  },
  {
   "cell_type": "code",
   "execution_count": 15,
   "id": "622f8fbc-2ce0-4062-ab07-48e60361b577",
   "metadata": {},
   "outputs": [
    {
     "data": {
      "text/plain": [
       "Carla            6.0\n",
       "Jean-Baptiste    2.0\n",
       "dtype: float64"
      ]
     },
     "execution_count": 15,
     "metadata": {},
     "output_type": "execute_result"
    }
   ],
   "source": [
    "# Dans la variable mauvais élèves, ceux ayant moins de 8\n",
    "mauvais_eleves = maths_notes[maths_notes < 8]\n",
    "mauvais_eleves"
   ]
  },
  {
   "cell_type": "code",
   "execution_count": 20,
   "id": "00860d8d-b234-42ef-9a64-24d907070ce4",
   "metadata": {},
   "outputs": [
    {
     "data": {
      "text/plain": [
       "Series([], dtype: float64)"
      ]
     },
     "execution_count": 20,
     "metadata": {},
     "output_type": "execute_result"
    }
   ],
   "source": [
    "# Qui a entre 10 et 15 ?\n",
    "notes_10_15 = maths_notes[(maths_notes >= 10) & (maths_notes <= 15)]\n",
    "notes_10_15"
   ]
  },
  {
   "cell_type": "code",
   "execution_count": 19,
   "id": "99691c9e-0ac8-4ca4-bd94-45d78601c19f",
   "metadata": {},
   "outputs": [],
   "source": [
    "# personne !"
   ]
  }
 ],
 "metadata": {
  "kernelspec": {
   "display_name": "Python [conda env:base] *",
   "language": "python",
   "name": "conda-base-py"
  },
  "language_info": {
   "codemirror_mode": {
    "name": "ipython",
    "version": 3
   },
   "file_extension": ".py",
   "mimetype": "text/x-python",
   "name": "python",
   "nbconvert_exporter": "python",
   "pygments_lexer": "ipython3",
   "version": "3.13.5"
  }
 },
 "nbformat": 4,
 "nbformat_minor": 5
}
