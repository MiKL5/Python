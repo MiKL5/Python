{
 "cells": [
  {
   "cell_type": "markdown",
   "id": "b2a87a3f",
   "metadata": {},
   "source": [
    "# SERIE D'EXERCICES 1: Explorer différentes données mondiales"
   ]
  },
  {
   "cell_type": "markdown",
   "id": "8b9c4e5c",
   "metadata": {},
   "source": [
    "# 1.Importer les biblipthèques Pandas et Numpy"
   ]
  },
  {
   "cell_type": "code",
   "execution_count": 1,
   "id": "dbc8c298",
   "metadata": {},
   "outputs": [],
   "source": [
    "import numpy  as np\n",
    "import pandas as pd"
   ]
  },
  {
   "cell_type": "markdown",
   "id": "430d3fd2",
   "metadata": {},
   "source": [
    "# 2.Lecture d'un ensemble de données (dataset) de type csv"
   ]
  },
  {
   "cell_type": "markdown",
   "id": "28cb8183",
   "metadata": {},
   "source": [
    "# Dans le dossier ressources, télécharger le fichier dataset_modial.csv et enregistrer le dans votre dossier de travail, puis importer (lire) ce fichier à l'aide de pandas."
   ]
  },
  {
   "cell_type": "code",
   "execution_count": 2,
   "id": "bf8683ee",
   "metadata": {},
   "outputs": [],
   "source": [
    "pays = pd.read_csv('dataset_mondial.csv')"
   ]
  },
  {
   "cell_type": "code",
   "execution_count": null,
   "id": "9822a14e-4af7-4665-9ad7-d2cfe95f8960",
   "metadata": {},
   "outputs": [],
   "source": []
  },
  {
   "cell_type": "markdown",
   "id": "150a4483",
   "metadata": {},
   "source": [
    "# 3.Afficher les cinq premières lignes"
   ]
  },
  {
   "cell_type": "code",
   "execution_count": 3,
   "id": "9ee4263e",
   "metadata": {},
   "outputs": [
    {
     "data": {
      "text/html": [
       "<div>\n",
       "<style scoped>\n",
       "    .dataframe tbody tr th:only-of-type {\n",
       "        vertical-align: middle;\n",
       "    }\n",
       "\n",
       "    .dataframe tbody tr th {\n",
       "        vertical-align: top;\n",
       "    }\n",
       "\n",
       "    .dataframe thead th {\n",
       "        text-align: right;\n",
       "    }\n",
       "</style>\n",
       "<table border=\"1\" class=\"dataframe\">\n",
       "  <thead>\n",
       "    <tr style=\"text-align: right;\">\n",
       "      <th></th>\n",
       "      <th>Pays</th>\n",
       "      <th>Superficie</th>\n",
       "      <th>Population</th>\n",
       "      <th>Taux_de_natalite</th>\n",
       "      <th>Taux_de_mortalite</th>\n",
       "      <th>Taux_de_mortalite_infantile</th>\n",
       "      <th>Esperance_de_vie_naissance</th>\n",
       "      <th>Consommation_electricite</th>\n",
       "      <th>Production_electricite</th>\n",
       "      <th>Croissance_industrielle</th>\n",
       "      <th>Taux_inflation</th>\n",
       "      <th>Serveurs_Internet</th>\n",
       "      <th>Utilisateurs_Internet</th>\n",
       "      <th>Taux_chomage</th>\n",
       "    </tr>\n",
       "  </thead>\n",
       "  <tbody>\n",
       "    <tr>\n",
       "      <th>0</th>\n",
       "      <td>Afghanistan</td>\n",
       "      <td>647500</td>\n",
       "      <td>29928987.0</td>\n",
       "      <td>47.02</td>\n",
       "      <td>20.75</td>\n",
       "      <td>163.07</td>\n",
       "      <td>42.90</td>\n",
       "      <td>6.522000e+08</td>\n",
       "      <td>5.400000e+08</td>\n",
       "      <td>NaN</td>\n",
       "      <td>10.3</td>\n",
       "      <td>NaN</td>\n",
       "      <td>1000.0</td>\n",
       "      <td>NaN</td>\n",
       "    </tr>\n",
       "    <tr>\n",
       "      <th>1</th>\n",
       "      <td>Akrotiri</td>\n",
       "      <td>123</td>\n",
       "      <td>NaN</td>\n",
       "      <td>NaN</td>\n",
       "      <td>NaN</td>\n",
       "      <td>NaN</td>\n",
       "      <td>NaN</td>\n",
       "      <td>NaN</td>\n",
       "      <td>NaN</td>\n",
       "      <td>NaN</td>\n",
       "      <td>NaN</td>\n",
       "      <td>NaN</td>\n",
       "      <td>NaN</td>\n",
       "      <td>NaN</td>\n",
       "    </tr>\n",
       "    <tr>\n",
       "      <th>2</th>\n",
       "      <td>Albania</td>\n",
       "      <td>28748</td>\n",
       "      <td>3563112.0</td>\n",
       "      <td>15.08</td>\n",
       "      <td>5.12</td>\n",
       "      <td>21.52</td>\n",
       "      <td>77.24</td>\n",
       "      <td>6.760000e+09</td>\n",
       "      <td>5.680000e+09</td>\n",
       "      <td>3.1</td>\n",
       "      <td>3.2</td>\n",
       "      <td>455.0</td>\n",
       "      <td>30000.0</td>\n",
       "      <td>14.8</td>\n",
       "    </tr>\n",
       "    <tr>\n",
       "      <th>3</th>\n",
       "      <td>Algeria</td>\n",
       "      <td>2381740</td>\n",
       "      <td>32531853.0</td>\n",
       "      <td>17.13</td>\n",
       "      <td>4.60</td>\n",
       "      <td>31.00</td>\n",
       "      <td>73.00</td>\n",
       "      <td>2.361000e+10</td>\n",
       "      <td>2.576000e+10</td>\n",
       "      <td>6.0</td>\n",
       "      <td>3.1</td>\n",
       "      <td>897.0</td>\n",
       "      <td>500000.0</td>\n",
       "      <td>25.4</td>\n",
       "    </tr>\n",
       "    <tr>\n",
       "      <th>4</th>\n",
       "      <td>American Samoa</td>\n",
       "      <td>199</td>\n",
       "      <td>57881.0</td>\n",
       "      <td>23.13</td>\n",
       "      <td>3.33</td>\n",
       "      <td>9.27</td>\n",
       "      <td>75.84</td>\n",
       "      <td>1.209000e+08</td>\n",
       "      <td>1.300000e+08</td>\n",
       "      <td>NaN</td>\n",
       "      <td>NaN</td>\n",
       "      <td>NaN</td>\n",
       "      <td>NaN</td>\n",
       "      <td>6.0</td>\n",
       "    </tr>\n",
       "  </tbody>\n",
       "</table>\n",
       "</div>"
      ],
      "text/plain": [
       "             Pays  Superficie   Population  Taux_de_natalite  \\\n",
       "0     Afghanistan       647500  29928987.0             47.02   \n",
       "1        Akrotiri          123         NaN               NaN   \n",
       "2         Albania        28748   3563112.0             15.08   \n",
       "3         Algeria      2381740  32531853.0             17.13   \n",
       "4  American Samoa          199     57881.0             23.13   \n",
       "\n",
       "   Taux_de_mortalite  Taux_de_mortalite_infantile  Esperance_de_vie_naissance  \\\n",
       "0              20.75                       163.07                       42.90   \n",
       "1                NaN                          NaN                         NaN   \n",
       "2               5.12                        21.52                       77.24   \n",
       "3               4.60                        31.00                       73.00   \n",
       "4               3.33                         9.27                       75.84   \n",
       "\n",
       "   Consommation_electricite  Production_electricite  Croissance_industrielle  \\\n",
       "0              6.522000e+08            5.400000e+08                      NaN   \n",
       "1                       NaN                     NaN                      NaN   \n",
       "2              6.760000e+09            5.680000e+09                      3.1   \n",
       "3              2.361000e+10            2.576000e+10                      6.0   \n",
       "4              1.209000e+08            1.300000e+08                      NaN   \n",
       "\n",
       "   Taux_inflation  Serveurs_Internet  Utilisateurs_Internet  Taux_chomage  \n",
       "0            10.3                NaN                 1000.0           NaN  \n",
       "1             NaN                NaN                    NaN           NaN  \n",
       "2             3.2              455.0                30000.0          14.8  \n",
       "3             3.1              897.0               500000.0          25.4  \n",
       "4             NaN                NaN                    NaN           6.0  "
      ]
     },
     "execution_count": 3,
     "metadata": {},
     "output_type": "execute_result"
    }
   ],
   "source": [
    "pays.head()"
   ]
  },
  {
   "cell_type": "markdown",
   "id": "6512d59e",
   "metadata": {},
   "source": [
    "# 4.Afficher uniquement les 2 premières lignes"
   ]
  },
  {
   "cell_type": "code",
   "execution_count": 4,
   "id": "79c1103d",
   "metadata": {
    "scrolled": true
   },
   "outputs": [
    {
     "data": {
      "text/html": [
       "<div>\n",
       "<style scoped>\n",
       "    .dataframe tbody tr th:only-of-type {\n",
       "        vertical-align: middle;\n",
       "    }\n",
       "\n",
       "    .dataframe tbody tr th {\n",
       "        vertical-align: top;\n",
       "    }\n",
       "\n",
       "    .dataframe thead th {\n",
       "        text-align: right;\n",
       "    }\n",
       "</style>\n",
       "<table border=\"1\" class=\"dataframe\">\n",
       "  <thead>\n",
       "    <tr style=\"text-align: right;\">\n",
       "      <th></th>\n",
       "      <th>Pays</th>\n",
       "      <th>Superficie</th>\n",
       "      <th>Population</th>\n",
       "      <th>Taux_de_natalite</th>\n",
       "      <th>Taux_de_mortalite</th>\n",
       "      <th>Taux_de_mortalite_infantile</th>\n",
       "      <th>Esperance_de_vie_naissance</th>\n",
       "      <th>Consommation_electricite</th>\n",
       "      <th>Production_electricite</th>\n",
       "      <th>Croissance_industrielle</th>\n",
       "      <th>Taux_inflation</th>\n",
       "      <th>Serveurs_Internet</th>\n",
       "      <th>Utilisateurs_Internet</th>\n",
       "      <th>Taux_chomage</th>\n",
       "    </tr>\n",
       "  </thead>\n",
       "  <tbody>\n",
       "    <tr>\n",
       "      <th>0</th>\n",
       "      <td>Afghanistan</td>\n",
       "      <td>647500</td>\n",
       "      <td>29928987.0</td>\n",
       "      <td>47.02</td>\n",
       "      <td>20.75</td>\n",
       "      <td>163.07</td>\n",
       "      <td>42.9</td>\n",
       "      <td>652200000.0</td>\n",
       "      <td>540000000.0</td>\n",
       "      <td>NaN</td>\n",
       "      <td>10.3</td>\n",
       "      <td>NaN</td>\n",
       "      <td>1000.0</td>\n",
       "      <td>NaN</td>\n",
       "    </tr>\n",
       "    <tr>\n",
       "      <th>1</th>\n",
       "      <td>Akrotiri</td>\n",
       "      <td>123</td>\n",
       "      <td>NaN</td>\n",
       "      <td>NaN</td>\n",
       "      <td>NaN</td>\n",
       "      <td>NaN</td>\n",
       "      <td>NaN</td>\n",
       "      <td>NaN</td>\n",
       "      <td>NaN</td>\n",
       "      <td>NaN</td>\n",
       "      <td>NaN</td>\n",
       "      <td>NaN</td>\n",
       "      <td>NaN</td>\n",
       "      <td>NaN</td>\n",
       "    </tr>\n",
       "  </tbody>\n",
       "</table>\n",
       "</div>"
      ],
      "text/plain": [
       "          Pays  Superficie   Population  Taux_de_natalite  Taux_de_mortalite  \\\n",
       "0  Afghanistan       647500  29928987.0             47.02              20.75   \n",
       "1     Akrotiri          123         NaN               NaN                NaN   \n",
       "\n",
       "   Taux_de_mortalite_infantile  Esperance_de_vie_naissance  \\\n",
       "0                       163.07                        42.9   \n",
       "1                          NaN                         NaN   \n",
       "\n",
       "   Consommation_electricite  Production_electricite  Croissance_industrielle  \\\n",
       "0               652200000.0             540000000.0                      NaN   \n",
       "1                       NaN                     NaN                      NaN   \n",
       "\n",
       "   Taux_inflation  Serveurs_Internet  Utilisateurs_Internet  Taux_chomage  \n",
       "0            10.3                NaN                 1000.0           NaN  \n",
       "1             NaN                NaN                    NaN           NaN  "
      ]
     },
     "execution_count": 4,
     "metadata": {},
     "output_type": "execute_result"
    }
   ],
   "source": [
    "pays.head(2)"
   ]
  },
  {
   "cell_type": "markdown",
   "id": "5a9a0228",
   "metadata": {},
   "source": [
    "# 5. Calculer le total de la poulation modiale"
   ]
  },
  {
   "cell_type": "code",
   "execution_count": 5,
   "id": "98f2eb84",
   "metadata": {},
   "outputs": [
    {
     "data": {
      "text/plain": [
       "np.float64(6446145584.0)"
      ]
     },
     "execution_count": 5,
     "metadata": {},
     "output_type": "execute_result"
    }
   ],
   "source": [
    "pays['Population'].sum()"
   ]
  },
  {
   "cell_type": "markdown",
   "id": "859ed0e2",
   "metadata": {},
   "source": [
    "# 6. Calculer la moyenne de la population modiale (Par pays)"
   ]
  },
  {
   "cell_type": "code",
   "execution_count": 6,
   "id": "6bba1647",
   "metadata": {},
   "outputs": [
    {
     "data": {
      "text/plain": [
       "np.float64(27198926.514767934)"
      ]
     },
     "execution_count": 6,
     "metadata": {},
     "output_type": "execute_result"
    }
   ],
   "source": [
    "pays['Population'].mean()"
   ]
  },
  {
   "cell_type": "markdown",
   "id": "1bbadbfc",
   "metadata": {},
   "source": [
    "# 7.Quel est le plus grand nombre d'habitants (par pays) dans monde?"
   ]
  },
  {
   "cell_type": "code",
   "execution_count": 7,
   "id": "794979da",
   "metadata": {},
   "outputs": [
    {
     "data": {
      "text/plain": [
       "1306313812.0"
      ]
     },
     "execution_count": 7,
     "metadata": {},
     "output_type": "execute_result"
    }
   ],
   "source": [
    "pays['Population'].max()"
   ]
  },
  {
   "cell_type": "markdown",
   "id": "3589119a",
   "metadata": {},
   "source": [
    "# 8. Quel est le pays le plus peuplé dans le monde?"
   ]
  },
  {
   "cell_type": "code",
   "execution_count": 8,
   "id": "b18646fc",
   "metadata": {},
   "outputs": [
    {
     "data": {
      "text/plain": [
       "49    China\n",
       "Name: Pays, dtype: object"
      ]
     },
     "execution_count": 8,
     "metadata": {},
     "output_type": "execute_result"
    }
   ],
   "source": [
    "pays[pays['Population'] == pays['Population'].max()]['Pays'] # Pays en dernier pour l'afficher"
   ]
  },
  {
   "cell_type": "markdown",
   "id": "ff6feb63",
   "metadata": {},
   "source": [
    "# 9. Quel est le pays le moins peuplé dans le monde?"
   ]
  },
  {
   "cell_type": "code",
   "execution_count": 9,
   "id": "77cac6b4",
   "metadata": {},
   "outputs": [
    {
     "data": {
      "text/plain": [
       "191    Pitcairn Islands\n",
       "Name: Pays, dtype: object"
      ]
     },
     "execution_count": 9,
     "metadata": {},
     "output_type": "execute_result"
    }
   ],
   "source": [
    "pays[pays['Population'] == pays['Population'].min()]['Pays']"
   ]
  },
  {
   "cell_type": "markdown",
   "id": "d6eaa6a7",
   "metadata": {},
   "source": [
    "# 10. Quel est le pays qui a le plus grand taux de natalité (par 1000 habitants) ?"
   ]
  },
  {
   "cell_type": "code",
   "execution_count": 11,
   "id": "4f4fb542",
   "metadata": {},
   "outputs": [
    {
     "data": {
      "text/plain": [
       "48.3"
      ]
     },
     "execution_count": 11,
     "metadata": {},
     "output_type": "execute_result"
    }
   ],
   "source": [
    "pays['Taux_de_natalite'].max() # Le plus grand taux"
   ]
  },
  {
   "cell_type": "code",
   "execution_count": 12,
   "id": "7da50eb5",
   "metadata": {},
   "outputs": [
    {
     "data": {
      "text/plain": [
       "176    Niger\n",
       "Name: Pays, dtype: object"
      ]
     },
     "execution_count": 12,
     "metadata": {},
     "output_type": "execute_result"
    }
   ],
   "source": [
    "pays[pays['Taux_de_natalite'] == pays['Taux_de_natalite'].max()]['Pays'] # Le pays"
   ]
  },
  {
   "cell_type": "markdown",
   "id": "ecc8b5c4",
   "metadata": {},
   "source": [
    "# 11. Quel est le pays qui a le plus grand taux de mortalité (par 1000 habitants) ?"
   ]
  },
  {
   "cell_type": "code",
   "execution_count": 13,
   "id": "34a578d4",
   "metadata": {},
   "outputs": [
    {
     "data": {
      "text/plain": [
       "29.36"
      ]
     },
     "execution_count": 13,
     "metadata": {},
     "output_type": "execute_result"
    }
   ],
   "source": [
    "pays['Taux_de_mortalite'].max()"
   ]
  },
  {
   "cell_type": "code",
   "execution_count": 14,
   "id": "4ec3dd45",
   "metadata": {},
   "outputs": [
    {
     "data": {
      "text/plain": [
       "31    Botswana\n",
       "Name: Pays, dtype: object"
      ]
     },
     "execution_count": 14,
     "metadata": {},
     "output_type": "execute_result"
    }
   ],
   "source": [
    "pays[pays['Taux_de_mortalite'] == pays['Taux_de_mortalite'].max()]['Pays']"
   ]
  },
  {
   "cell_type": "markdown",
   "id": "16573d6e",
   "metadata": {},
   "source": [
    "# 12. Quel est le plus grand nombre d'utilisateurs d'Internet selon les pays?"
   ]
  },
  {
   "cell_type": "code",
   "execution_count": 15,
   "id": "34d4dbeb",
   "metadata": {},
   "outputs": [
    {
     "data": {
      "text/plain": [
       "159000000.0"
      ]
     },
     "execution_count": 15,
     "metadata": {},
     "output_type": "execute_result"
    }
   ],
   "source": [
    "pays['Utilisateurs_Internet'].max()"
   ]
  },
  {
   "cell_type": "markdown",
   "id": "c82c3234",
   "metadata": {},
   "source": [
    "# 13. Quel est le pays qui a le plus grand nombre d'utilisateurs d'Internet?"
   ]
  },
  {
   "cell_type": "code",
   "execution_count": 16,
   "id": "89e222dc",
   "metadata": {},
   "outputs": [
    {
     "data": {
      "text/plain": [
       "248    United States\n",
       "Name: Pays, dtype: object"
      ]
     },
     "execution_count": 16,
     "metadata": {},
     "output_type": "execute_result"
    }
   ],
   "source": [
    "pays[pays['Utilisateurs_Internet'] == pays['Utilisateurs_Internet'].max()]['Pays']"
   ]
  },
  {
   "cell_type": "markdown",
   "id": "042f0f40",
   "metadata": {},
   "source": [
    "# 14. Quel est le pays qui a le minimum de nombre d'utilisateurs d'Internet?"
   ]
  },
  {
   "cell_type": "code",
   "execution_count": 17,
   "id": "996386eb",
   "metadata": {},
   "outputs": [
    {
     "data": {
      "text/plain": [
       "168    Nauru\n",
       "Name: Pays, dtype: object"
      ]
     },
     "execution_count": 17,
     "metadata": {},
     "output_type": "execute_result"
    }
   ],
   "source": [
    "pays[pays['Utilisateurs_Internet'] == pays['Utilisateurs_Internet'].min()]['Pays']"
   ]
  },
  {
   "cell_type": "markdown",
   "id": "68a4e619",
   "metadata": {},
   "source": [
    "# 15. Quel est le nombre d'utilisateurs d'Internet en France ?"
   ]
  },
  {
   "cell_type": "code",
   "execution_count": 18,
   "id": "cc80b35b",
   "metadata": {},
   "outputs": [
    {
     "data": {
      "text/plain": [
       "82    21900000.0\n",
       "Name: Utilisateurs_Internet, dtype: float64"
      ]
     },
     "execution_count": 18,
     "metadata": {},
     "output_type": "execute_result"
    }
   ],
   "source": [
    "pays[pays['Pays'] == 'France']['Utilisateurs_Internet']"
   ]
  },
  {
   "cell_type": "markdown",
   "id": "a37ec3e1",
   "metadata": {},
   "source": [
    "# 16. Quel est le taux de natalité (par 1000) en Algérie (Algeria)?"
   ]
  },
  {
   "cell_type": "code",
   "execution_count": 19,
   "id": "6ac8ff5b",
   "metadata": {},
   "outputs": [
    {
     "data": {
      "text/plain": [
       "3    17.13\n",
       "Name: Taux_de_natalite, dtype: float64"
      ]
     },
     "execution_count": 19,
     "metadata": {},
     "output_type": "execute_result"
    }
   ],
   "source": [
    "pays[pays['Pays'] == 'Algeria']['Taux_de_natalite']"
   ]
  },
  {
   "cell_type": "markdown",
   "id": "f5ebfbac",
   "metadata": {},
   "source": [
    "# 17. Quel est le taux de mortalité dans le monde ?"
   ]
  },
  {
   "cell_type": "code",
   "execution_count": 20,
   "id": "760f1e16",
   "metadata": {},
   "outputs": [
    {
     "data": {
      "text/plain": [
       "np.float64(9.371026785714287)"
      ]
     },
     "execution_count": 20,
     "metadata": {},
     "output_type": "execute_result"
    }
   ],
   "source": [
    "pays['Taux_de_mortalite'].mean()"
   ]
  },
  {
   "cell_type": "markdown",
   "id": "39e94e84",
   "metadata": {},
   "source": [
    "# 18. Selectionner tous les pays ayant une population supérieure à 100 millions"
   ]
  },
  {
   "cell_type": "code",
   "execution_count": 21,
   "id": "8189c8e1",
   "metadata": {},
   "outputs": [
    {
     "data": {
      "text/html": [
       "<div>\n",
       "<style scoped>\n",
       "    .dataframe tbody tr th:only-of-type {\n",
       "        vertical-align: middle;\n",
       "    }\n",
       "\n",
       "    .dataframe tbody tr th {\n",
       "        vertical-align: top;\n",
       "    }\n",
       "\n",
       "    .dataframe thead th {\n",
       "        text-align: right;\n",
       "    }\n",
       "</style>\n",
       "<table border=\"1\" class=\"dataframe\">\n",
       "  <thead>\n",
       "    <tr style=\"text-align: right;\">\n",
       "      <th></th>\n",
       "      <th>Pays</th>\n",
       "      <th>Superficie</th>\n",
       "      <th>Population</th>\n",
       "      <th>Taux_de_natalite</th>\n",
       "      <th>Taux_de_mortalite</th>\n",
       "      <th>Taux_de_mortalite_infantile</th>\n",
       "      <th>Esperance_de_vie_naissance</th>\n",
       "      <th>Consommation_electricite</th>\n",
       "      <th>Production_electricite</th>\n",
       "      <th>Croissance_industrielle</th>\n",
       "      <th>Taux_inflation</th>\n",
       "      <th>Serveurs_Internet</th>\n",
       "      <th>Utilisateurs_Internet</th>\n",
       "      <th>Taux_chomage</th>\n",
       "    </tr>\n",
       "  </thead>\n",
       "  <tbody>\n",
       "    <tr>\n",
       "      <th>20</th>\n",
       "      <td>Bangladesh</td>\n",
       "      <td>144000</td>\n",
       "      <td>1.443196e+08</td>\n",
       "      <td>30.01</td>\n",
       "      <td>8.40</td>\n",
       "      <td>62.60</td>\n",
       "      <td>62.08</td>\n",
       "      <td>1.530000e+10</td>\n",
       "      <td>1.645000e+10</td>\n",
       "      <td>6.5</td>\n",
       "      <td>6.0</td>\n",
       "      <td>1.0</td>\n",
       "      <td>243000.0</td>\n",
       "      <td>40.0</td>\n",
       "    </tr>\n",
       "    <tr>\n",
       "      <th>33</th>\n",
       "      <td>Brazil</td>\n",
       "      <td>8511965</td>\n",
       "      <td>1.861128e+08</td>\n",
       "      <td>16.83</td>\n",
       "      <td>6.15</td>\n",
       "      <td>29.61</td>\n",
       "      <td>71.69</td>\n",
       "      <td>3.519000e+11</td>\n",
       "      <td>3.390000e+11</td>\n",
       "      <td>6.0</td>\n",
       "      <td>7.6</td>\n",
       "      <td>3163349.0</td>\n",
       "      <td>14300000.0</td>\n",
       "      <td>11.5</td>\n",
       "    </tr>\n",
       "    <tr>\n",
       "      <th>49</th>\n",
       "      <td>China</td>\n",
       "      <td>9596960</td>\n",
       "      <td>1.306314e+09</td>\n",
       "      <td>13.14</td>\n",
       "      <td>6.94</td>\n",
       "      <td>24.18</td>\n",
       "      <td>72.27</td>\n",
       "      <td>1.630000e+12</td>\n",
       "      <td>1.910000e+12</td>\n",
       "      <td>17.1</td>\n",
       "      <td>4.1</td>\n",
       "      <td>160421.0</td>\n",
       "      <td>94000000.0</td>\n",
       "      <td>9.8</td>\n",
       "    </tr>\n",
       "    <tr>\n",
       "      <th>112</th>\n",
       "      <td>India</td>\n",
       "      <td>3287590</td>\n",
       "      <td>1.080264e+09</td>\n",
       "      <td>22.32</td>\n",
       "      <td>8.28</td>\n",
       "      <td>56.29</td>\n",
       "      <td>64.35</td>\n",
       "      <td>5.101000e+11</td>\n",
       "      <td>5.472000e+11</td>\n",
       "      <td>7.4</td>\n",
       "      <td>4.2</td>\n",
       "      <td>86871.0</td>\n",
       "      <td>18481000.0</td>\n",
       "      <td>9.2</td>\n",
       "    </tr>\n",
       "    <tr>\n",
       "      <th>113</th>\n",
       "      <td>Indonesia</td>\n",
       "      <td>1919440</td>\n",
       "      <td>2.419739e+08</td>\n",
       "      <td>20.71</td>\n",
       "      <td>6.25</td>\n",
       "      <td>35.60</td>\n",
       "      <td>69.57</td>\n",
       "      <td>9.235000e+10</td>\n",
       "      <td>1.102000e+11</td>\n",
       "      <td>10.5</td>\n",
       "      <td>6.1</td>\n",
       "      <td>62036.0</td>\n",
       "      <td>8000000.0</td>\n",
       "      <td>9.2</td>\n",
       "    </tr>\n",
       "    <tr>\n",
       "      <th>121</th>\n",
       "      <td>Japan</td>\n",
       "      <td>377835</td>\n",
       "      <td>1.274172e+08</td>\n",
       "      <td>9.47</td>\n",
       "      <td>8.95</td>\n",
       "      <td>3.26</td>\n",
       "      <td>81.15</td>\n",
       "      <td>9.710000e+11</td>\n",
       "      <td>1.044000e+12</td>\n",
       "      <td>6.6</td>\n",
       "      <td>-0.1</td>\n",
       "      <td>12962065.0</td>\n",
       "      <td>57200000.0</td>\n",
       "      <td>4.7</td>\n",
       "    </tr>\n",
       "    <tr>\n",
       "      <th>158</th>\n",
       "      <td>Mexico</td>\n",
       "      <td>1972550</td>\n",
       "      <td>1.062029e+08</td>\n",
       "      <td>21.01</td>\n",
       "      <td>4.73</td>\n",
       "      <td>20.91</td>\n",
       "      <td>75.19</td>\n",
       "      <td>1.897000e+11</td>\n",
       "      <td>2.036000e+11</td>\n",
       "      <td>3.8</td>\n",
       "      <td>5.4</td>\n",
       "      <td>1333406.0</td>\n",
       "      <td>10033000.0</td>\n",
       "      <td>3.2</td>\n",
       "    </tr>\n",
       "    <tr>\n",
       "      <th>177</th>\n",
       "      <td>Nigeria</td>\n",
       "      <td>923768</td>\n",
       "      <td>1.287720e+08</td>\n",
       "      <td>40.65</td>\n",
       "      <td>17.18</td>\n",
       "      <td>98.80</td>\n",
       "      <td>46.74</td>\n",
       "      <td>1.843000e+10</td>\n",
       "      <td>1.985000e+10</td>\n",
       "      <td>1.8</td>\n",
       "      <td>16.5</td>\n",
       "      <td>1142.0</td>\n",
       "      <td>750000.0</td>\n",
       "      <td>NaN</td>\n",
       "    </tr>\n",
       "    <tr>\n",
       "      <th>183</th>\n",
       "      <td>Pakistan</td>\n",
       "      <td>803940</td>\n",
       "      <td>1.624199e+08</td>\n",
       "      <td>30.42</td>\n",
       "      <td>8.45</td>\n",
       "      <td>72.44</td>\n",
       "      <td>63.00</td>\n",
       "      <td>5.266000e+10</td>\n",
       "      <td>7.527000e+10</td>\n",
       "      <td>13.1</td>\n",
       "      <td>4.8</td>\n",
       "      <td>15124.0</td>\n",
       "      <td>1500000.0</td>\n",
       "      <td>8.3</td>\n",
       "    </tr>\n",
       "    <tr>\n",
       "      <th>198</th>\n",
       "      <td>Russia</td>\n",
       "      <td>17075200</td>\n",
       "      <td>1.434203e+08</td>\n",
       "      <td>9.80</td>\n",
       "      <td>14.52</td>\n",
       "      <td>15.39</td>\n",
       "      <td>67.10</td>\n",
       "      <td>8.943000e+11</td>\n",
       "      <td>9.150000e+11</td>\n",
       "      <td>6.4</td>\n",
       "      <td>11.5</td>\n",
       "      <td>560874.0</td>\n",
       "      <td>6000000.0</td>\n",
       "      <td>8.3</td>\n",
       "    </tr>\n",
       "    <tr>\n",
       "      <th>248</th>\n",
       "      <td>United States</td>\n",
       "      <td>9631418</td>\n",
       "      <td>2.957341e+08</td>\n",
       "      <td>14.14</td>\n",
       "      <td>8.25</td>\n",
       "      <td>6.50</td>\n",
       "      <td>77.71</td>\n",
       "      <td>3.660000e+12</td>\n",
       "      <td>3.839000e+12</td>\n",
       "      <td>4.4</td>\n",
       "      <td>2.5</td>\n",
       "      <td>115311958.0</td>\n",
       "      <td>159000000.0</td>\n",
       "      <td>5.5</td>\n",
       "    </tr>\n",
       "  </tbody>\n",
       "</table>\n",
       "</div>"
      ],
      "text/plain": [
       "              Pays  Superficie     Population  Taux_de_natalite  \\\n",
       "20      Bangladesh       144000  1.443196e+08             30.01   \n",
       "33          Brazil      8511965  1.861128e+08             16.83   \n",
       "49           China      9596960  1.306314e+09             13.14   \n",
       "112          India      3287590  1.080264e+09             22.32   \n",
       "113      Indonesia      1919440  2.419739e+08             20.71   \n",
       "121          Japan       377835  1.274172e+08              9.47   \n",
       "158         Mexico      1972550  1.062029e+08             21.01   \n",
       "177        Nigeria       923768  1.287720e+08             40.65   \n",
       "183       Pakistan       803940  1.624199e+08             30.42   \n",
       "198         Russia     17075200  1.434203e+08              9.80   \n",
       "248  United States      9631418  2.957341e+08             14.14   \n",
       "\n",
       "     Taux_de_mortalite  Taux_de_mortalite_infantile  \\\n",
       "20                8.40                        62.60   \n",
       "33                6.15                        29.61   \n",
       "49                6.94                        24.18   \n",
       "112               8.28                        56.29   \n",
       "113               6.25                        35.60   \n",
       "121               8.95                         3.26   \n",
       "158               4.73                        20.91   \n",
       "177              17.18                        98.80   \n",
       "183               8.45                        72.44   \n",
       "198              14.52                        15.39   \n",
       "248               8.25                         6.50   \n",
       "\n",
       "     Esperance_de_vie_naissance  Consommation_electricite  \\\n",
       "20                        62.08              1.530000e+10   \n",
       "33                        71.69              3.519000e+11   \n",
       "49                        72.27              1.630000e+12   \n",
       "112                       64.35              5.101000e+11   \n",
       "113                       69.57              9.235000e+10   \n",
       "121                       81.15              9.710000e+11   \n",
       "158                       75.19              1.897000e+11   \n",
       "177                       46.74              1.843000e+10   \n",
       "183                       63.00              5.266000e+10   \n",
       "198                       67.10              8.943000e+11   \n",
       "248                       77.71              3.660000e+12   \n",
       "\n",
       "     Production_electricite  Croissance_industrielle  Taux_inflation  \\\n",
       "20             1.645000e+10                      6.5             6.0   \n",
       "33             3.390000e+11                      6.0             7.6   \n",
       "49             1.910000e+12                     17.1             4.1   \n",
       "112            5.472000e+11                      7.4             4.2   \n",
       "113            1.102000e+11                     10.5             6.1   \n",
       "121            1.044000e+12                      6.6            -0.1   \n",
       "158            2.036000e+11                      3.8             5.4   \n",
       "177            1.985000e+10                      1.8            16.5   \n",
       "183            7.527000e+10                     13.1             4.8   \n",
       "198            9.150000e+11                      6.4            11.5   \n",
       "248            3.839000e+12                      4.4             2.5   \n",
       "\n",
       "     Serveurs_Internet  Utilisateurs_Internet  Taux_chomage  \n",
       "20                 1.0               243000.0          40.0  \n",
       "33           3163349.0             14300000.0          11.5  \n",
       "49            160421.0             94000000.0           9.8  \n",
       "112            86871.0             18481000.0           9.2  \n",
       "113            62036.0              8000000.0           9.2  \n",
       "121         12962065.0             57200000.0           4.7  \n",
       "158          1333406.0             10033000.0           3.2  \n",
       "177             1142.0               750000.0           NaN  \n",
       "183            15124.0              1500000.0           8.3  \n",
       "198           560874.0              6000000.0           8.3  \n",
       "248        115311958.0            159000000.0           5.5  "
      ]
     },
     "execution_count": 21,
     "metadata": {},
     "output_type": "execute_result"
    }
   ],
   "source": [
    "pays[pays['Population']>100000000]"
   ]
  },
  {
   "cell_type": "markdown",
   "id": "d870553d",
   "metadata": {},
   "source": [
    "# 19. Calculer la moyenne du taux de natalité pour les pays ayant une population supérieure à 100 milloins"
   ]
  },
  {
   "cell_type": "code",
   "execution_count": 25,
   "id": "0ec97267-15f5-43bb-93a6-c7d1a0e8164b",
   "metadata": {},
   "outputs": [
    {
     "name": "stdout",
     "output_type": "stream",
     "text": [
      "La moyenne du taux de natalité pour les pays de plus de 100M d'habitants est : 20.77\n"
     ]
    }
   ],
   "source": [
    "moyenne_taux_natalite = pays[pays['Population'] > 100000000]['Taux_de_natalite'].mean()\n",
    "print(f\"La moyenne du taux de natalité pour les pays de plus de 100M d'habitants est : {moyenne_taux_natalite:.2f}\")"
   ]
  }
 ],
 "metadata": {
  "kernelspec": {
   "display_name": "Python [conda env:base] *",
   "language": "python",
   "name": "conda-base-py"
  },
  "language_info": {
   "codemirror_mode": {
    "name": "ipython",
    "version": 3
   },
   "file_extension": ".py",
   "mimetype": "text/x-python",
   "name": "python",
   "nbconvert_exporter": "python",
   "pygments_lexer": "ipython3",
   "version": "3.13.5"
  }
 },
 "nbformat": 4,
 "nbformat_minor": 5
}
