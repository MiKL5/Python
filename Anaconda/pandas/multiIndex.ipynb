{
 "cells": [
  {
   "cell_type": "code",
   "execution_count": 1,
   "id": "59869c28-5cde-447d-8830-3183a1a62293",
   "metadata": {},
   "outputs": [],
   "source": [
    "import numpy  as np\n",
    "import pandas as pd"
   ]
  },
  {
   "cell_type": "markdown",
   "id": "a75767f3-b4d4-465a-a2bc-c666745993e8",
   "metadata": {},
   "source": [
    "# **Multi index**"
   ]
  },
  {
   "cell_type": "code",
   "execution_count": 2,
   "id": "0a6ae543-4c86-4715-90ce-5cf57eb2cd9a",
   "metadata": {},
   "outputs": [
    {
     "data": {
      "text/html": [
       "<div>\n",
       "<style scoped>\n",
       "    .dataframe tbody tr th:only-of-type {\n",
       "        vertical-align: middle;\n",
       "    }\n",
       "\n",
       "    .dataframe tbody tr th {\n",
       "        vertical-align: top;\n",
       "    }\n",
       "\n",
       "    .dataframe thead th {\n",
       "        text-align: right;\n",
       "    }\n",
       "</style>\n",
       "<table border=\"1\" class=\"dataframe\">\n",
       "  <thead>\n",
       "    <tr style=\"text-align: right;\">\n",
       "      <th></th>\n",
       "      <th></th>\n",
       "      <th>data1</th>\n",
       "      <th>data2</th>\n",
       "      <th>data3</th>\n",
       "    </tr>\n",
       "  </thead>\n",
       "  <tbody>\n",
       "    <tr>\n",
       "      <th rowspan=\"3\" valign=\"top\">A</th>\n",
       "      <th>a1</th>\n",
       "      <td>0.066371</td>\n",
       "      <td>0.173038</td>\n",
       "      <td>0.167973</td>\n",
       "    </tr>\n",
       "    <tr>\n",
       "      <th>a2</th>\n",
       "      <td>0.986508</td>\n",
       "      <td>0.485303</td>\n",
       "      <td>0.442013</td>\n",
       "    </tr>\n",
       "    <tr>\n",
       "      <th>a3</th>\n",
       "      <td>0.932782</td>\n",
       "      <td>0.862712</td>\n",
       "      <td>0.606398</td>\n",
       "    </tr>\n",
       "    <tr>\n",
       "      <th rowspan=\"2\" valign=\"top\">B</th>\n",
       "      <th>b1</th>\n",
       "      <td>0.117465</td>\n",
       "      <td>0.622733</td>\n",
       "      <td>0.843704</td>\n",
       "    </tr>\n",
       "    <tr>\n",
       "      <th>b2</th>\n",
       "      <td>0.270811</td>\n",
       "      <td>0.390512</td>\n",
       "      <td>0.466162</td>\n",
       "    </tr>\n",
       "  </tbody>\n",
       "</table>\n",
       "</div>"
      ],
      "text/plain": [
       "         data1     data2     data3\n",
       "A a1  0.066371  0.173038  0.167973\n",
       "  a2  0.986508  0.485303  0.442013\n",
       "  a3  0.932782  0.862712  0.606398\n",
       "B b1  0.117465  0.622733  0.843704\n",
       "  b2  0.270811  0.390512  0.466162"
      ]
     },
     "execution_count": 2,
     "metadata": {},
     "output_type": "execute_result"
    }
   ],
   "source": [
    "df1 = pd.DataFrame(np.random.rand(5, 3),\n",
    "                   index=[['A','A','A','B','B'],['a1','a2','a3','b1','b2']],\n",
    "                   columns=['data1','data2','data3'])\n",
    "df1"
   ]
  },
  {
   "cell_type": "markdown",
   "id": "1f0bb27f-219e-4168-a914-25aa81ea04d4",
   "metadata": {},
   "source": [
    "> ## Créer un multi index depuis un série de tuples"
   ]
  },
  {
   "cell_type": "code",
   "execution_count": 3,
   "id": "63137eb9-afd3-4952-845f-16f412090db0",
   "metadata": {},
   "outputs": [
    {
     "data": {
      "text/plain": [
       "MultiIndex([('A', 'a1'),\n",
       "            ('A', 'a2'),\n",
       "            ('A', 'a3'),\n",
       "            ('B', 'b1'),\n",
       "            ('B', 'b2')],\n",
       "           )"
      ]
     },
     "execution_count": 3,
     "metadata": {},
     "output_type": "execute_result"
    }
   ],
   "source": [
    "groupe       = ['A','A','A','B','B']\n",
    "sous_groupe  = ['a1','a2','a3','b1','b2']\n",
    "couples      = list(zip(groupe,sous_groupe))\n",
    "\n",
    "# Hiérarchiser les index\n",
    "couple_index = pd.MultiIndex.from_tuples(couples)\n",
    "couple_index"
   ]
  },
  {
   "cell_type": "code",
   "execution_count": 4,
   "id": "1686362e-de6a-421b-8a5a-8539ce1607e4",
   "metadata": {},
   "outputs": [
    {
     "data": {
      "text/html": [
       "<div>\n",
       "<style scoped>\n",
       "    .dataframe tbody tr th:only-of-type {\n",
       "        vertical-align: middle;\n",
       "    }\n",
       "\n",
       "    .dataframe tbody tr th {\n",
       "        vertical-align: top;\n",
       "    }\n",
       "\n",
       "    .dataframe thead th {\n",
       "        text-align: right;\n",
       "    }\n",
       "</style>\n",
       "<table border=\"1\" class=\"dataframe\">\n",
       "  <thead>\n",
       "    <tr style=\"text-align: right;\">\n",
       "      <th></th>\n",
       "      <th></th>\n",
       "      <th>data1</th>\n",
       "      <th>data2</th>\n",
       "      <th>data3</th>\n",
       "    </tr>\n",
       "  </thead>\n",
       "  <tbody>\n",
       "    <tr>\n",
       "      <th rowspan=\"3\" valign=\"top\">A</th>\n",
       "      <th>a1</th>\n",
       "      <td>0.645799</td>\n",
       "      <td>0.282491</td>\n",
       "      <td>0.076509</td>\n",
       "    </tr>\n",
       "    <tr>\n",
       "      <th>a2</th>\n",
       "      <td>0.144593</td>\n",
       "      <td>0.872574</td>\n",
       "      <td>0.767155</td>\n",
       "    </tr>\n",
       "    <tr>\n",
       "      <th>a3</th>\n",
       "      <td>0.041731</td>\n",
       "      <td>0.161029</td>\n",
       "      <td>0.754832</td>\n",
       "    </tr>\n",
       "    <tr>\n",
       "      <th rowspan=\"2\" valign=\"top\">B</th>\n",
       "      <th>b1</th>\n",
       "      <td>0.441864</td>\n",
       "      <td>0.881267</td>\n",
       "      <td>0.191041</td>\n",
       "    </tr>\n",
       "    <tr>\n",
       "      <th>b2</th>\n",
       "      <td>0.994953</td>\n",
       "      <td>0.098981</td>\n",
       "      <td>0.058214</td>\n",
       "    </tr>\n",
       "  </tbody>\n",
       "</table>\n",
       "</div>"
      ],
      "text/plain": [
       "         data1     data2     data3\n",
       "A a1  0.645799  0.282491  0.076509\n",
       "  a2  0.144593  0.872574  0.767155\n",
       "  a3  0.041731  0.161029  0.754832\n",
       "B b1  0.441864  0.881267  0.191041\n",
       "  b2  0.994953  0.098981  0.058214"
      ]
     },
     "execution_count": 4,
     "metadata": {},
     "output_type": "execute_result"
    }
   ],
   "source": [
    "df2 = pd.DataFrame(np.random.rand(5, 3),\n",
    "                   couple_index,\n",
    "                   ['data1','data2','data3'])\n",
    "df2"
   ]
  }
 ],
 "metadata": {
  "kernelspec": {
   "display_name": "Python [conda env:base] *",
   "language": "python",
   "name": "conda-base-py"
  },
  "language_info": {
   "codemirror_mode": {
    "name": "ipython",
    "version": 3
   },
   "file_extension": ".py",
   "mimetype": "text/x-python",
   "name": "python",
   "nbconvert_exporter": "python",
   "pygments_lexer": "ipython3",
   "version": "3.13.5"
  }
 },
 "nbformat": 4,
 "nbformat_minor": 5
}
