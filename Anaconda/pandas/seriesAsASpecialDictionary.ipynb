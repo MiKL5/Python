{
 "cells": [
  {
   "cell_type": "code",
   "execution_count": 1,
   "id": "2c7b9c82-3a69-4b01-b081-a43377660532",
   "metadata": {},
   "outputs": [],
   "source": [
    "import numpy  as np\n",
    "import pandas as pd"
   ]
  },
  {
   "cell_type": "markdown",
   "id": "ecaeb180-07ff-4840-8027-3227f8b2e670",
   "metadata": {},
   "source": [
    "# **La série comme dictionnaire spécial**"
   ]
  },
  {
   "cell_type": "markdown",
   "id": "17f4e210-b83f-4973-8900-f37a0a140506",
   "metadata": {},
   "source": [
    "C'est analogue à la spécialisation d'un dictionnaire Python.  \n",
    "Python utilise des clés.  \n",
    "Pandas utilise des indices, pouvant être appelés étiquettes."
   ]
  },
  {
   "cell_type": "code",
   "execution_count": 2,
   "id": "347ea372-4c76-4569-90c5-c495c24e96a7",
   "metadata": {},
   "outputs": [
    {
     "data": {
      "text/plain": [
       "Christophe       17.0\n",
       "Carla             6.0\n",
       "Caroine          20.0\n",
       "Jean-Baptiste     2.0\n",
       "Florence         15.5\n",
       "Emma             19.0\n",
       "dtype: float64"
      ]
     },
     "execution_count": 2,
     "metadata": {},
     "output_type": "execute_result"
    }
   ],
   "source": [
    "# Créer le dictionnaire `{}` de maths\n",
    "notes_maths = {\"Christophe\": 17 , \"Carla\": 6 , \"Caroine\": 20, \"Jean-Baptiste\": 2 , \"Florence\": 15.5 , \"Emma\": 19}\n",
    "maths_notes = pd.Series(notes_maths)\n",
    "maths_notes                           # Les prénoms sont les étiquettes"
   ]
  },
  {
   "cell_type": "code",
   "execution_count": 4,
   "id": "f1137c34-a239-41cc-bc54-8f57a6924430",
   "metadata": {},
   "outputs": [
    {
     "data": {
      "text/plain": [
       "Caroine    20.0\n",
       "Emma       19.0\n",
       "dtype: float64"
      ]
     },
     "execution_count": 4,
     "metadata": {},
     "output_type": "execute_result"
    }
   ],
   "source": [
    "# Quelle est la notes de Caro et d'Emma\n",
    "notes_caro_emma = maths_notes[[\"Caroine\" , \"Emma\"]]\n",
    "notes_caro_emma"
   ]
  },
  {
   "cell_type": "code",
   "execution_count": 5,
   "id": "0740695c-4fda-4824-af75-8fb71fe31f5c",
   "metadata": {},
   "outputs": [
    {
     "data": {
      "text/plain": [
       "Jean-Baptiste    2.0\n",
       "Carla            6.0\n",
       "dtype: float64"
      ]
     },
     "execution_count": 5,
     "metadata": {},
     "output_type": "execute_result"
    }
   ],
   "source": [
    "deux_pires_notes = maths_notes.nsmallest(2)\n",
    "deux_pires_notes"
   ]
  },
  {
   "cell_type": "code",
   "execution_count": 6,
   "id": "9628a354-3f5c-444c-88f3-793298afcc11",
   "metadata": {},
   "outputs": [
    {
     "data": {
      "text/plain": [
       "20.0"
      ]
     },
     "execution_count": 6,
     "metadata": {},
     "output_type": "execute_result"
    }
   ],
   "source": [
    "meilleure_note = maths_notes.max()\n",
    "meilleure_note"
   ]
  },
  {
   "cell_type": "code",
   "execution_count": 7,
   "id": "8113d36a-2fa0-42c0-b262-c04624868672",
   "metadata": {},
   "outputs": [
    {
     "name": "stdout",
     "output_type": "stream",
     "text": [
      "Félicitations Caroine, tu as eu 20.0 en maths !\n"
     ]
    }
   ],
   "source": [
    "# La meilleure note plus un message\n",
    "meilleure_note = maths_notes.idxmax()\n",
    "print(f\"Félicitations {meilleure_note}, tu as eu {maths_notes[meilleure_note]} en maths !\")"
   ]
  },
  {
   "cell_type": "code",
   "execution_count": 8,
   "id": "37bfd29e-67fc-4a38-8238-c24f6156ee93",
   "metadata": {},
   "outputs": [],
   "source": [
    "# Idem avec la note en int"
   ]
  },
  {
   "cell_type": "code",
   "execution_count": 9,
   "id": "fd886da0-7642-4bfe-9f01-8e650dc28670",
   "metadata": {},
   "outputs": [
    {
     "name": "stdout",
     "output_type": "stream",
     "text": [
      "Félicitations Caroine, tu as eu 20 en maths !\n"
     ]
    }
   ],
   "source": [
    "meilleure_note = maths_notes.idxmax()\n",
    "note_entier = int(maths_notes[meilleure_note])\n",
    "print(f\"Félicitations {meilleure_note}, tu as eu {note_entier} en maths !\")"
   ]
  },
  {
   "cell_type": "code",
   "execution_count": 10,
   "id": "913ac8f3-6c97-4c1c-b007-6aa4605c7740",
   "metadata": {},
   "outputs": [
    {
     "data": {
      "text/plain": [
       "Christophe    17.0\n",
       "Caroine       20.0\n",
       "Florence      15.5\n",
       "Emma          19.0\n",
       "dtype: float64"
      ]
     },
     "execution_count": 10,
     "metadata": {},
     "output_type": "execute_result"
    }
   ],
   "source": [
    "# Crééer une série des notes supéreiures à 15\n",
    "notes_sup_15 = maths_notes[maths_notes > 15]\n",
    "notes_sup_15"
   ]
  },
  {
   "cell_type": "code",
   "execution_count": 11,
   "id": "5051354a-60ab-4e52-b8d2-0fd20d828d5f",
   "metadata": {},
   "outputs": [],
   "source": [
    "# Idem dans l'ordre croissant des notes"
   ]
  },
  {
   "cell_type": "code",
   "execution_count": 12,
   "id": "79c02370-f99e-48a6-a703-77a383f19461",
   "metadata": {},
   "outputs": [
    {
     "data": {
      "text/plain": [
       "Florence      15.5\n",
       "Christophe    17.0\n",
       "Emma          19.0\n",
       "Caroine       20.0\n",
       "dtype: float64"
      ]
     },
     "execution_count": 12,
     "metadata": {},
     "output_type": "execute_result"
    }
   ],
   "source": [
    "notes_sup_15_asc = maths_notes[maths_notes > 15].sort_values()\n",
    "notes_sup_15_asc"
   ]
  },
  {
   "cell_type": "code",
   "execution_count": 14,
   "id": "a6a8714a-3db8-4e4f-8b58-17f6fce04f5e",
   "metadata": {},
   "outputs": [],
   "source": [
    "notes_inverse_prenoms = maths_notes.sort_index(ascending=False)"
   ]
  },
  {
   "cell_type": "code",
   "execution_count": 15,
   "id": "eaf33514-eaef-45de-a8cd-3b2efe974b83",
   "metadata": {},
   "outputs": [
    {
     "data": {
      "text/plain": [
       "Jean-Baptiste     2.0\n",
       "Florence         15.5\n",
       "Emma             19.0\n",
       "Christophe       17.0\n",
       "Caroine          20.0\n",
       "Carla             6.0\n",
       "dtype: float64"
      ]
     },
     "execution_count": 15,
     "metadata": {},
     "output_type": "execute_result"
    }
   ],
   "source": [
    "notes_inverse_prenoms"
   ]
  },
  {
   "cell_type": "code",
   "execution_count": null,
   "id": "7a687e78-d150-42b3-b891-4c943b1a36c5",
   "metadata": {},
   "outputs": [],
   "source": []
  }
 ],
 "metadata": {
  "kernelspec": {
   "display_name": "Python [conda env:base] *",
   "language": "python",
   "name": "conda-base-py"
  },
  "language_info": {
   "codemirror_mode": {
    "name": "ipython",
    "version": 3
   },
   "file_extension": ".py",
   "mimetype": "text/x-python",
   "name": "python",
   "nbconvert_exporter": "python",
   "pygments_lexer": "ipython3",
   "version": "3.13.5"
  }
 },
 "nbformat": 4,
 "nbformat_minor": 5
}
