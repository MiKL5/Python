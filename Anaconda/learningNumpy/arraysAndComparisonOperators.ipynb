{
 "cells": [
  {
   "cell_type": "code",
   "execution_count": 1,
   "id": "96b71226-8cde-467b-91d5-a9e3e86779ed",
   "metadata": {},
   "outputs": [],
   "source": [
    "import numpy as np"
   ]
  },
  {
   "cell_type": "markdown",
   "id": "b6057eeb-c3cf-4524-ac72-5b5c36922049",
   "metadata": {},
   "source": [
    "# **Les opérateurs de comparaison avec les tableaux**"
   ]
  },
  {
   "cell_type": "markdown",
   "id": "541b6e40-e586-4376-af56-4270726f1578",
   "metadata": {},
   "source": [
    "## Avec un vecteur"
   ]
  },
  {
   "cell_type": "code",
   "execution_count": 2,
   "id": "05ff382e-3834-4f57-b5bb-976a1a0a86a6",
   "metadata": {},
   "outputs": [],
   "source": [
    "vecteur = np.arange(1,15)"
   ]
  },
  {
   "cell_type": "code",
   "execution_count": 3,
   "id": "d938681f-7ad7-4017-b599-e80da082608a",
   "metadata": {},
   "outputs": [
    {
     "data": {
      "text/plain": [
       "array([ 1,  2,  3,  4,  5,  6,  7,  8,  9, 10, 11, 12, 13, 14])"
      ]
     },
     "execution_count": 3,
     "metadata": {},
     "output_type": "execute_result"
    }
   ],
   "source": [
    "vecteur"
   ]
  },
  {
   "cell_type": "code",
   "execution_count": 4,
   "id": "6e34fa83-8764-4395-9617-3f3c1a9efdf5",
   "metadata": {},
   "outputs": [
    {
     "data": {
      "text/plain": [
       "array([False, False, False, False, False, False, False, False, False,\n",
       "       False,  True,  True,  True,  True])"
      ]
     },
     "execution_count": 4,
     "metadata": {},
     "output_type": "execute_result"
    }
   ],
   "source": [
    "vecteur > 10 # répond True ou False"
   ]
  },
  {
   "cell_type": "code",
   "execution_count": 5,
   "id": "0e45e377-21ba-4c39-ac13-446985e21c44",
   "metadata": {},
   "outputs": [
    {
     "data": {
      "text/plain": [
       "array([False, False, False, False, False, False, False, False, False,\n",
       "       False,  True,  True,  True,  True])"
      ]
     },
     "execution_count": 5,
     "metadata": {},
     "output_type": "execute_result"
    }
   ],
   "source": [
    "# qu'est ce que ça donne dans une variable ?\n",
    "condition = vecteur > 10\n",
    "condition                # idem"
   ]
  },
  {
   "cell_type": "code",
   "execution_count": 6,
   "id": "c49f4eb0-2f41-42dd-8a3d-cfe7ef6ba73e",
   "metadata": {},
   "outputs": [
    {
     "data": {
      "text/plain": [
       "array([11, 12, 13, 14])"
      ]
     },
     "execution_count": 6,
     "metadata": {},
     "output_type": "execute_result"
    }
   ],
   "source": [
    "# et là\n",
    "vecteur[condition]"
   ]
  },
  {
   "cell_type": "code",
   "execution_count": 7,
   "id": "f59306ce-f2c5-4afd-b7e5-29a90859a8d4",
   "metadata": {},
   "outputs": [
    {
     "data": {
      "text/plain": [
       "array([11, 12, 13, 14])"
      ]
     },
     "execution_count": 7,
     "metadata": {},
     "output_type": "execute_result"
    }
   ],
   "source": [
    "# plus simple et plus court\n",
    "vecteur[vecteur > 10]"
   ]
  },
  {
   "cell_type": "markdown",
   "id": "573f20cc-beb2-4cbc-ab67-5681dd21ec95",
   "metadata": {},
   "source": [
    "## Avec une matrice"
   ]
  },
  {
   "cell_type": "code",
   "execution_count": 8,
   "id": "d1e42655-b84e-45bd-9246-29aaf793674f",
   "metadata": {},
   "outputs": [
    {
     "data": {
      "text/plain": [
       "array([[ 0,  1,  2,  3,  4,  5],\n",
       "       [ 6,  7,  8,  9, 10, 11],\n",
       "       [12, 13, 14, 15, 16, 17],\n",
       "       [18, 19, 20, 21, 22, 23],\n",
       "       [24, 25, 26, 27, 28, 29]])"
      ]
     },
     "execution_count": 8,
     "metadata": {},
     "output_type": "execute_result"
    }
   ],
   "source": [
    "matrice = np.arange(30).reshape(5,6)\n",
    "matrice"
   ]
  },
  {
   "cell_type": "code",
   "execution_count": 9,
   "id": "33a2bc09-1d3b-432a-8a35-5b63157bddf6",
   "metadata": {},
   "outputs": [
    {
     "data": {
      "text/plain": [
       "array([[False, False, False, False, False, False],\n",
       "       [False, False, False,  True,  True,  True],\n",
       "       [ True,  True,  True,  True,  True,  True],\n",
       "       [ True,  True,  True,  True,  True,  True],\n",
       "       [ True,  True,  True,  True,  True,  True]])"
      ]
     },
     "execution_count": 9,
     "metadata": {},
     "output_type": "execute_result"
    }
   ],
   "source": [
    "matrice > 8 # False et True"
   ]
  },
  {
   "cell_type": "markdown",
   "id": "ea291e76-5461-41c3-84f0-6f540b9de0a9",
   "metadata": {},
   "source": [
    "La réponse de la matrice est unidimensionnelle"
   ]
  },
  {
   "cell_type": "code",
   "execution_count": 10,
   "id": "39bb3b62-5d41-4b69-ace4-974630c4e891",
   "metadata": {},
   "outputs": [
    {
     "data": {
      "text/plain": [
       "array([ 9, 10, 11, 12, 13, 14, 15, 16, 17, 18, 19, 20, 21, 22, 23, 24, 25,\n",
       "       26, 27, 28, 29])"
      ]
     },
     "execution_count": 10,
     "metadata": {},
     "output_type": "execute_result"
    }
   ],
   "source": [
    "matrice[matrice > 8]"
   ]
  },
  {
   "cell_type": "code",
   "execution_count": 11,
   "id": "2bc1923d-615b-4767-ad7c-6146775cd440",
   "metadata": {},
   "outputs": [
    {
     "data": {
      "text/plain": [
       "array([ 0,  1,  2,  3,  4,  5,  6,  7,  8,  9, 10, 11, 12, 13, 14, 15, 16,\n",
       "       17, 18, 19])"
      ]
     },
     "execution_count": 11,
     "metadata": {},
     "output_type": "execute_result"
    }
   ],
   "source": [
    "matrice[matrice < 20]"
   ]
  },
  {
   "cell_type": "code",
   "execution_count": 13,
   "id": "cc6244d8-a114-48d0-99bb-3e6caebbd0cf",
   "metadata": {},
   "outputs": [
    {
     "data": {
      "text/plain": [
       "array([0])"
      ]
     },
     "execution_count": 13,
     "metadata": {},
     "output_type": "execute_result"
    }
   ],
   "source": [
    "matrice[matrice == 0]"
   ]
  },
  {
   "cell_type": "code",
   "execution_count": 14,
   "id": "40b54aaa-0bb7-4257-90e2-870d52d0bf63",
   "metadata": {},
   "outputs": [
    {
     "data": {
      "text/plain": [
       "array([], dtype=int64)"
      ]
     },
     "execution_count": 14,
     "metadata": {},
     "output_type": "execute_result"
    }
   ],
   "source": [
    "matrice[matrice == 30]"
   ]
  },
  {
   "cell_type": "code",
   "execution_count": 15,
   "id": "a157cd31-2513-48b5-b218-e49eabc3499b",
   "metadata": {},
   "outputs": [
    {
     "data": {
      "text/plain": [
       "array([29])"
      ]
     },
     "execution_count": 15,
     "metadata": {},
     "output_type": "execute_result"
    }
   ],
   "source": [
    "matrice[matrice == 29]"
   ]
  },
  {
   "cell_type": "code",
   "execution_count": 16,
   "id": "bea6da8b-0fb5-486b-9d5d-cd9b9d2e3aaf",
   "metadata": {},
   "outputs": [
    {
     "data": {
      "text/plain": [
       "array([0, 1, 2, 3, 4, 5, 6])"
      ]
     },
     "execution_count": 16,
     "metadata": {},
     "output_type": "execute_result"
    }
   ],
   "source": [
    "matrice[matrice <= 6]"
   ]
  },
  {
   "cell_type": "code",
   "execution_count": 17,
   "id": "92a53a59-5cd1-4939-8988-30ddc9b63847",
   "metadata": {},
   "outputs": [
    {
     "data": {
      "text/plain": [
       "array([ 6,  7,  8,  9, 10, 11, 12, 13, 14, 15, 16, 17, 18, 19, 20, 21, 22,\n",
       "       23, 24, 25, 26, 27, 28, 29])"
      ]
     },
     "execution_count": 17,
     "metadata": {},
     "output_type": "execute_result"
    }
   ],
   "source": [
    "# idem en >=\n",
    "matrice[matrice >= 6]"
   ]
  },
  {
   "cell_type": "code",
   "execution_count": 18,
   "id": "c1a91c54-f58f-450a-9a93-6726d274213f",
   "metadata": {},
   "outputs": [
    {
     "data": {
      "text/plain": [
       "array([[False, False, False, False, False, False],\n",
       "       [False, False, False, False, False, False],\n",
       "       [ True, False,  True, False,  True, False],\n",
       "       [ True, False,  True, False,  True, False],\n",
       "       [ True, False,  True, False,  True, False]])"
      ]
     },
     "execution_count": 18,
     "metadata": {},
     "output_type": "execute_result"
    }
   ],
   "source": [
    "# Ce qui es supérieur à 10 et divisible par 2\n",
    "(matrice > 10) & (matrice % 2 == 0)"
   ]
  },
  {
   "cell_type": "code",
   "execution_count": 23,
   "id": "ab19628f-db7b-4516-82b2-280b5dec6842",
   "metadata": {},
   "outputs": [
    {
     "name": "stdout",
     "output_type": "stream",
     "text": [
      "<class 'list'>\n"
     ]
    }
   ],
   "source": [
    "print(type(matrice))"
   ]
  },
  {
   "cell_type": "code",
   "execution_count": 26,
   "id": "25c9a53d-46f0-414d-93b4-332661c830c5",
   "metadata": {},
   "outputs": [
    {
     "data": {
      "text/plain": [
       "array([[ 0,  1,  2,  3,  4,  5],\n",
       "       [ 6,  7,  8,  9, 10, 11],\n",
       "       [12, 13, 14, 15, 16, 17],\n",
       "       [18, 19, 20, 21, 22, 23],\n",
       "       [24, 25, 26, 27, 28, 29]])"
      ]
     },
     "execution_count": 26,
     "metadata": {},
     "output_type": "execute_result"
    }
   ],
   "source": [
    "matrice = np.arange(30).reshape(5, 6)\n",
    "matrice"
   ]
  },
  {
   "cell_type": "code",
   "execution_count": 27,
   "id": "12ad7dc3-6390-4cb1-af3c-af7b6a1b49cb",
   "metadata": {},
   "outputs": [
    {
     "data": {
      "text/plain": [
       "array([12, 14, 16, 18, 20, 22, 24, 26, 28])"
      ]
     },
     "execution_count": 27,
     "metadata": {},
     "output_type": "execute_result"
    }
   ],
   "source": [
    "matrice[(matrice > 10) & (matrice % 2 == 0)]"
   ]
  },
  {
   "cell_type": "code",
   "execution_count": 28,
   "id": "6c4efdbe-7d35-4ede-86a8-b5a4f99371cc",
   "metadata": {},
   "outputs": [
    {
     "data": {
      "text/plain": [
       "array([ 1,  3,  5,  7,  9, 11, 13, 15, 16, 17, 18, 19, 20, 21, 22, 23, 24,\n",
       "       25, 26, 27, 28, 29])"
      ]
     },
     "execution_count": 28,
     "metadata": {},
     "output_type": "execute_result"
    }
   ],
   "source": [
    "matrice[(matrice > 15) | (matrice % 2 == 1)]"
   ]
  },
  {
   "cell_type": "markdown",
   "id": "15eaa35d-4e1e-4e2a-98aa-1fb042225a81",
   "metadata": {},
   "source": [
    "Les conditions font avec le ou logique que les nombres supérieurs à 15 sont affichés."
   ]
  },
  {
   "cell_type": "markdown",
   "id": "03a60b90-2e54-4d22-9edd-4234acc278c9",
   "metadata": {},
   "source": [
    "Le nombre de conditions est illimité."
   ]
  }
 ],
 "metadata": {
  "kernelspec": {
   "display_name": "Python [conda env:base] *",
   "language": "python",
   "name": "conda-base-py"
  },
  "language_info": {
   "codemirror_mode": {
    "name": "ipython",
    "version": 3
   },
   "file_extension": ".py",
   "mimetype": "text/x-python",
   "name": "python",
   "nbconvert_exporter": "python",
   "pygments_lexer": "ipython3",
   "version": "3.13.5"
  }
 },
 "nbformat": 4,
 "nbformat_minor": 5
}
