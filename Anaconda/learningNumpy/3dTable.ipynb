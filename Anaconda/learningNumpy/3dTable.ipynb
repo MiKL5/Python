{
 "cells": [
  {
   "cell_type": "markdown",
   "id": "5f503340-848c-4954-a0d0-05dd2a69538e",
   "metadata": {},
   "source": [
    " # **Création d'un tableau à 3 dimensions**"
   ]
  },
  {
   "cell_type": "code",
   "execution_count": 1,
   "id": "00dfac2f-dbe9-4b46-9a0d-13c705e7a08b",
   "metadata": {},
   "outputs": [],
   "source": [
    "import numpy as np"
   ]
  },
  {
   "cell_type": "code",
   "execution_count": 2,
   "id": "08bf4173-1cf6-4d79-a826-7dcc4da1556e",
   "metadata": {},
   "outputs": [],
   "source": [
    "liste_liste_liste = [[[1 , 2] , [3 , 4]] , [[5 , 6] , [7 , 8]]]"
   ]
  },
  {
   "cell_type": "code",
   "execution_count": 3,
   "id": "74ef038d-b5d2-4830-81bc-3fec03fbe137",
   "metadata": {},
   "outputs": [],
   "source": [
    "tab3d = np.array(liste_liste_liste)"
   ]
  },
  {
   "cell_type": "code",
   "execution_count": 4,
   "id": "cbd8ad9d-0854-4af7-81cd-5710863c5d19",
   "metadata": {},
   "outputs": [
    {
     "data": {
      "text/plain": [
       "array([[[1, 2],\n",
       "        [3, 4]],\n",
       "\n",
       "       [[5, 6],\n",
       "        [7, 8]]])"
      ]
     },
     "execution_count": 4,
     "metadata": {},
     "output_type": "execute_result"
    }
   ],
   "source": [
    "tab3d"
   ]
  },
  {
   "cell_type": "markdown",
   "id": "2f258fec-d9fa-4d4a-b22c-5de973ff00a7",
   "metadata": {},
   "source": [
    "C'est une liste à deux listes, voire plus"
   ]
  },
  {
   "cell_type": "code",
   "execution_count": null,
   "id": "b0c7af5f-65e1-4dc8-8e57-98073dd8d818",
   "metadata": {},
   "outputs": [],
   "source": []
  }
 ],
 "metadata": {
  "kernelspec": {
   "display_name": "Python [conda env:base] *",
   "language": "python",
   "name": "conda-base-py"
  },
  "language_info": {
   "codemirror_mode": {
    "name": "ipython",
    "version": 3
   },
   "file_extension": ".py",
   "mimetype": "text/x-python",
   "name": "python",
   "nbconvert_exporter": "python",
   "pygments_lexer": "ipython3",
   "version": "3.13.5"
  }
 },
 "nbformat": 4,
 "nbformat_minor": 5
}
