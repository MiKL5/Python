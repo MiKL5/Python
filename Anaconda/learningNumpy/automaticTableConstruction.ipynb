{
 "cells": [
  {
   "cell_type": "code",
   "execution_count": 1,
   "id": "ca1f011e-dde5-41e5-9de9-6bb46e6e0ce4",
   "metadata": {},
   "outputs": [],
   "source": [
    "import numpy as np"
   ]
  },
  {
   "cell_type": "markdown",
   "id": "fd7de77a-fb9d-442e-8dda-cc372ff9ef75",
   "metadata": {},
   "source": [
    "# **Construction automatique de tableau**"
   ]
  },
  {
   "cell_type": "markdown",
   "id": "9bc505a7-c0eb-4ddf-addf-aba1f29dd282",
   "metadata": {},
   "source": [
    "## _Création d'un vecteur nul_"
   ]
  },
  {
   "cell_type": "code",
   "execution_count": 2,
   "id": "703be209-3c21-43eb-9bc0-a27858aa4408",
   "metadata": {},
   "outputs": [
    {
     "data": {
      "text/plain": [
       "array([0., 0., 0., 0., 0.])"
      ]
     },
     "execution_count": 2,
     "metadata": {},
     "output_type": "execute_result"
    }
   ],
   "source": [
    "np.zeros(5)"
   ]
  },
  {
   "cell_type": "markdown",
   "id": "4245b433-e06a-4c14-b042-78e1575dab3b",
   "metadata": {},
   "source": [
    "## _Matrice nule_"
   ]
  },
  {
   "cell_type": "code",
   "execution_count": 3,
   "id": "cd10737d-dd86-4a40-8b4c-590b1c3af9a4",
   "metadata": {},
   "outputs": [
    {
     "data": {
      "text/plain": [
       "array([[0., 0., 0.],\n",
       "       [0., 0., 0.],\n",
       "       [0., 0., 0.]])"
      ]
     },
     "execution_count": 3,
     "metadata": {},
     "output_type": "execute_result"
    }
   ],
   "source": [
    "np.zeros((3,3))"
   ]
  },
  {
   "cell_type": "markdown",
   "id": "49417f70-5d15-4963-8d2c-33481b6caa90",
   "metadata": {},
   "source": [
    "## _Tous les nombres égaux_"
   ]
  },
  {
   "cell_type": "code",
   "execution_count": 5,
   "id": "16b7537c-e112-4b89-b170-fd88d319fdc4",
   "metadata": {},
   "outputs": [
    {
     "data": {
      "text/plain": [
       "array([1., 1., 1., 1., 1., 1., 1., 1., 1., 1.])"
      ]
     },
     "execution_count": 5,
     "metadata": {},
     "output_type": "execute_result"
    }
   ],
   "source": [
    "np.ones(10)"
   ]
  },
  {
   "cell_type": "code",
   "execution_count": 6,
   "id": "7313ca57-0834-4835-ab84-3f31f0ae14ce",
   "metadata": {},
   "outputs": [
    {
     "data": {
      "text/plain": [
       "array([[1., 1., 1.],\n",
       "       [1., 1., 1.],\n",
       "       [1., 1., 1.]])"
      ]
     },
     "execution_count": 6,
     "metadata": {},
     "output_type": "execute_result"
    }
   ],
   "source": [
    "np.ones((3,3))"
   ]
  },
  {
   "cell_type": "code",
   "execution_count": 7,
   "id": "74ce865e-8d1a-42a7-8b1b-904f998e093e",
   "metadata": {},
   "outputs": [
    {
     "data": {
      "text/plain": [
       "array([[1, 1, 1],\n",
       "       [1, 1, 1],\n",
       "       [1, 1, 1]])"
      ]
     },
     "execution_count": 7,
     "metadata": {},
     "output_type": "execute_result"
    }
   ],
   "source": [
    "np.ones((3,3),int) # Les nombres sont entiers"
   ]
  },
  {
   "cell_type": "code",
   "execution_count": 9,
   "id": "0dfe8333-8049-426f-ad7f-232ff83e1707",
   "metadata": {},
   "outputs": [
    {
     "data": {
      "text/plain": [
       "array([[2, 2],\n",
       "       [2, 2]])"
      ]
     },
     "execution_count": 9,
     "metadata": {},
     "output_type": "execute_result"
    }
   ],
   "source": [
    "# une matrice de 2 lignes et colonnes dont les 2 qont entiers\n",
    "np.full((2,2), 2, int)"
   ]
  },
  {
   "cell_type": "code",
   "execution_count": 11,
   "id": "ad4e56c1-df59-489f-bfc9-cec15e7ecba2",
   "metadata": {},
   "outputs": [
    {
     "data": {
      "text/plain": [
       "array([[9.99, 9.99],\n",
       "       [9.99, 9.99]])"
      ]
     },
     "execution_count": 11,
     "metadata": {},
     "output_type": "execute_result"
    }
   ],
   "source": [
    "# une matrice avec des décimaux\n",
    "np.full((2,2), 9.99, float)"
   ]
  },
  {
   "cell_type": "markdown",
   "id": "9a0a0477-0a60-4313-825f-42fbbaad4e80",
   "metadata": {},
   "source": [
    "## _Matrice identité_"
   ]
  },
  {
   "cell_type": "code",
   "execution_count": 13,
   "id": "8ad281d3-522e-4616-b5b4-ce8806567750",
   "metadata": {},
   "outputs": [
    {
     "data": {
      "text/plain": [
       "array([[1., 0., 0., 0.],\n",
       "       [0., 1., 0., 0.],\n",
       "       [0., 0., 1., 0.],\n",
       "       [0., 0., 0., 1.]])"
      ]
     },
     "execution_count": 13,
     "metadata": {},
     "output_type": "execute_result"
    }
   ],
   "source": [
    "# Toutes les valeurs en diagonale sont 1, qui est carée\n",
    "np.eye(4)"
   ]
  },
  {
   "cell_type": "markdown",
   "id": "688a3a38-8e6c-4c58-bd4e-5d0c335b70e8",
   "metadata": {},
   "source": [
    "###### _**La matrice identité est carrée, donc ne prend qu'un argument**_"
   ]
  },
  {
   "cell_type": "markdown",
   "id": "31c99e95-7de3-4a06-ac64-4322a901b33d",
   "metadata": {},
   "source": [
    "## _Matrice de nombres aléatoires_"
   ]
  },
  {
   "cell_type": "markdown",
   "id": "633aef40-f062-4c7b-b7d2-bee388111fc0",
   "metadata": {},
   "source": [
    "### _La fonction diag_\n",
    "diag(tab , k)  \n",
    "\"k\"   est la diagonale principale.  \n",
    "\"k0\"  milieu.  \n",
    "\"k2\"  la deuxième au-dessus.  \n",
    "\"k-4\" la quatrième en dessous  \n",
    "La valeur \"k\" est un entier optionnel.  \n",
    "Par défaut \"k\" vaut 0."
   ]
  },
  {
   "cell_type": "code",
   "execution_count": 15,
   "id": "47bb5ee8-f3d1-4688-8cbd-189d5275cdb7",
   "metadata": {},
   "outputs": [
    {
     "data": {
      "text/plain": [
       "array([[ 1,  2,  3,  4],\n",
       "       [ 5,  6,  7,  8],\n",
       "       [ 9, 10, 11, 12],\n",
       "       [13, 14, 15, 16]])"
      ]
     },
     "execution_count": 15,
     "metadata": {},
     "output_type": "execute_result"
    }
   ],
   "source": [
    "matrice = np.arange(1,17).reshape(4,4)\n",
    "matrice"
   ]
  },
  {
   "cell_type": "code",
   "execution_count": 16,
   "id": "a44a05ec-5e36-48f9-ae75-8463940e96f0",
   "metadata": {},
   "outputs": [
    {
     "data": {
      "text/plain": [
       "array([ 1,  6, 11, 16])"
      ]
     },
     "execution_count": 16,
     "metadata": {},
     "output_type": "execute_result"
    }
   ],
   "source": [
    "# Récupérer la valeur k par défaut\n",
    "np.diag(matrice)"
   ]
  },
  {
   "cell_type": "code",
   "execution_count": 17,
   "id": "1ecde439-886d-4b87-a177-3b01bba614b0",
   "metadata": {},
   "outputs": [
    {
     "data": {
      "text/plain": [
       "array([ 2,  7, 12])"
      ]
     },
     "execution_count": 17,
     "metadata": {},
     "output_type": "execute_result"
    }
   ],
   "source": [
    "np.diag(matrice,k=1)"
   ]
  },
  {
   "cell_type": "code",
   "execution_count": 18,
   "id": "4a7bb203-cc3a-4ae4-89a1-554ca4d9e6ac",
   "metadata": {},
   "outputs": [
    {
     "data": {
      "text/plain": [
       "array([13])"
      ]
     },
     "execution_count": 18,
     "metadata": {},
     "output_type": "execute_result"
    }
   ],
   "source": [
    "np.diag(matrice,k=-3)"
   ]
  },
  {
   "cell_type": "markdown",
   "id": "70983047-c2f8-4860-80f4-e29eae1292c3",
   "metadata": {},
   "source": [
    "### **_Toutes les valeurs à 0 sauf la diagonale_**"
   ]
  },
  {
   "cell_type": "code",
   "execution_count": 19,
   "id": "04e56e39-e9fd-4189-821a-3546ea71f6bc",
   "metadata": {},
   "outputs": [
    {
     "data": {
      "text/plain": [
       "array([5, 6, 7, 8, 9])"
      ]
     },
     "execution_count": 19,
     "metadata": {},
     "output_type": "execute_result"
    }
   ],
   "source": [
    "tab0 = np.array([5,6,7,8,9])\n",
    "tab0"
   ]
  },
  {
   "cell_type": "code",
   "execution_count": 20,
   "id": "fe22c836-fa7a-428c-b471-9124e1f52e43",
   "metadata": {},
   "outputs": [
    {
     "data": {
      "text/plain": [
       "array([[5, 0, 0, 0, 0],\n",
       "       [0, 6, 0, 0, 0],\n",
       "       [0, 0, 7, 0, 0],\n",
       "       [0, 0, 0, 8, 0],\n",
       "       [0, 0, 0, 0, 9]])"
      ]
     },
     "execution_count": 20,
     "metadata": {},
     "output_type": "execute_result"
    }
   ],
   "source": [
    "diag_matrix = np.diag(tab0)\n",
    "diag_matrix"
   ]
  },
  {
   "cell_type": "code",
   "execution_count": 22,
   "id": "fb44ce8b-fd03-41c9-b0c5-ba1a945bed43",
   "metadata": {},
   "outputs": [
    {
     "data": {
      "text/plain": [
       "array([[0, 0, 0, 0, 0, 0, 0, 0, 0],\n",
       "       [0, 0, 0, 0, 0, 0, 0, 0, 0],\n",
       "       [0, 0, 0, 0, 0, 0, 0, 0, 0],\n",
       "       [0, 0, 0, 0, 0, 0, 0, 0, 0],\n",
       "       [5, 0, 0, 0, 0, 0, 0, 0, 0],\n",
       "       [0, 6, 0, 0, 0, 0, 0, 0, 0],\n",
       "       [0, 0, 7, 0, 0, 0, 0, 0, 0],\n",
       "       [0, 0, 0, 8, 0, 0, 0, 0, 0],\n",
       "       [0, 0, 0, 0, 9, 0, 0, 0, 0]])"
      ]
     },
     "execution_count": 22,
     "metadata": {},
     "output_type": "execute_result"
    }
   ],
   "source": [
    "diag_matrix1 = np.diag(tab0, k = -4)\n",
    "diag_matrix1"
   ]
  },
  {
   "cell_type": "code",
   "execution_count": 23,
   "id": "12820a02-8dea-437c-942a-f7e41cefa30d",
   "metadata": {},
   "outputs": [
    {
     "data": {
      "text/plain": [
       "array([[0, 0, 0, 5, 0, 0, 0, 0],\n",
       "       [0, 0, 0, 0, 6, 0, 0, 0],\n",
       "       [0, 0, 0, 0, 0, 7, 0, 0],\n",
       "       [0, 0, 0, 0, 0, 0, 8, 0],\n",
       "       [0, 0, 0, 0, 0, 0, 0, 9],\n",
       "       [0, 0, 0, 0, 0, 0, 0, 0],\n",
       "       [0, 0, 0, 0, 0, 0, 0, 0],\n",
       "       [0, 0, 0, 0, 0, 0, 0, 0]])"
      ]
     },
     "execution_count": 23,
     "metadata": {},
     "output_type": "execute_result"
    }
   ],
   "source": [
    "diag_matrix2 = np.diag(tab0, k = 3)\n",
    "diag_matrix2"
   ]
  }
 ],
 "metadata": {
  "kernelspec": {
   "display_name": "Python [conda env:base] *",
   "language": "python",
   "name": "conda-base-py"
  },
  "language_info": {
   "codemirror_mode": {
    "name": "ipython",
    "version": 3
   },
   "file_extension": ".py",
   "mimetype": "text/x-python",
   "name": "python",
   "nbconvert_exporter": "python",
   "pygments_lexer": "ipython3",
   "version": "3.13.5"
  }
 },
 "nbformat": 4,
 "nbformat_minor": 5
}
