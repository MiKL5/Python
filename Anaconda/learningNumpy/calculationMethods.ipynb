{
 "cells": [
  {
   "cell_type": "code",
   "execution_count": 1,
   "id": "0fb5d97f-1a69-47d1-ae3e-6a742cd268c1",
   "metadata": {},
   "outputs": [],
   "source": [
    "import numpy as np"
   ]
  },
  {
   "cell_type": "markdown",
   "id": "56efa3b9-55a4-4e7e-a592-6c315cfce919",
   "metadata": {},
   "source": [
    "# **Quelques méthodes de calcul de tableaux**"
   ]
  },
  {
   "cell_type": "code",
   "execution_count": 2,
   "id": "f8e5dde1-5acd-4cd6-b415-9362c8e26a0c",
   "metadata": {},
   "outputs": [
    {
     "data": {
      "text/plain": [
       "array([16, 29, 93, 96, 86, 52, 82, 18, 34, 80, 37, 74, 97, 68, 27])"
      ]
     },
     "execution_count": 2,
     "metadata": {},
     "output_type": "execute_result"
    }
   ],
   "source": [
    "vecteur = np.random.randint(0,100,15)\n",
    "vecteur"
   ]
  },
  {
   "cell_type": "code",
   "execution_count": 4,
   "id": "86e87955-b496-4fcb-a758-f28531672680",
   "metadata": {},
   "outputs": [
    {
     "data": {
      "text/plain": [
       "np.int64(97)"
      ]
     },
     "execution_count": 4,
     "metadata": {},
     "output_type": "execute_result"
    }
   ],
   "source": [
    "# Le plus grand\n",
    "vecteur.max()"
   ]
  },
  {
   "cell_type": "code",
   "execution_count": 5,
   "id": "b727c908-1355-40cd-a5fe-647eced22d96",
   "metadata": {},
   "outputs": [
    {
     "data": {
      "text/plain": [
       "np.int64(12)"
      ]
     },
     "execution_count": 5,
     "metadata": {},
     "output_type": "execute_result"
    }
   ],
   "source": [
    "# Le rang du plus grand\n",
    "vecteur.argmax()"
   ]
  },
  {
   "cell_type": "code",
   "execution_count": 6,
   "id": "ba43233e-713b-406a-978f-1cae84a364b5",
   "metadata": {},
   "outputs": [
    {
     "data": {
      "text/plain": [
       "array([ 22, 186,  45, 162, 173,  98, 101, 108,  45, 123, 102, 147, 189,\n",
       "       115, 186, 167,  36, 193,  54,  29, 161,   1,  92, 104, 106])"
      ]
     },
     "execution_count": 6,
     "metadata": {},
     "output_type": "execute_result"
    }
   ],
   "source": [
    "vector = np.random.randint(0,200,25)\n",
    "vector"
   ]
  },
  {
   "cell_type": "code",
   "execution_count": 7,
   "id": "24f30dc8-4b2d-422e-8c84-7c2ab8095899",
   "metadata": {},
   "outputs": [
    {
     "data": {
      "text/plain": [
       "array([[ 22, 186,  45, 162, 173],\n",
       "       [ 98, 101, 108,  45, 123],\n",
       "       [102, 147, 189, 115, 186],\n",
       "       [167,  36, 193,  54,  29],\n",
       "       [161,   1,  92, 104, 106]])"
      ]
     },
     "execution_count": 7,
     "metadata": {},
     "output_type": "execute_result"
    }
   ],
   "source": [
    "matrix = vector.reshape(5,5)\n",
    "matrix"
   ]
  },
  {
   "cell_type": "code",
   "execution_count": 8,
   "id": "22bd4964-b8af-45bd-a401-04759fee622e",
   "metadata": {},
   "outputs": [
    {
     "data": {
      "text/plain": [
       "array([167, 186, 193, 162, 186])"
      ]
     },
     "execution_count": 8,
     "metadata": {},
     "output_type": "execute_result"
    }
   ],
   "source": [
    "# La valeur maximale par colonne\n",
    "matrix.max(axis=0)"
   ]
  },
  {
   "cell_type": "code",
   "execution_count": 9,
   "id": "d11d922d-639c-4fb3-9de6-63255fadcabc",
   "metadata": {},
   "outputs": [
    {
     "data": {
      "text/plain": [
       "array([186, 123, 189, 193, 161])"
      ]
     },
     "execution_count": 9,
     "metadata": {},
     "output_type": "execute_result"
    }
   ],
   "source": [
    "# Et par ligne\n",
    "matrix.max(axis=1)"
   ]
  },
  {
   "cell_type": "code",
   "execution_count": 10,
   "id": "7194ad99-c1f0-489d-9a3a-91e1597310b3",
   "metadata": {},
   "outputs": [
    {
     "data": {
      "text/plain": [
       "np.int64(193)"
      ]
     },
     "execution_count": 10,
     "metadata": {},
     "output_type": "execute_result"
    }
   ],
   "source": [
    "# Le maximum\n",
    "matrix.max()"
   ]
  },
  {
   "cell_type": "code",
   "execution_count": 12,
   "id": "014899b3-5170-40e1-b362-b1f60d6e8a9c",
   "metadata": {},
   "outputs": [
    {
     "data": {
      "text/plain": [
       "np.int64(1)"
      ]
     },
     "execution_count": 12,
     "metadata": {},
     "output_type": "execute_result"
    }
   ],
   "source": [
    "# Le minimum\n",
    "matrix.min()"
   ]
  },
  {
   "cell_type": "code",
   "execution_count": 13,
   "id": "44214d6e-5940-45a8-a37b-2c9ac4799ad0",
   "metadata": {},
   "outputs": [
    {
     "data": {
      "text/plain": [
       "array([110. ,  94.2, 125.4,  96. , 123.4])"
      ]
     },
     "execution_count": 13,
     "metadata": {},
     "output_type": "execute_result"
    }
   ],
   "source": [
    "# La moyenne par colonne\n",
    "matrix.mean(axis=0)"
   ]
  },
  {
   "cell_type": "code",
   "execution_count": 14,
   "id": "18b7442f-59d0-4cc5-ab88-65e3f294caf9",
   "metadata": {},
   "outputs": [
    {
     "data": {
      "text/plain": [
       "array([117.6,  95. , 147.8,  95.8,  92.8])"
      ]
     },
     "execution_count": 14,
     "metadata": {},
     "output_type": "execute_result"
    }
   ],
   "source": [
    "# La moyenne par ligne\n",
    "matrix.mean(axis=1)"
   ]
  },
  {
   "cell_type": "code",
   "execution_count": 15,
   "id": "19ef2d6f-e897-43e2-aef0-35f16b0afb60",
   "metadata": {},
   "outputs": [
    {
     "data": {
      "text/plain": [
       "np.float64(109.8)"
      ]
     },
     "execution_count": 15,
     "metadata": {},
     "output_type": "execute_result"
    }
   ],
   "source": [
    "# La moyenne\n",
    "matrix.mean()"
   ]
  },
  {
   "cell_type": "code",
   "execution_count": 16,
   "id": "1268cdd7-3776-4532-a3b6-a56fa2347fcc",
   "metadata": {},
   "outputs": [
    {
     "data": {
      "text/plain": [
       "np.int64(2745)"
      ]
     },
     "execution_count": 16,
     "metadata": {},
     "output_type": "execute_result"
    }
   ],
   "source": [
    "# La somme\n",
    "matrix.sum()"
   ]
  },
  {
   "cell_type": "code",
   "execution_count": 20,
   "id": "55b9de23-beac-4f92-9da7-85092289831f",
   "metadata": {},
   "outputs": [
    {
     "data": {
      "text/plain": [
       "np.float64(57.509651363923254)"
      ]
     },
     "execution_count": 20,
     "metadata": {},
     "output_type": "execute_result"
    }
   ],
   "source": [
    "# L'écart type\n",
    "matrix.std()"
   ]
  }
 ],
 "metadata": {
  "kernelspec": {
   "display_name": "Python [conda env:base] *",
   "language": "python",
   "name": "conda-base-py"
  },
  "language_info": {
   "codemirror_mode": {
    "name": "ipython",
    "version": 3
   },
   "file_extension": ".py",
   "mimetype": "text/x-python",
   "name": "python",
   "nbconvert_exporter": "python",
   "pygments_lexer": "ipython3",
   "version": "3.13.5"
  }
 },
 "nbformat": 4,
 "nbformat_minor": 5
}
