{
 "cells": [
  {
   "cell_type": "code",
   "execution_count": 3,
   "id": "052926dd-c035-4019-b419-6b2e00f3a2e4",
   "metadata": {},
   "outputs": [],
   "source": [
    "import numpy as np"
   ]
  },
  {
   "cell_type": "code",
   "execution_count": 5,
   "id": "b4ad3b22-3cab-43d9-ae0d-5281b963e0c5",
   "metadata": {},
   "outputs": [],
   "source": [
    "my_liste = [1 , 2 , 3]"
   ]
  },
  {
   "cell_type": "code",
   "execution_count": 6,
   "id": "5fa7ef69-ca83-49ce-8f65-44e063f31f94",
   "metadata": {},
   "outputs": [
    {
     "data": {
      "text/plain": [
       "[1, 2, 3]"
      ]
     },
     "execution_count": 6,
     "metadata": {},
     "output_type": "execute_result"
    }
   ],
   "source": [
    "my_liste"
   ]
  },
  {
   "cell_type": "code",
   "execution_count": 7,
   "id": "476a00a2-ce7e-4018-8599-e80de16c4ea0",
   "metadata": {},
   "outputs": [
    {
     "data": {
      "text/plain": [
       "array([1, 2, 3])"
      ]
     },
     "execution_count": 7,
     "metadata": {},
     "output_type": "execute_result"
    }
   ],
   "source": [
    "np.array(my_liste)"
   ]
  },
  {
   "cell_type": "code",
   "execution_count": 8,
   "id": "f5bdd2d6-ef63-4c08-9cca-43af00546047",
   "metadata": {},
   "outputs": [],
   "source": [
    "tab = np.array(my_liste)"
   ]
  },
  {
   "cell_type": "code",
   "execution_count": 9,
   "id": "204e0108-55aa-4674-b0c8-4ae8afa8d0db",
   "metadata": {},
   "outputs": [
    {
     "data": {
      "text/plain": [
       "array([1, 2, 3])"
      ]
     },
     "execution_count": 9,
     "metadata": {},
     "output_type": "execute_result"
    }
   ],
   "source": [
    "tab"
   ]
  },
  {
   "cell_type": "code",
   "execution_count": 11,
   "id": "2e1bf66f-26d4-4c9c-a77d-bb3727024341",
   "metadata": {},
   "outputs": [
    {
     "data": {
      "text/plain": [
       "numpy.ndarray"
      ]
     },
     "execution_count": 11,
     "metadata": {},
     "output_type": "execute_result"
    }
   ],
   "source": [
    "type(tab)         # C'est un vecteur (tableau unidensionnel)"
   ]
  },
  {
   "cell_type": "code",
   "execution_count": 12,
   "id": "12dfba4d-f53f-451a-b5c7-f0f00d910ff8",
   "metadata": {},
   "outputs": [],
   "source": [
    "liste1 = [1 , 2 , \"Amiens\"]"
   ]
  },
  {
   "cell_type": "code",
   "execution_count": 13,
   "id": "ace85bde-86bd-4309-8e22-92d5d7e7f425",
   "metadata": {},
   "outputs": [
    {
     "data": {
      "text/plain": [
       "[1, 2, 'Amiens']"
      ]
     },
     "execution_count": 13,
     "metadata": {},
     "output_type": "execute_result"
    }
   ],
   "source": [
    "liste1"
   ]
  },
  {
   "cell_type": "code",
   "execution_count": 14,
   "id": "b0bb7d28-70b0-4680-9bc8-2872461ce227",
   "metadata": {},
   "outputs": [],
   "source": [
    "tab1 = np.array(liste1)"
   ]
  },
  {
   "cell_type": "code",
   "execution_count": 15,
   "id": "a23f7852-1cd9-490d-93a5-875ccc3d6cf7",
   "metadata": {},
   "outputs": [
    {
     "data": {
      "text/plain": [
       "array(['1', '2', 'Amiens'], dtype='<U21')"
      ]
     },
     "execution_count": 15,
     "metadata": {},
     "output_type": "execute_result"
    }
   ],
   "source": [
    "tab1"
   ]
  },
  {
   "cell_type": "code",
   "execution_count": 16,
   "id": "1b3e9ce5-f4ce-4b86-89ca-d12f09b94f5a",
   "metadata": {},
   "outputs": [],
   "source": [
    "liste2 = [1 , 2.0 , 3.99 , 8 , 22]"
   ]
  },
  {
   "cell_type": "code",
   "execution_count": 17,
   "id": "e437dbb5-7d4e-463f-9042-02eb5a5671a2",
   "metadata": {},
   "outputs": [],
   "source": [
    "tab2 = np.array(liste2)"
   ]
  },
  {
   "cell_type": "code",
   "execution_count": 18,
   "id": "38c07a48-e608-46fd-9576-54cf6f556648",
   "metadata": {},
   "outputs": [
    {
     "data": {
      "text/plain": [
       "array([ 1.  ,  2.  ,  3.99,  8.  , 22.  ])"
      ]
     },
     "execution_count": 18,
     "metadata": {},
     "output_type": "execute_result"
    }
   ],
   "source": [
    "tab2"
   ]
  }
 ],
 "metadata": {
  "kernelspec": {
   "display_name": "Python [conda env:base] *",
   "language": "python",
   "name": "conda-base-py"
  },
  "language_info": {
   "codemirror_mode": {
    "name": "ipython",
    "version": 3
   },
   "file_extension": ".py",
   "mimetype": "text/x-python",
   "name": "python",
   "nbconvert_exporter": "python",
   "pygments_lexer": "ipython3",
   "version": "3.13.5"
  }
 },
 "nbformat": 4,
 "nbformat_minor": 5
}
