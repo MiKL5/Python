{
 "cells": [
  {
   "cell_type": "code",
   "execution_count": null,
   "id": "19d97c9b",
   "metadata": {
    "vscode": {
     "languageId": "plaintext"
    }
   },
   "outputs": [],
   "source": [
    "matrice = [[1 , 2 , 3] , [4 , 5 ,6] , [7 , 8 , 9]]"
   ]
  }
 ],
 "metadata": {
  "language_info": {
   "name": "python"
  }
 },
 "nbformat": 4,
 "nbformat_minor": 5
}
