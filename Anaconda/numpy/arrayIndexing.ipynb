{
 "cells": [
  {
   "cell_type": "code",
   "execution_count": 1,
   "id": "211e3046-45cf-4198-b5a8-068d276da321",
   "metadata": {},
   "outputs": [],
   "source": [
    "import numpy as np"
   ]
  },
  {
   "cell_type": "markdown",
   "id": "153bcb2e-a2b6-40fb-96d0-f3b32e900229",
   "metadata": {},
   "source": [
    "# **Indexation de tableau**"
   ]
  },
  {
   "cell_type": "code",
   "execution_count": 2,
   "id": "ab97d4ad-4c39-45e2-821f-fda31257b5be",
   "metadata": {},
   "outputs": [
    {
     "data": {
      "text/plain": [
       "array([99, 76, 46, 34, 92,  1,  4, 94, 40, 95, 24, 31, 25, 23, 63, 58, 69,\n",
       "        7, 73, 82, 77, 15, 55, 27, 24, 87, 67, 62, 35, 93, 51, 95, 76, 65,\n",
       "       79, 34, 58, 35, 86, 62])"
      ]
     },
     "execution_count": 2,
     "metadata": {},
     "output_type": "execute_result"
    }
   ],
   "source": [
    "tab = np.random.randint(0,100,40)\n",
    "tab"
   ]
  },
  {
   "cell_type": "code",
   "execution_count": 3,
   "id": "8f133c6d-5259-4401-9606-9628ee1f794c",
   "metadata": {},
   "outputs": [
    {
     "data": {
      "text/plain": [
       "np.int64(40)"
      ]
     },
     "execution_count": 3,
     "metadata": {},
     "output_type": "execute_result"
    }
   ],
   "source": [
    "# Le 8ème élément\n",
    "tab[8]"
   ]
  },
  {
   "cell_type": "code",
   "execution_count": 4,
   "id": "4a8961e2-6faf-4862-a942-5fcab8bb9011",
   "metadata": {},
   "outputs": [
    {
     "data": {
      "text/plain": [
       "array([99, 76, 46, 34, 92])"
      ]
     },
     "execution_count": 4,
     "metadata": {},
     "output_type": "execute_result"
    }
   ],
   "source": [
    "# slicing d'0 à 5 exclu\n",
    "tab[0:5]"
   ]
  },
  {
   "cell_type": "code",
   "execution_count": 5,
   "id": "a1d4042a-6c83-4e47-be11-b471a4e82c60",
   "metadata": {},
   "outputs": [
    {
     "data": {
      "text/plain": [
       "array([99, 76, 46, 34, 92,  1,  4, 94, 40, 95])"
      ]
     },
     "execution_count": 5,
     "metadata": {},
     "output_type": "execute_result"
    }
   ],
   "source": [
    "# slicing de 0 à 9\n",
    "tab[:10]"
   ]
  },
  {
   "cell_type": "code",
   "execution_count": 6,
   "id": "cf5a7413-d10d-479d-ae0b-75dbe1b38135",
   "metadata": {},
   "outputs": [
    {
     "data": {
      "text/plain": [
       "array([ 0,  0,  0,  0,  0,  1,  4, 94, 40, 95, 24, 31, 25, 23, 63, 58, 69,\n",
       "        7, 73, 82, 77, 15, 55, 27, 24, 87, 67, 62, 35, 93, 51, 95, 76, 65,\n",
       "       79, 34, 58, 35, 86, 62])"
      ]
     },
     "execution_count": 6,
     "metadata": {},
     "output_type": "execute_result"
    }
   ],
   "source": [
    "# remplacer les 5 premiers éléments par 0\n",
    "tab[:5] = 0\n",
    "tab"
   ]
  },
  {
   "cell_type": "code",
   "execution_count": 7,
   "id": "8bcb9e45-1f8d-4b4a-b84f-8f7b11ffb50c",
   "metadata": {},
   "outputs": [
    {
     "data": {
      "text/plain": [
       "array([ 0,  0,  0,  0,  0,  1,  4, 94, 40, 95])"
      ]
     },
     "execution_count": 7,
     "metadata": {},
     "output_type": "execute_result"
    }
   ],
   "source": [
    "# new arryay des 10 premiers éléments\n",
    "tab1 = tab[:10]\n",
    "tab1"
   ]
  },
  {
   "cell_type": "code",
   "execution_count": 8,
   "id": "160d3783-3af0-4174-bafb-e8aa4a97471a",
   "metadata": {},
   "outputs": [
    {
     "data": {
      "text/plain": [
       "array([5, 5, 5, 5, 5, 5, 5, 5, 5, 5])"
      ]
     },
     "execution_count": 8,
     "metadata": {},
     "output_type": "execute_result"
    }
   ],
   "source": [
    "# ramplacer tout le tab1 par 5\n",
    "tab1[:] = 5\n",
    "tab1"
   ]
  },
  {
   "cell_type": "code",
   "execution_count": 9,
   "id": "12117628-c717-435c-8291-944a450e8d34",
   "metadata": {},
   "outputs": [
    {
     "data": {
      "text/plain": [
       "array([ 5,  5,  5,  5,  5,  5,  5,  5,  5,  5, 24, 31, 25, 23, 63, 58, 69,\n",
       "        7, 73, 82, 77, 15, 55, 27, 24, 87, 67, 62, 35, 93, 51, 95, 76, 65,\n",
       "       79, 34, 58, 35, 86, 62])"
      ]
     },
     "execution_count": 9,
     "metadata": {},
     "output_type": "execute_result"
    }
   ],
   "source": [
    "# que devient le tableau initial ?\n",
    "tab"
   ]
  },
  {
   "cell_type": "markdown",
   "id": "8b7a4f9d-c74a-43ed-9555-c113bbb8710e",
   "metadata": {},
   "source": [
    "`tab1` est une vue des 10 premiers éléments de `tab`"
   ]
  },
  {
   "cell_type": "markdown",
   "id": "de00d734-fc15-46ad-8bf4-589d550095e2",
   "metadata": {},
   "source": [
    "La vue évite la surcharge de la mémoire avec les grands tableaux.  \n",
    "Nonobstant, il existe une méthode de copie.  \n",
    "L'ordre des crochets `[:]` est important !"
   ]
  },
  {
   "cell_type": "code",
   "execution_count": 10,
   "id": "eb7abc9b-2412-4ea1-926c-16faaa54f01b",
   "metadata": {},
   "outputs": [
    {
     "data": {
      "text/plain": [
       "array([77, 15, 55, 27, 24, 87, 67, 62, 35, 93, 51, 95, 76, 65, 79, 34, 58,\n",
       "       35, 86, 62])"
      ]
     },
     "execution_count": 10,
     "metadata": {},
     "output_type": "execute_result"
    }
   ],
   "source": [
    "tab2 = tab[20:40]\n",
    "tab2"
   ]
  },
  {
   "cell_type": "code",
   "execution_count": 11,
   "id": "82eab0e7-2115-46a3-8b72-98f4563cec36",
   "metadata": {},
   "outputs": [
    {
     "data": {
      "text/plain": [
       "array([77, 15, 55, 27, 24, 87, 67, 62, 35, 93, 51, 95, 76, 65, 79, 34, 58,\n",
       "       35, 86, 62])"
      ]
     },
     "execution_count": 11,
     "metadata": {},
     "output_type": "execute_result"
    }
   ],
   "source": [
    "tab2_copy = tab2.copy()\n",
    "tab2 # La copie est créée"
   ]
  },
  {
   "cell_type": "code",
   "execution_count": 13,
   "id": "6e07c62b-5488-4b87-b130-ef8addfe6fe7",
   "metadata": {},
   "outputs": [
    {
     "data": {
      "text/plain": [
       "array([200, 200, 200, 200, 200, 200, 200, 200, 200, 200, 200, 200, 200,\n",
       "       200, 200, 200, 200, 200, 200, 200])"
      ]
     },
     "execution_count": 13,
     "metadata": {},
     "output_type": "execute_result"
    }
   ],
   "source": [
    "# remplacer tab2_copy par 200\n",
    "tab2_copy[:] = 200\n",
    "tab2_copy"
   ]
  },
  {
   "cell_type": "code",
   "execution_count": 14,
   "id": "daa5dcec-e0fa-42da-9e97-7708a8f4d907",
   "metadata": {},
   "outputs": [
    {
     "data": {
      "text/plain": [
       "array([77, 15, 55, 27, 24, 87, 67, 62, 35, 93, 51, 95, 76, 65, 79, 34, 58,\n",
       "       35, 86, 62])"
      ]
     },
     "execution_count": 14,
     "metadata": {},
     "output_type": "execute_result"
    }
   ],
   "source": [
    "# vérifier tab2\n",
    "tab2"
   ]
  }
 ],
 "metadata": {
  "kernelspec": {
   "display_name": "Python [conda env:base] *",
   "language": "python",
   "name": "conda-base-py"
  },
  "language_info": {
   "codemirror_mode": {
    "name": "ipython",
    "version": 3
   },
   "file_extension": ".py",
   "mimetype": "text/x-python",
   "name": "python",
   "nbconvert_exporter": "python",
   "pygments_lexer": "ipython3",
   "version": "3.13.5"
  }
 },
 "nbformat": 4,
 "nbformat_minor": 5
}
