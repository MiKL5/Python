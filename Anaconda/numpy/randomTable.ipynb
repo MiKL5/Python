{
 "cells": [
  {
   "cell_type": "code",
   "execution_count": 3,
   "id": "331e2bed-52e5-4b3c-8046-48707374a328",
   "metadata": {},
   "outputs": [],
   "source": [
    "import numpy as np"
   ]
  },
  {
   "cell_type": "markdown",
   "id": "5f551e5d-40c6-4cc5-98fa-b05597c2ac13",
   "metadata": {},
   "source": [
    "# **Création de tableau aléatoire**"
   ]
  },
  {
   "cell_type": "markdown",
   "id": "257ebda0-eb0b-42b4-a4bb-0a67fe7f4aca",
   "metadata": {},
   "source": [
    "#### Vecteur"
   ]
  },
  {
   "cell_type": "code",
   "execution_count": 4,
   "id": "dd83e02a-4dd6-4d0a-a39f-e92caa152c9c",
   "metadata": {},
   "outputs": [
    {
     "data": {
      "text/plain": [
       "array([0.51106792, 0.93235264, 0.17425288, 0.6383707 , 0.37376711,\n",
       "       0.8263877 , 0.95784915, 0.97637056, 0.02798807, 0.40964531])"
      ]
     },
     "execution_count": 4,
     "metadata": {},
     "output_type": "execute_result"
    }
   ],
   "source": [
    "np.random.rand(10)"
   ]
  },
  {
   "cell_type": "markdown",
   "id": "ba32cab0-0929-47ac-b428-9c91867cfb3a",
   "metadata": {},
   "source": [
    "#### Matrice"
   ]
  },
  {
   "cell_type": "code",
   "execution_count": 5,
   "id": "a1087fd9-df72-4ed7-ba65-74deef1a87c8",
   "metadata": {},
   "outputs": [
    {
     "data": {
      "text/plain": [
       "array([[0.78241985, 0.14796234, 0.21225489, 0.14576973, 0.30198605],\n",
       "       [0.6309735 , 0.12845362, 0.54077023, 0.86055379, 0.19975795],\n",
       "       [0.30321611, 0.84746861, 0.44513496, 0.39410802, 0.53482646],\n",
       "       [0.76635108, 0.61865111, 0.61037696, 0.95334374, 0.56204488],\n",
       "       [0.80505679, 0.74475165, 0.29960192, 0.36675523, 0.36761786]])"
      ]
     },
     "execution_count": 5,
     "metadata": {},
     "output_type": "execute_result"
    }
   ],
   "source": [
    "np.random.rand(5,5)"
   ]
  },
  {
   "cell_type": "markdown",
   "id": "33ee28fb-e365-44bc-a1e8-aadbfa73b9b8",
   "metadata": {},
   "source": [
    "## **Distribution gaussienne**"
   ]
  },
  {
   "cell_type": "code",
   "execution_count": 8,
   "id": "0be45de7-ddd7-4d09-b8f6-7406ecb95e66",
   "metadata": {},
   "outputs": [
    {
     "data": {
      "text/plain": [
       "array([-0.18183547,  1.47978648, -1.67828057, -1.14038693, -0.41916146,\n",
       "        0.4196053 ])"
      ]
     },
     "execution_count": 8,
     "metadata": {},
     "output_type": "execute_result"
    }
   ],
   "source": [
    "np.random.randn(6)"
   ]
  },
  {
   "cell_type": "code",
   "execution_count": 9,
   "id": "79053526-3c83-4119-a1c5-8806f616ff3b",
   "metadata": {},
   "outputs": [
    {
     "data": {
      "text/plain": [
       "array([ 1.21197039, -2.61125839,  0.30353914])"
      ]
     },
     "execution_count": 9,
     "metadata": {},
     "output_type": "execute_result"
    }
   ],
   "source": [
    "np.random.randn(3)"
   ]
  },
  {
   "cell_type": "code",
   "execution_count": 10,
   "id": "e40d5550-76e5-4e5a-bf0d-ad3b5dc02b1f",
   "metadata": {},
   "outputs": [
    {
     "data": {
      "text/plain": [
       "array([[0.72396709, 1.3292663 ],\n",
       "       [0.71682386, 0.40522497]])"
      ]
     },
     "execution_count": 10,
     "metadata": {},
     "output_type": "execute_result"
    }
   ],
   "source": [
    "np.random.randn(2,2)"
   ]
  },
  {
   "cell_type": "code",
   "execution_count": 11,
   "id": "ec54890d-87b9-4504-8d1f-c2992cfa0e1b",
   "metadata": {},
   "outputs": [
    {
     "data": {
      "text/plain": [
       "array([[-1.07657814, -0.01046976, -0.13703163,  1.16163201, -1.01374784,\n",
       "        -2.30131885, -1.16161848,  1.56128856],\n",
       "       [-0.79410762, -0.42539859,  0.16834475, -0.07954832, -0.96208127,\n",
       "         0.30493757, -1.22096721, -0.22212454]])"
      ]
     },
     "execution_count": 11,
     "metadata": {},
     "output_type": "execute_result"
    }
   ],
   "source": [
    "np.random.randn(2,8)"
   ]
  },
  {
   "cell_type": "code",
   "execution_count": 12,
   "id": "5567d475-f3d6-48db-99f7-77f490437cad",
   "metadata": {},
   "outputs": [
    {
     "data": {
      "text/plain": [
       "86"
      ]
     },
     "execution_count": 12,
     "metadata": {},
     "output_type": "execute_result"
    }
   ],
   "source": [
    "# 1 nombre aléatoire d'1 à 100\n",
    "np.random.randint(1,100)"
   ]
  },
  {
   "cell_type": "markdown",
   "id": "efefac7d-fa10-44b6-9a94-cdae589e923d",
   "metadata": {},
   "source": [
    "#### Vecteur"
   ]
  },
  {
   "cell_type": "code",
   "execution_count": 13,
   "id": "676553fa-bd56-4264-817f-3882f8a4c047",
   "metadata": {},
   "outputs": [
    {
     "data": {
      "text/plain": [
       "array([92, 88,  1, 38, 59])"
      ]
     },
     "execution_count": 13,
     "metadata": {},
     "output_type": "execute_result"
    }
   ],
   "source": [
    "np.random.randint(1,100,5)"
   ]
  },
  {
   "cell_type": "markdown",
   "id": "33280622-e96d-4aea-b348-a1e98f8c2be8",
   "metadata": {},
   "source": [
    "#### Matrice _le nombre de lignes et colonnes est dans le tuple_"
   ]
  },
  {
   "cell_type": "code",
   "execution_count": 15,
   "id": "386ec737-4e35-4df1-8794-fa7a71ed645f",
   "metadata": {},
   "outputs": [
    {
     "data": {
      "text/plain": [
       "array([[ 2, 14, 16],\n",
       "       [18,  3, 14],\n",
       "       [11,  6, 12]])"
      ]
     },
     "execution_count": 15,
     "metadata": {},
     "output_type": "execute_result"
    }
   ],
   "source": [
    "matrice = np.random.randint(0,20,(3,3))\n",
    "matrice"
   ]
  },
  {
   "cell_type": "markdown",
   "id": "75ec55a4-3e64-4e4c-9aea-a947d067577c",
   "metadata": {},
   "source": [
    "### Matrice en distibution gaussienne de moyenne 10 et d'écart 2"
   ]
  },
  {
   "cell_type": "code",
   "execution_count": 16,
   "id": "5e90b126-37f5-4134-9831-d077b0fc3c80",
   "metadata": {},
   "outputs": [],
   "source": [
    "# loc = moyenne\n",
    "x = np.random.normal(loc = 10 , scale = 2 , size = (3,4))"
   ]
  },
  {
   "cell_type": "code",
   "execution_count": 17,
   "id": "4b2c6737-0532-4826-b92b-c7d995c6e706",
   "metadata": {},
   "outputs": [
    {
     "data": {
      "text/plain": [
       "array([[12.57865224,  9.636241  ,  8.33995269, 10.93255531],\n",
       "       [13.42154907,  9.68388723,  8.40072457,  9.41181154],\n",
       "       [10.32570702, 11.00332148, 13.69522042,  7.37423587]])"
      ]
     },
     "execution_count": 17,
     "metadata": {},
     "output_type": "execute_result"
    }
   ],
   "source": [
    "x"
   ]
  },
  {
   "cell_type": "code",
   "execution_count": 19,
   "id": "7d2b1fcd-ee9c-4857-964b-c55cad12e66d",
   "metadata": {},
   "outputs": [
    {
     "data": {
      "text/plain": [
       "array([[17.37771215, 14.08307683,  6.63159396,  4.14376272, 16.10539914],\n",
       "       [15.21892583, 14.27291416, 22.6678053 , 11.41119065, 22.57633676]])"
      ]
     },
     "execution_count": 19,
     "metadata": {},
     "output_type": "execute_result"
    }
   ],
   "source": [
    "np.random.normal(15,5,(2,5))"
   ]
  },
  {
   "cell_type": "markdown",
   "id": "f0970936-ffae-4136-9096-139accc77136",
   "metadata": {},
   "source": [
    "#### Idem pour un vecteur"
   ]
  },
  {
   "cell_type": "code",
   "execution_count": 22,
   "id": "0fa9dd9c-3daa-4e45-b7a8-d395dfbcbce8",
   "metadata": {},
   "outputs": [
    {
     "data": {
      "text/plain": [
       "array([20.46165147, 17.60552595, 16.12885984, 22.3912417 , 21.50931884])"
      ]
     },
     "execution_count": 22,
     "metadata": {},
     "output_type": "execute_result"
    }
   ],
   "source": [
    "np.random.normal(20,2,5) # moyenne, écart type, éléments"
   ]
  }
 ],
 "metadata": {
  "kernelspec": {
   "display_name": "Python [conda env:base] *",
   "language": "python",
   "name": "conda-base-py"
  },
  "language_info": {
   "codemirror_mode": {
    "name": "ipython",
    "version": 3
   },
   "file_extension": ".py",
   "mimetype": "text/x-python",
   "name": "python",
   "nbconvert_exporter": "python",
   "pygments_lexer": "ipython3",
   "version": "3.13.5"
  }
 },
 "nbformat": 4,
 "nbformat_minor": 5
}
