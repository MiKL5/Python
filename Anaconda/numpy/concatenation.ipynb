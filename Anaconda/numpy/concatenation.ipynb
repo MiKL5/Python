{
 "cells": [
  {
   "cell_type": "code",
   "execution_count": 1,
   "id": "3f6aea83-4901-49ac-bf0d-8759abd5964c",
   "metadata": {},
   "outputs": [],
   "source": [
    "import numpy as np"
   ]
  },
  {
   "cell_type": "markdown",
   "id": "b5b28fbd-a5f7-4760-83b4-de46fa3bbcd9",
   "metadata": {},
   "source": [
    "# **Concaténer les tableaux**"
   ]
  },
  {
   "cell_type": "markdown",
   "id": "690067e4-508a-4b7e-915c-fdb8893291ca",
   "metadata": {},
   "source": [
    "## _Concaténation des vecteurs_"
   ]
  },
  {
   "cell_type": "code",
   "execution_count": 2,
   "id": "4de7672e-3621-4b78-8a87-c358e3ce5301",
   "metadata": {},
   "outputs": [
    {
     "data": {
      "text/plain": [
       "array([ 5, 10, 15, 20, 25, 30, 35, 40])"
      ]
     },
     "execution_count": 2,
     "metadata": {},
     "output_type": "execute_result"
    }
   ],
   "source": [
    "vecteur1 = np.array([1,2,3,4])\n",
    "vecteur2 = np.array([5,10,15,20,25,30,35,40])\n",
    "vecteur1\n",
    "vecteur2"
   ]
  },
  {
   "cell_type": "code",
   "execution_count": 3,
   "id": "d1441b90-0c51-4ed4-96a6-467b48a7a3aa",
   "metadata": {},
   "outputs": [
    {
     "data": {
      "text/plain": [
       "array([ 1,  2,  3,  4,  5, 10, 15, 20, 25, 30, 35, 40])"
      ]
     },
     "execution_count": 3,
     "metadata": {},
     "output_type": "execute_result"
    }
   ],
   "source": [
    "vecteur = np.concatenate([vecteur1,vecteur2])\n",
    "vecteur"
   ]
  },
  {
   "cell_type": "markdown",
   "id": "bfef87b9-1e9c-4f9f-b8d0-443cb41a1f28",
   "metadata": {},
   "source": [
    "## _Concaténation des matrices_"
   ]
  },
  {
   "cell_type": "code",
   "execution_count": 4,
   "id": "b3882426-ae99-48c4-b2cf-2d366b9d8bc1",
   "metadata": {},
   "outputs": [],
   "source": [
    "matrice1 = np.array([[1,2,3],[4,5,6]])\n",
    "matrice2 = np.array([[5,10,15],[20,25,30]])"
   ]
  },
  {
   "cell_type": "code",
   "execution_count": 6,
   "id": "01d6ab7c-729c-4dc2-8c1e-340e4d4c338d",
   "metadata": {},
   "outputs": [
    {
     "data": {
      "text/plain": [
       "array([[ 1,  2,  3],\n",
       "       [ 4,  5,  6],\n",
       "       [ 5, 10, 15],\n",
       "       [20, 25, 30]])"
      ]
     },
     "execution_count": 6,
     "metadata": {},
     "output_type": "execute_result"
    }
   ],
   "source": [
    "matrice = np.concatenate((matrice1,matrice2) , axis = 0) # S'ily a plusieurs dimensions => () et axe 0 => lignes et 1 colonnes\n",
    "matrice"
   ]
  },
  {
   "cell_type": "code",
   "execution_count": 7,
   "id": "c1091d37-da4d-40ea-8d6a-c3521f01e9e2",
   "metadata": {},
   "outputs": [
    {
     "data": {
      "text/plain": [
       "array([[ 1,  2,  3,  5, 10, 15],\n",
       "       [ 4,  5,  6, 20, 25, 30]])"
      ]
     },
     "execution_count": 7,
     "metadata": {},
     "output_type": "execute_result"
    }
   ],
   "source": [
    "matrice_colonnes = np.concatenate((matrice1,matrice2) , axis = 1)\n",
    "matrice_colonnes      # 6 colonnes et 2 lignes"
   ]
  },
  {
   "cell_type": "code",
   "execution_count": null,
   "id": "cb3b4768-c342-4f70-9315-4e7821351706",
   "metadata": {},
   "outputs": [],
   "source": []
  }
 ],
 "metadata": {
  "kernelspec": {
   "display_name": "Python [conda env:base] *",
   "language": "python",
   "name": "conda-base-py"
  },
  "language_info": {
   "codemirror_mode": {
    "name": "ipython",
    "version": 3
   },
   "file_extension": ".py",
   "mimetype": "text/x-python",
   "name": "python",
   "nbconvert_exporter": "python",
   "pygments_lexer": "ipython3",
   "version": "3.13.5"
  }
 },
 "nbformat": 4,
 "nbformat_minor": 5
}
