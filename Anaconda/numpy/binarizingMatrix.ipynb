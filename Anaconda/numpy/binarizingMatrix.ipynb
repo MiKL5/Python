{
 "cells": [
  {
   "cell_type": "code",
   "execution_count": 1,
   "id": "b251bbba-5bac-43e0-9156-c9f7fd75c756",
   "metadata": {},
   "outputs": [],
   "source": [
    "import numpy as np"
   ]
  },
  {
   "cell_type": "code",
   "execution_count": 3,
   "id": "0d4b1b72-1bee-4152-9d9f-6ae2aa5ed14a",
   "metadata": {},
   "outputs": [],
   "source": [
    "import random as rd"
   ]
  },
  {
   "cell_type": "markdown",
   "id": "1b5754c3-8207-4dec-b97f-ecec32222444",
   "metadata": {},
   "source": [
    "# **Binariser une matrice**"
   ]
  },
  {
   "cell_type": "code",
   "execution_count": 4,
   "id": "19585413-bbf7-42fa-906f-fbdf69f0de05",
   "metadata": {},
   "outputs": [
    {
     "data": {
      "text/plain": [
       "array([[0.11723737, 0.40580306, 0.01426861, 0.78356199, 0.32583094],\n",
       "       [0.33386396, 0.22830326, 0.04433419, 0.73916871, 0.67983389],\n",
       "       [0.77707071, 0.04599984, 0.05009499, 0.88866786, 0.24417964],\n",
       "       [0.87744356, 0.29548153, 0.1367182 , 0.43981645, 0.51632354],\n",
       "       [0.30361113, 0.32452865, 0.57211209, 0.65767812, 0.75792286]])"
      ]
     },
     "execution_count": 4,
     "metadata": {},
     "output_type": "execute_result"
    }
   ],
   "source": [
    "# Créer une matrice de 5/5 au nombres alétoire qui sera binarisée\n",
    "binmatrix = np.resize([rd.random() for i in range(25)], (5,5))\n",
    "binmatrix"
   ]
  },
  {
   "cell_type": "code",
   "execution_count": 5,
   "id": "9640b9a4-b1a3-4d76-860f-41d58b0a513f",
   "metadata": {},
   "outputs": [
    {
     "data": {
      "text/plain": [
       "array([[0., 0., 0., 1., 0.],\n",
       "       [0., 0., 0., 1., 1.],\n",
       "       [1., 0., 0., 1., 0.],\n",
       "       [1., 0., 0., 0., 1.],\n",
       "       [0., 0., 1., 1., 1.]])"
      ]
     },
     "execution_count": 5,
     "metadata": {},
     "output_type": "execute_result"
    }
   ],
   "source": [
    "# remplacer par 1 tout ce qui sont > .5 et 0 pour les autres\n",
    "binmatrix[binmatrix > .5] = 1\n",
    "binmatrix[binmatrix < .5] = 0\n",
    "binmatrix"
   ]
  }
 ],
 "metadata": {
  "kernelspec": {
   "display_name": "Python [conda env:base] *",
   "language": "python",
   "name": "conda-base-py"
  },
  "language_info": {
   "codemirror_mode": {
    "name": "ipython",
    "version": 3
   },
   "file_extension": ".py",
   "mimetype": "text/x-python",
   "name": "python",
   "nbconvert_exporter": "python",
   "pygments_lexer": "ipython3",
   "version": "3.13.5"
  }
 },
 "nbformat": 4,
 "nbformat_minor": 5
}
