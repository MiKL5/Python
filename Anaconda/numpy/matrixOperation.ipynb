{
 "cells": [
  {
   "cell_type": "code",
   "execution_count": 1,
   "id": "f82c02d8-dd92-4e10-ad8a-4f7b50c5298d",
   "metadata": {},
   "outputs": [],
   "source": [
    "import numpy as np"
   ]
  },
  {
   "cell_type": "markdown",
   "id": "2db45fc6-0b49-44bd-8755-cead98fb3b64",
   "metadata": {},
   "source": [
    "# **Opération sur les matrices**"
   ]
  },
  {
   "cell_type": "code",
   "execution_count": 3,
   "id": "e2dd8158-ae84-4ec0-9704-ba96370e57f1",
   "metadata": {},
   "outputs": [],
   "source": [
    "matrix1 = np.resize(np.arange(1,10),(3,3))"
   ]
  },
  {
   "cell_type": "code",
   "execution_count": 4,
   "id": "88e967b2-9349-40f3-a253-d57be07a13b1",
   "metadata": {},
   "outputs": [
    {
     "data": {
      "text/plain": [
       "array([[1, 2, 3],\n",
       "       [4, 5, 6],\n",
       "       [7, 8, 9]])"
      ]
     },
     "execution_count": 4,
     "metadata": {},
     "output_type": "execute_result"
    }
   ],
   "source": [
    "matrix1"
   ]
  },
  {
   "cell_type": "code",
   "execution_count": 5,
   "id": "f14d4beb-3497-4da9-aaed-68d9925a4e1c",
   "metadata": {},
   "outputs": [
    {
     "data": {
      "text/plain": [
       "array([[11, 12, 13],\n",
       "       [14, 15, 16],\n",
       "       [17, 18, 19]])"
      ]
     },
     "execution_count": 5,
     "metadata": {},
     "output_type": "execute_result"
    }
   ],
   "source": [
    "matrix2 = np.resize(np.arange(11,20),(3,3))\n",
    "matrix2"
   ]
  },
  {
   "cell_type": "code",
   "execution_count": 7,
   "id": "3b76ed12-7eb0-4603-ab28-3fdbaea873a9",
   "metadata": {},
   "outputs": [
    {
     "data": {
      "text/plain": [
       "array([[12, 14, 16],\n",
       "       [18, 20, 22],\n",
       "       [24, 26, 28]])"
      ]
     },
     "execution_count": 7,
     "metadata": {},
     "output_type": "execute_result"
    }
   ],
   "source": [
    "matrix1 + matrix2"
   ]
  },
  {
   "cell_type": "code",
   "execution_count": 8,
   "id": "ab2cd61a-9c57-4195-bbaa-bdf1cbe7733b",
   "metadata": {},
   "outputs": [],
   "source": [
    "product_matrix = np.dot(matrix1 , matrix2)"
   ]
  },
  {
   "cell_type": "code",
   "execution_count": 10,
   "id": "9db04dad-703a-4e97-992f-a346608e7ea6",
   "metadata": {},
   "outputs": [
    {
     "data": {
      "text/plain": [
       "array([[ 90,  96, 102],\n",
       "       [216, 231, 246],\n",
       "       [342, 366, 390]])"
      ]
     },
     "execution_count": 10,
     "metadata": {},
     "output_type": "execute_result"
    }
   ],
   "source": [
    "product_matrix"
   ]
  },
  {
   "cell_type": "code",
   "execution_count": 11,
   "id": "47de569f-ec8d-480e-a4db-34bd1165976c",
   "metadata": {},
   "outputs": [
    {
     "data": {
      "text/plain": [
       "array([[ 11,  24,  39],\n",
       "       [ 56,  75,  96],\n",
       "       [119, 144, 171]])"
      ]
     },
     "execution_count": 11,
     "metadata": {},
     "output_type": "execute_result"
    }
   ],
   "source": [
    "# multiplier élément / élément\n",
    "matrix1 * matrix2"
   ]
  },
  {
   "cell_type": "code",
   "execution_count": 12,
   "id": "b0c9c2fb-7dc7-494c-b430-f2c44902cf5b",
   "metadata": {},
   "outputs": [
    {
     "data": {
      "text/plain": [
       "array([[1, 4, 7],\n",
       "       [2, 5, 8],\n",
       "       [3, 6, 9]])"
      ]
     },
     "execution_count": 12,
     "metadata": {},
     "output_type": "execute_result"
    }
   ],
   "source": [
    "# transposer matrix1 (inverser les lignes et colonnes)\n",
    "transpose_matrix = np.transpose(matrix1)\n",
    "transpose_matrix"
   ]
  },
  {
   "cell_type": "code",
   "execution_count": 13,
   "id": "95d05403-4adf-483e-a501-fd28047c2691",
   "metadata": {},
   "outputs": [],
   "source": [
    "# calculer l'inverse de matrix1\n",
    "inv_matrix1 = np.linalg.inv(matrix1)"
   ]
  },
  {
   "cell_type": "code",
   "execution_count": 14,
   "id": "971c5c5d-3020-463b-ad1a-715ba5c4b0d4",
   "metadata": {},
   "outputs": [
    {
     "data": {
      "text/plain": [
       "array([[ 3.15251974e+15, -6.30503948e+15,  3.15251974e+15],\n",
       "       [-6.30503948e+15,  1.26100790e+16, -6.30503948e+15],\n",
       "       [ 3.15251974e+15, -6.30503948e+15,  3.15251974e+15]])"
      ]
     },
     "execution_count": 14,
     "metadata": {},
     "output_type": "execute_result"
    }
   ],
   "source": [
    "inv_matrix1"
   ]
  },
  {
   "cell_type": "markdown",
   "id": "8d77ea7d-ede1-4586-9119-68dea595c2e4",
   "metadata": {},
   "source": [
    "Ne fonctionne pas avec 0."
   ]
  },
  {
   "cell_type": "code",
   "execution_count": 16,
   "id": "01724fb9-9f0c-4c5d-99c9-d4ac9dec2366",
   "metadata": {},
   "outputs": [
    {
     "data": {
      "text/plain": [
       "np.float64(-9.51619735392994e-16)"
      ]
     },
     "execution_count": 16,
     "metadata": {},
     "output_type": "execute_result"
    }
   ],
   "source": [
    "# le déterminant matrix1\n",
    "det_matrix = np.linalg.det(matrix1)\n",
    "det_matrix"
   ]
  },
  {
   "cell_type": "code",
   "execution_count": 17,
   "id": "6dba8c47-7639-4210-9b59-c0c84366ef6f",
   "metadata": {},
   "outputs": [
    {
     "data": {
      "text/plain": [
       "EigResult(eigenvalues=array([ 1.61168440e+01, -1.11684397e+00, -8.58274334e-16]), eigenvectors=array([[-0.23197069, -0.78583024,  0.40824829],\n",
       "       [-0.52532209, -0.08675134, -0.81649658],\n",
       "       [-0.8186735 ,  0.61232756,  0.40824829]]))"
      ]
     },
     "execution_count": 17,
     "metadata": {},
     "output_type": "execute_result"
    }
   ],
   "source": [
    "# calculer la matrice propre\n",
    "matrice_propre = np.linalg.eig(matrix1)\n",
    "matrice_propre"
   ]
  },
  {
   "cell_type": "markdown",
   "id": "c90e02f1-21d9-4609-82b8-90d4f65221e5",
   "metadata": {},
   "source": [
    "En haut, les valeurs propres.  \n",
    "En bas, les vecteurs propres."
   ]
  }
 ],
 "metadata": {
  "kernelspec": {
   "display_name": "Python [conda env:base] *",
   "language": "python",
   "name": "conda-base-py"
  },
  "language_info": {
   "codemirror_mode": {
    "name": "ipython",
    "version": 3
   },
   "file_extension": ".py",
   "mimetype": "text/x-python",
   "name": "python",
   "nbconvert_exporter": "python",
   "pygments_lexer": "ipython3",
   "version": "3.13.5"
  }
 },
 "nbformat": 4,
 "nbformat_minor": 5
}
