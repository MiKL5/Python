{
 "cells": [
  {
   "cell_type": "markdown",
   "id": "8f7d1f38-b1dc-4edd-82f1-90fd52f8a9f1",
   "metadata": {},
   "source": [
    "# **Créer un tableau**"
   ]
  },
  {
   "cell_type": "code",
   "execution_count": 1,
   "id": "1c1662cd-5372-49f9-b2d8-867a0ae7e530",
   "metadata": {},
   "outputs": [],
   "source": [
    "import numpy as np"
   ]
  },
  {
   "cell_type": "markdown",
   "id": "2713200b-721f-42dc-947d-ad049459ce5f",
   "metadata": {},
   "source": [
    "_arange() est exclusif_"
   ]
  },
  {
   "cell_type": "markdown",
   "id": "b15f5891-5e6d-4e02-a846-0c2713c09874",
   "metadata": {},
   "source": [
    "## **À 1D**"
   ]
  },
  {
   "cell_type": "code",
   "execution_count": 2,
   "id": "26d8ef28-4081-4179-a0ca-99e43bab478d",
   "metadata": {},
   "outputs": [
    {
     "data": {
      "text/plain": [
       "array([0, 1, 2, 3, 4, 5, 6, 7, 8, 9])"
      ]
     },
     "execution_count": 2,
     "metadata": {},
     "output_type": "execute_result"
    }
   ],
   "source": [
    "np.arange(10)"
   ]
  },
  {
   "cell_type": "markdown",
   "id": "831203a8-c682-4c97-970d-ffeb75d9255a",
   "metadata": {},
   "source": [
    "## À 1D avec le début, la fin et le pas"
   ]
  },
  {
   "cell_type": "code",
   "execution_count": 6,
   "id": "1f69be8a-4ea0-41e3-b87c-d7111d0e16c5",
   "metadata": {},
   "outputs": [
    {
     "data": {
      "text/plain": [
       "array([ 5,  7,  9, 11, 13, 15, 17, 19])"
      ]
     },
     "execution_count": 6,
     "metadata": {},
     "output_type": "execute_result"
    }
   ],
   "source": [
    "np.arange(5 , 20 , 2)"
   ]
  },
  {
   "cell_type": "code",
   "execution_count": 7,
   "id": "702ad947-2fff-4fd9-9803-0abb9005f296",
   "metadata": {},
   "outputs": [
    {
     "data": {
      "text/plain": [
       "array([10, 15, 20, 25, 30, 35, 40, 45, 50, 55, 60, 65, 70, 75, 80, 85, 90,\n",
       "       95])"
      ]
     },
     "execution_count": 7,
     "metadata": {},
     "output_type": "execute_result"
    }
   ],
   "source": [
    "np.arange(10 , 100 , 5)"
   ]
  },
  {
   "cell_type": "markdown",
   "id": "f94761ce-9534-4970-8142-20f1df918e84",
   "metadata": {},
   "source": [
    "### Avec un pas négatif"
   ]
  },
  {
   "cell_type": "code",
   "execution_count": 8,
   "id": "31c21729-98cb-4934-8ed6-5ef42d133e96",
   "metadata": {},
   "outputs": [
    {
     "data": {
      "text/plain": [
       "array([30, 28, 26, 24, 22, 20, 18, 16, 14, 12])"
      ]
     },
     "execution_count": 8,
     "metadata": {},
     "output_type": "execute_result"
    }
   ],
   "source": [
    "np.arange(30 , 10 , -2)"
   ]
  },
  {
   "cell_type": "code",
   "execution_count": 11,
   "id": "94065698-e856-4999-86ce-c9bca70032d1",
   "metadata": {},
   "outputs": [
    {
     "data": {
      "text/plain": [
       "array([0., 1., 2., 3., 4.])"
      ]
     },
     "execution_count": 11,
     "metadata": {},
     "output_type": "execute_result"
    }
   ],
   "source": [
    "np.arange(5.0)"
   ]
  },
  {
   "cell_type": "code",
   "execution_count": null,
   "id": "b4ebf9ed-f0c4-4938-b3ee-1b81d0fe485b",
   "metadata": {},
   "outputs": [],
   "source": []
  }
 ],
 "metadata": {
  "kernelspec": {
   "display_name": "Python [conda env:base] *",
   "language": "python",
   "name": "conda-base-py"
  },
  "language_info": {
   "codemirror_mode": {
    "name": "ipython",
    "version": 3
   },
   "file_extension": ".py",
   "mimetype": "text/x-python",
   "name": "python",
   "nbconvert_exporter": "python",
   "pygments_lexer": "ipython3",
   "version": "3.13.5"
  }
 },
 "nbformat": 4,
 "nbformat_minor": 5
}
