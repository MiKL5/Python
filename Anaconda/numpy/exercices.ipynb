{
 "cells": [
  {
   "cell_type": "code",
   "execution_count": 2,
   "id": "95c8fef2",
   "metadata": {},
   "outputs": [],
   "source": [
    "import numpy as np"
   ]
  },
  {
   "cell_type": "markdown",
   "id": "94bf664c",
   "metadata": {},
   "source": [
    "# Exercices Numpy"
   ]
  },
  {
   "cell_type": "markdown",
   "id": "b717c428",
   "metadata": {},
   "source": [
    "## 1. Créer un vecteur nul de taille 10"
   ]
  },
  {
   "cell_type": "code",
   "execution_count": 3,
   "id": "53111a4b",
   "metadata": {},
   "outputs": [
    {
     "data": {
      "text/plain": [
       "array([0., 0., 0., 0., 0., 0., 0., 0., 0., 0.])"
      ]
     },
     "execution_count": 3,
     "metadata": {},
     "output_type": "execute_result"
    }
   ],
   "source": [
    "vecteur_nul = np.zeros(10)\n",
    "vecteur_nul"
   ]
  },
  {
   "cell_type": "markdown",
   "id": "44bbcd6b",
   "metadata": {},
   "source": [
    "## 2. Créer un vecteur de taille 10 dont tous les éléments sont nuls sauf le troisième qui est égal à 10"
   ]
  },
  {
   "cell_type": "code",
   "execution_count": 4,
   "id": "66013519",
   "metadata": {},
   "outputs": [
    {
     "data": {
      "text/plain": [
       "array([ 0.,  0., 10.,  0.,  0.,  0.,  0.,  0.,  0.,  0.])"
      ]
     },
     "execution_count": 4,
     "metadata": {},
     "output_type": "execute_result"
    }
   ],
   "source": [
    "vecteur = np.zeros(10)\n",
    "vecteur[2] = 10\n",
    "vecteur"
   ]
  },
  {
   "cell_type": "markdown",
   "id": "dea90295",
   "metadata": {},
   "source": [
    "## 3. Créer un vecteur  de taille 10 dont tous les éléments sont égaux à 1"
   ]
  },
  {
   "cell_type": "code",
   "execution_count": 5,
   "id": "7d2da2cf",
   "metadata": {},
   "outputs": [
    {
     "data": {
      "text/plain": [
       "array([1., 1., 1., 1., 1., 1., 1., 1., 1., 1.])"
      ]
     },
     "execution_count": 5,
     "metadata": {},
     "output_type": "execute_result"
    }
   ],
   "source": [
    "vecteur = np.ones(10)\n",
    "vecteur"
   ]
  },
  {
   "cell_type": "markdown",
   "id": "2a6dc3ad",
   "metadata": {},
   "source": [
    "## 4. Créer un tableau unidimensionnel de taille 10 dont tous les éléments sont égaux à 20"
   ]
  },
  {
   "cell_type": "code",
   "execution_count": 6,
   "id": "39cbb745",
   "metadata": {},
   "outputs": [
    {
     "data": {
      "text/plain": [
       "array([20, 20, 20, 20, 20, 20, 20, 20, 20, 20])"
      ]
     },
     "execution_count": 6,
     "metadata": {},
     "output_type": "execute_result"
    }
   ],
   "source": [
    "vecteur = np.full(10, 20)\n",
    "vecteur"
   ]
  },
  {
   "cell_type": "code",
   "execution_count": 8,
   "id": "8b7a8532",
   "metadata": {},
   "outputs": [],
   "source": [
    "vecteur = np.zeros(10)+20"
   ]
  },
  {
   "cell_type": "code",
   "execution_count": null,
   "id": "34596d52",
   "metadata": {},
   "outputs": [],
   "source": [
    "vecteur = np.ones(10)*20"
   ]
  },
  {
   "cell_type": "markdown",
   "id": "c4a89962",
   "metadata": {},
   "source": [
    "## 5. Créer un vecteur avec des valeurs allant de 20 à 100 compris"
   ]
  },
  {
   "cell_type": "code",
   "execution_count": 9,
   "id": "4b900c3a",
   "metadata": {},
   "outputs": [
    {
     "data": {
      "text/plain": [
       "array([ 20,  21,  22,  23,  24,  25,  26,  27,  28,  29,  30,  31,  32,\n",
       "        33,  34,  35,  36,  37,  38,  39,  40,  41,  42,  43,  44,  45,\n",
       "        46,  47,  48,  49,  50,  51,  52,  53,  54,  55,  56,  57,  58,\n",
       "        59,  60,  61,  62,  63,  64,  65,  66,  67,  68,  69,  70,  71,\n",
       "        72,  73,  74,  75,  76,  77,  78,  79,  80,  81,  82,  83,  84,\n",
       "        85,  86,  87,  88,  89,  90,  91,  92,  93,  94,  95,  96,  97,\n",
       "        98,  99, 100])"
      ]
     },
     "execution_count": 9,
     "metadata": {},
     "output_type": "execute_result"
    }
   ],
   "source": [
    "vecteur = np.arange(20, 101)\n",
    "vecteur"
   ]
  },
  {
   "cell_type": "markdown",
   "id": "62db0e0b",
   "metadata": {},
   "source": [
    "## 6. Créer une matrice 3x3 avec des valeurs allant de 1 à 9"
   ]
  },
  {
   "cell_type": "code",
   "execution_count": 10,
   "id": "fcbed026",
   "metadata": {},
   "outputs": [
    {
     "data": {
      "text/plain": [
       "array([[1, 2, 3],\n",
       "       [4, 5, 6],\n",
       "       [7, 8, 9]])"
      ]
     },
     "execution_count": 10,
     "metadata": {},
     "output_type": "execute_result"
    }
   ],
   "source": [
    "matrice = np.arange(1, 10).reshape(3, 3)\n",
    "matrice"
   ]
  },
  {
   "cell_type": "markdown",
   "id": "85c5beeb",
   "metadata": {},
   "source": [
    "## 7. Créer une matrice 4x4 avec des valeurs allant de 20 à 35"
   ]
  },
  {
   "cell_type": "code",
   "execution_count": 11,
   "id": "dd87ce89",
   "metadata": {},
   "outputs": [
    {
     "data": {
      "text/plain": [
       "array([[20, 21, 22, 23],\n",
       "       [24, 25, 26, 27],\n",
       "       [28, 29, 30, 31],\n",
       "       [32, 33, 34, 35]])"
      ]
     },
     "execution_count": 11,
     "metadata": {},
     "output_type": "execute_result"
    }
   ],
   "source": [
    "matrice = np.arange(20, 36).reshape(4, 4)\n",
    "matrice"
   ]
  },
  {
   "cell_type": "markdown",
   "id": "033d9c16",
   "metadata": {},
   "source": [
    "## 8. Créer la matrice d’identité 3x3"
   ]
  },
  {
   "cell_type": "code",
   "execution_count": 12,
   "id": "f5b86679",
   "metadata": {},
   "outputs": [
    {
     "data": {
      "text/plain": [
       "array([[1., 0., 0.],\n",
       "       [0., 1., 0.],\n",
       "       [0., 0., 1.]])"
      ]
     },
     "execution_count": 12,
     "metadata": {},
     "output_type": "execute_result"
    }
   ],
   "source": [
    "matrice_identite = np.eye(3)\n",
    "matrice_identite"
   ]
  },
  {
   "cell_type": "markdown",
   "id": "cbc72526",
   "metadata": {},
   "source": [
    "## 9. Utiliser Numpy pour générer un nombre aléatroire compris entre 0 et 1"
   ]
  },
  {
   "cell_type": "code",
   "execution_count": 13,
   "id": "4fd4edbc",
   "metadata": {},
   "outputs": [
    {
     "data": {
      "text/plain": [
       "0.09920049914625895"
      ]
     },
     "execution_count": 13,
     "metadata": {},
     "output_type": "execute_result"
    }
   ],
   "source": [
    "nombre_aleatoire = np.random.rand()\n",
    "nombre_aleatoire"
   ]
  },
  {
   "cell_type": "markdown",
   "id": "283f250c",
   "metadata": {},
   "source": [
    "## 10. Utiliser Numpy pour générer un vecteur de 16 éléments aléatoires"
   ]
  },
  {
   "cell_type": "code",
   "execution_count": 14,
   "id": "faee7e3e",
   "metadata": {},
   "outputs": [
    {
     "data": {
      "text/plain": [
       "array([0., 0., 0., 0., 0., 0., 0., 0., 0., 0., 0., 0., 0., 0., 0., 0.])"
      ]
     },
     "execution_count": 14,
     "metadata": {},
     "output_type": "execute_result"
    }
   ],
   "source": [
    "vecteur = np.zeros(16)\n",
    "vecteur"
   ]
  },
  {
   "cell_type": "code",
   "execution_count": 15,
   "id": "8b5a8a3d",
   "metadata": {},
   "outputs": [
    {
     "data": {
      "text/plain": [
       "array([0.56268061, 0.45195429, 0.39798359, 0.01145693, 0.30478161,\n",
       "       0.1512653 , 0.65575985, 0.68597812, 0.41815838, 0.11560888,\n",
       "       0.91234091, 0.34486535, 0.35348413, 0.37160354, 0.47977841,\n",
       "       0.17634864])"
      ]
     },
     "execution_count": 15,
     "metadata": {},
     "output_type": "execute_result"
    }
   ],
   "source": [
    "vecteur_aleatoire = np.random.rand(16)\n",
    "vecteur_aleatoire"
   ]
  },
  {
   "cell_type": "markdown",
   "id": "179b8ad3",
   "metadata": {},
   "source": [
    "## Mais si on veut que ses nombres soient généeés d'une distribution normale:"
   ]
  },
  {
   "cell_type": "code",
   "execution_count": 16,
   "id": "3bd890fe",
   "metadata": {},
   "outputs": [
    {
     "data": {
      "text/plain": [
       "array([-0.12929218, -0.4458016 , -0.35750466, -1.10050302, -1.32202025,\n",
       "       -0.07470636, -0.62576752,  1.94816843, -0.71373608, -0.7660798 ,\n",
       "       -0.40144037, -0.91808323, -1.69361261, -1.12918558, -0.4917001 ,\n",
       "       -0.47412165])"
      ]
     },
     "execution_count": 16,
     "metadata": {},
     "output_type": "execute_result"
    }
   ],
   "source": [
    "vecteur_normal = np.random.normal(loc=0, scale=1, size=16)\n",
    "vecteur_normal"
   ]
  },
  {
   "cell_type": "code",
   "execution_count": 17,
   "id": "e12ae2ad",
   "metadata": {},
   "outputs": [
    {
     "data": {
      "text/plain": [
       "array([-0.37436089,  1.6235209 , -0.73122595, -0.22133426, -0.49255676,\n",
       "        0.97002428,  1.22938224, -0.94454661, -0.44200288,  0.66263216,\n",
       "       -0.84032403,  0.92873041,  0.57633779, -0.80584627, -0.35962479,\n",
       "        0.08519761])"
      ]
     },
     "execution_count": 17,
     "metadata": {},
     "output_type": "execute_result"
    }
   ],
   "source": [
    "vecteur_aleatoire = np.random.randn(16)\n",
    "vecteur_aleatoire"
   ]
  },
  {
   "cell_type": "markdown",
   "id": "ebdae515",
   "metadata": {},
   "source": [
    "## 11. Créer un tableau unidimensionnel de 20 éléments de 1 à 20, puis remplacer tous ses éléments compris strictement entre 5 et 15 par leurs opposés"
   ]
  },
  {
   "cell_type": "code",
   "execution_count": 18,
   "id": "cfccb1f6",
   "metadata": {},
   "outputs": [
    {
     "name": "stdout",
     "output_type": "stream",
     "text": [
      "Tableau initial :\n",
      " [ 1  2  3  4  5  6  7  8  9 10 11 12 13 14 15 16 17 18 19 20]\n"
     ]
    },
    {
     "data": {
      "text/plain": [
       "array([  1,   2,   3,   4,   5,  -6,  -7,  -8,  -9, -10, -11, -12, -13,\n",
       "       -14,  15,  16,  17,  18,  19,  20])"
      ]
     },
     "execution_count": 18,
     "metadata": {},
     "output_type": "execute_result"
    }
   ],
   "source": [
    "tableau = np.arange(1, 21)\n",
    "print(\"Tableau initial :\\n\", tableau)\n",
    "# Remplacer les éléments strictement entre 5 et 15 par leurs opposés\n",
    "tableau[(tableau > 5) & (tableau < 15)] *= -1\n",
    "tableau"
   ]
  },
  {
   "cell_type": "markdown",
   "id": "39552433",
   "metadata": {},
   "source": [
    "## 12. Écrire un programme permettant d’obtenir la matrice suivante "
   ]
  },
  {
   "cell_type": "code",
   "execution_count": 20,
   "id": "69056b7b",
   "metadata": {},
   "outputs": [
    {
     "data": {
      "text/plain": [
       "array([[0.01, 0.02, 0.03, 0.04, 0.05, 0.06, 0.07, 0.08, 0.09, 0.1 ],\n",
       "       [0.11, 0.12, 0.13, 0.14, 0.15, 0.16, 0.17, 0.18, 0.19, 0.2 ],\n",
       "       [0.21, 0.22, 0.23, 0.24, 0.25, 0.26, 0.27, 0.28, 0.29, 0.3 ],\n",
       "       [0.31, 0.32, 0.33, 0.34, 0.35, 0.36, 0.37, 0.38, 0.39, 0.4 ],\n",
       "       [0.41, 0.42, 0.43, 0.44, 0.45, 0.46, 0.47, 0.48, 0.49, 0.5 ],\n",
       "       [0.51, 0.52, 0.53, 0.54, 0.55, 0.56, 0.57, 0.58, 0.59, 0.6 ],\n",
       "       [0.61, 0.62, 0.63, 0.64, 0.65, 0.66, 0.67, 0.68, 0.69, 0.7 ],\n",
       "       [0.71, 0.72, 0.73, 0.74, 0.75, 0.76, 0.77, 0.78, 0.79, 0.8 ],\n",
       "       [0.81, 0.82, 0.83, 0.84, 0.85, 0.86, 0.87, 0.88, 0.89, 0.9 ],\n",
       "       [0.91, 0.92, 0.93, 0.94, 0.95, 0.96, 0.97, 0.98, 0.99, 1.  ]])"
      ]
     },
     "execution_count": 20,
     "metadata": {},
     "output_type": "execute_result"
    }
   ],
   "source": [
    "vecteur = np.linspace(0.01, 1.0, 100)\n",
    "matrice = vecteur.reshape(10, 10)\n",
    "matrice"
   ]
  },
  {
   "cell_type": "code",
   "execution_count": 19,
   "id": "cdb2fdaa",
   "metadata": {},
   "outputs": [],
   "source": [
    "matrice = np.arange(1,101).reshape(10,10)/100"
   ]
  },
  {
   "cell_type": "markdown",
   "id": "f88de7a8",
   "metadata": {},
   "source": [
    "## 13. Créer un vecteur de 50 éléments également espacés entre 5 et 10"
   ]
  },
  {
   "cell_type": "code",
   "execution_count": 21,
   "id": "62b37278",
   "metadata": {},
   "outputs": [
    {
     "data": {
      "text/plain": [
       "array([ 5.        ,  5.10204082,  5.20408163,  5.30612245,  5.40816327,\n",
       "        5.51020408,  5.6122449 ,  5.71428571,  5.81632653,  5.91836735,\n",
       "        6.02040816,  6.12244898,  6.2244898 ,  6.32653061,  6.42857143,\n",
       "        6.53061224,  6.63265306,  6.73469388,  6.83673469,  6.93877551,\n",
       "        7.04081633,  7.14285714,  7.24489796,  7.34693878,  7.44897959,\n",
       "        7.55102041,  7.65306122,  7.75510204,  7.85714286,  7.95918367,\n",
       "        8.06122449,  8.16326531,  8.26530612,  8.36734694,  8.46938776,\n",
       "        8.57142857,  8.67346939,  8.7755102 ,  8.87755102,  8.97959184,\n",
       "        9.08163265,  9.18367347,  9.28571429,  9.3877551 ,  9.48979592,\n",
       "        9.59183673,  9.69387755,  9.79591837,  9.89795918, 10.        ])"
      ]
     },
     "execution_count": 21,
     "metadata": {},
     "output_type": "execute_result"
    }
   ],
   "source": [
    "vecteur = np.linspace(5, 10, 50)\n",
    "vecteur"
   ]
  },
  {
   "cell_type": "markdown",
   "id": "31edbc4e",
   "metadata": {},
   "source": [
    "## 14. Créer une matrice 8x8 d’éléments entre 1 et 64"
   ]
  },
  {
   "cell_type": "code",
   "execution_count": 22,
   "id": "3ac03b57",
   "metadata": {},
   "outputs": [
    {
     "data": {
      "text/plain": [
       "array([[ 1,  2,  3,  4,  5,  6,  7,  8],\n",
       "       [ 9, 10, 11, 12, 13, 14, 15, 16],\n",
       "       [17, 18, 19, 20, 21, 22, 23, 24],\n",
       "       [25, 26, 27, 28, 29, 30, 31, 32],\n",
       "       [33, 34, 35, 36, 37, 38, 39, 40],\n",
       "       [41, 42, 43, 44, 45, 46, 47, 48],\n",
       "       [49, 50, 51, 52, 53, 54, 55, 56],\n",
       "       [57, 58, 59, 60, 61, 62, 63, 64]])"
      ]
     },
     "execution_count": 22,
     "metadata": {},
     "output_type": "execute_result"
    }
   ],
   "source": [
    "matrice = np.arange(1, 65).reshape(8, 8)\n",
    "matrice"
   ]
  },
  {
   "cell_type": "markdown",
   "id": "a8472a23",
   "metadata": {},
   "source": [
    "## 15. Écrire un programme permettant de faire une sélection dans la matrice précédente pour d’obtenir la matrice suivante"
   ]
  },
  {
   "cell_type": "code",
   "execution_count": 23,
   "id": "33014efa",
   "metadata": {},
   "outputs": [
    {
     "data": {
      "text/plain": [
       "array([[36, 37, 38, 39, 40],\n",
       "       [44, 45, 46, 47, 48],\n",
       "       [52, 53, 54, 55, 56]])"
      ]
     },
     "execution_count": 23,
     "metadata": {},
     "output_type": "execute_result"
    }
   ],
   "source": [
    "sous_matrice = matrice[4:7, 3:8]  # Lignes 4 à 6 (inclus), colonnes 3 à 7 (inclus)\n",
    "sous_matrice"
   ]
  },
  {
   "cell_type": "code",
   "execution_count": 24,
   "id": "dc90f5a3",
   "metadata": {},
   "outputs": [
    {
     "data": {
      "text/plain": [
       "array([[36, 37, 38, 39, 40],\n",
       "       [44, 45, 46, 47, 48],\n",
       "       [52, 53, 54, 55, 56]])"
      ]
     },
     "execution_count": 24,
     "metadata": {},
     "output_type": "execute_result"
    }
   ],
   "source": [
    "sous_matrice = matrice[4:7, 3:]\n",
    "sous_matrice"
   ]
  },
  {
   "cell_type": "markdown",
   "id": "4204e4bb",
   "metadata": {},
   "source": [
    "## 16. Écrire un programme permettant de faire une sélection dans la matrice précédente pour d’obtenir la matrice suivante"
   ]
  },
  {
   "cell_type": "code",
   "execution_count": 25,
   "id": "7244f276",
   "metadata": {},
   "outputs": [
    {
     "data": {
      "text/plain": [
       "array([[25, 26, 27, 28, 29],\n",
       "       [33, 34, 35, 36, 37],\n",
       "       [41, 42, 43, 44, 45],\n",
       "       [49, 50, 51, 52, 53],\n",
       "       [57, 58, 59, 60, 61]])"
      ]
     },
     "execution_count": 25,
     "metadata": {},
     "output_type": "execute_result"
    }
   ],
   "source": [
    "sous_matrice = matrice[3:, :5]  # Lignes 3 à 7 (inclus), colonnes 0 à 4 (inclus)\n",
    "sous_matrice"
   ]
  },
  {
   "cell_type": "markdown",
   "id": "c84c0edf",
   "metadata": {},
   "source": [
    "## 17. Écrire un programme permettant de faire une sélection uniquement des deux premieres lignes de la matrice de la question 14"
   ]
  },
  {
   "cell_type": "code",
   "execution_count": 26,
   "id": "5fee8ef1",
   "metadata": {},
   "outputs": [
    {
     "data": {
      "text/plain": [
       "array([[ 1,  2,  3,  4,  5,  6,  7,  8],\n",
       "       [ 9, 10, 11, 12, 13, 14, 15, 16]])"
      ]
     },
     "execution_count": 26,
     "metadata": {},
     "output_type": "execute_result"
    }
   ],
   "source": [
    "deux_premieres_lignes = matrice[:2]\n",
    "deux_premieres_lignes"
   ]
  },
  {
   "cell_type": "markdown",
   "id": "1c04f187",
   "metadata": {},
   "source": [
    "## 18. Calculer la somme de toutes les valeurs d’une matrice"
   ]
  },
  {
   "cell_type": "code",
   "execution_count": 27,
   "id": "c6f221d3",
   "metadata": {},
   "outputs": [
    {
     "data": {
      "text/plain": [
       "np.int64(2080)"
      ]
     },
     "execution_count": 27,
     "metadata": {},
     "output_type": "execute_result"
    }
   ],
   "source": [
    "somme = np.sum(matrice)\n",
    "somme"
   ]
  },
  {
   "cell_type": "markdown",
   "id": "11c52490",
   "metadata": {},
   "source": [
    "## 19. Calculer la moyenne des valeurs dans la matrice"
   ]
  },
  {
   "cell_type": "code",
   "execution_count": 28,
   "id": "db77e48f",
   "metadata": {},
   "outputs": [
    {
     "data": {
      "text/plain": [
       "np.float64(32.5)"
      ]
     },
     "execution_count": 28,
     "metadata": {},
     "output_type": "execute_result"
    }
   ],
   "source": [
    "moyenne = np.mean(matrice)\n",
    "moyenne"
   ]
  },
  {
   "cell_type": "markdown",
   "id": "f1106499",
   "metadata": {},
   "source": [
    "## 20. Calculer l’écart type des valeurs dans la matrice"
   ]
  },
  {
   "cell_type": "code",
   "execution_count": 29,
   "id": "0671bfea",
   "metadata": {},
   "outputs": [
    {
     "data": {
      "text/plain": [
       "np.float64(18.472953201911167)"
      ]
     },
     "execution_count": 29,
     "metadata": {},
     "output_type": "execute_result"
    }
   ],
   "source": [
    "np.std(matrice)"
   ]
  },
  {
   "cell_type": "markdown",
   "id": "72f30e62",
   "metadata": {},
   "source": [
    "## 21. Calculer la somme des valeurs de toutes les colonnes"
   ]
  },
  {
   "cell_type": "code",
   "execution_count": 30,
   "id": "270ae612",
   "metadata": {},
   "outputs": [
    {
     "data": {
      "text/plain": [
       "array([232, 240, 248, 256, 264, 272, 280, 288])"
      ]
     },
     "execution_count": 30,
     "metadata": {},
     "output_type": "execute_result"
    }
   ],
   "source": [
    "somme_colonnes = np.sum(matrice, axis=0)\n",
    "somme_colonnes"
   ]
  },
  {
   "cell_type": "markdown",
   "id": "8a5581a5",
   "metadata": {},
   "source": [
    "## 22. Créer une matrice 4x4 dont les valeurs de la diagonale sont 0, 1, 2 et 3"
   ]
  },
  {
   "cell_type": "code",
   "execution_count": 31,
   "id": "21edb4f8",
   "metadata": {},
   "outputs": [
    {
     "data": {
      "text/plain": [
       "array([[0, 0, 0, 0],\n",
       "       [0, 1, 0, 0],\n",
       "       [0, 0, 2, 0],\n",
       "       [0, 0, 0, 3]])"
      ]
     },
     "execution_count": 31,
     "metadata": {},
     "output_type": "execute_result"
    }
   ],
   "source": [
    "diagonale = np.array([0, 1, 2, 3])\n",
    "matrice = np.diag(diagonale)\n",
    "matrice"
   ]
  },
  {
   "cell_type": "markdown",
   "id": "4e6a1627",
   "metadata": {},
   "source": [
    "## 23. Créer une matrice 4x4 dont les valeurs de la diagonale sont 1, 2, 3, et 4."
   ]
  },
  {
   "cell_type": "code",
   "execution_count": 32,
   "id": "c33d1fa8",
   "metadata": {},
   "outputs": [
    {
     "data": {
      "text/plain": [
       "array([[1, 0, 0, 0],\n",
       "       [0, 2, 0, 0],\n",
       "       [0, 0, 3, 0],\n",
       "       [0, 0, 0, 4]])"
      ]
     },
     "execution_count": 32,
     "metadata": {},
     "output_type": "execute_result"
    }
   ],
   "source": [
    "diagonale = np.array([1, 2, 3, 4])\n",
    "matrice = np.diag(diagonale)\n",
    "matrice"
   ]
  },
  {
   "cell_type": "markdown",
   "id": "ebc58de0",
   "metadata": {},
   "source": [
    "## 24. Créer une matrice 4x4 avec des valeurs 1,2,3 sont juste en dessous de la diagonale"
   ]
  },
  {
   "cell_type": "code",
   "execution_count": 33,
   "id": "9fe7a469",
   "metadata": {},
   "outputs": [
    {
     "data": {
      "text/plain": [
       "array([[0, 0, 0, 0],\n",
       "       [1, 0, 0, 0],\n",
       "       [0, 2, 0, 0],\n",
       "       [0, 0, 3, 0]])"
      ]
     },
     "execution_count": 33,
     "metadata": {},
     "output_type": "execute_result"
    }
   ],
   "source": [
    "valeurs = np.array([1, 2, 3])\n",
    "matrice = np.diag(valeurs, k=-1)\n",
    "matrice"
   ]
  },
  {
   "cell_type": "markdown",
   "id": "40522ae7",
   "metadata": {},
   "source": [
    "## 25. Créer un tableau unidimensionnel vect de valeur de 1 à 20, puis remplacer tous ses valeurs impaires par -1"
   ]
  },
  {
   "cell_type": "code",
   "execution_count": 34,
   "id": "ac69d5f1",
   "metadata": {},
   "outputs": [
    {
     "data": {
      "text/plain": [
       "array([ 1,  2,  3,  4,  5,  6,  7,  8,  9, 10, 11, 12, 13, 14, 15, 16, 17,\n",
       "       18, 19, 20])"
      ]
     },
     "execution_count": 34,
     "metadata": {},
     "output_type": "execute_result"
    }
   ],
   "source": [
    "vect = np.arange(1, 21)\n",
    "vect"
   ]
  },
  {
   "cell_type": "code",
   "execution_count": 35,
   "id": "dcdb9a47",
   "metadata": {},
   "outputs": [
    {
     "data": {
      "text/plain": [
       "array([-1,  2, -1,  4, -1,  6, -1,  8, -1, 10, -1, 12, -1, 14, -1, 16, -1,\n",
       "       18, -1, 20])"
      ]
     },
     "execution_count": 35,
     "metadata": {},
     "output_type": "execute_result"
    }
   ],
   "source": [
    "vect[vect % 2 != 0] = -1\n",
    "vect"
   ]
  },
  {
   "cell_type": "markdown",
   "id": "f74ea9d1",
   "metadata": {},
   "source": [
    "## 26. Créer un tableau unidimensionnel vect_2 de valeur de 1 à 20, puis remplacer tous ses valeurs impaires par -1 sans modifier vect_2"
   ]
  },
  {
   "cell_type": "code",
   "execution_count": 36,
   "id": "92db85ad",
   "metadata": {},
   "outputs": [
    {
     "data": {
      "text/plain": [
       "array([ 1,  2,  3,  4,  5,  6,  7,  8,  9, 10, 11, 12, 13, 14, 15, 16, 17,\n",
       "       18, 19, 20])"
      ]
     },
     "execution_count": 36,
     "metadata": {},
     "output_type": "execute_result"
    }
   ],
   "source": [
    "vecteur = np.arange(1, 21)\n",
    "vect_2 = vecteur.copy()\n",
    "vect_2"
   ]
  },
  {
   "cell_type": "code",
   "execution_count": 37,
   "id": "443aea30",
   "metadata": {},
   "outputs": [],
   "source": [
    "vect_2[vect_2 % 2 != 0] = -1"
   ]
  },
  {
   "cell_type": "code",
   "execution_count": 38,
   "id": "7946a37b",
   "metadata": {},
   "outputs": [
    {
     "data": {
      "text/plain": [
       "array([ 1,  2,  3,  4,  5,  6,  7,  8,  9, 10, 11, 12, 13, 14, 15, 16, 17,\n",
       "       18, 19, 20])"
      ]
     },
     "execution_count": 38,
     "metadata": {},
     "output_type": "execute_result"
    }
   ],
   "source": [
    "vecteur"
   ]
  },
  {
   "cell_type": "markdown",
   "id": "ed114426",
   "metadata": {},
   "source": [
    "## 27. Créer une matrice 3x3 d’éléments de 1 à 9, puis permuter les deux premières colonnes"
   ]
  },
  {
   "cell_type": "code",
   "execution_count": 39,
   "id": "61bcda35",
   "metadata": {},
   "outputs": [
    {
     "data": {
      "text/plain": [
       "array([[1, 2, 3],\n",
       "       [4, 5, 6],\n",
       "       [7, 8, 9]])"
      ]
     },
     "execution_count": 39,
     "metadata": {},
     "output_type": "execute_result"
    }
   ],
   "source": [
    "matrice = np.arange(1, 10).reshape(3, 3)\n",
    "matrice"
   ]
  },
  {
   "cell_type": "code",
   "execution_count": 40,
   "id": "8930bd3b",
   "metadata": {},
   "outputs": [
    {
     "data": {
      "text/plain": [
       "array([[2, 1, 3],\n",
       "       [5, 4, 6],\n",
       "       [8, 7, 9]])"
      ]
     },
     "execution_count": 40,
     "metadata": {},
     "output_type": "execute_result"
    }
   ],
   "source": [
    "matrice[:, [0, 1]] = matrice[:, [1, 0]]\n",
    "matrice"
   ]
  },
  {
   "cell_type": "markdown",
   "id": "3950a8ba",
   "metadata": {},
   "source": [
    "## 28. Créer une matrice 3x3 d’éléments de 1 à 9, puis permuter les deux dernières lignes"
   ]
  },
  {
   "cell_type": "code",
   "execution_count": 41,
   "id": "77b8b123",
   "metadata": {},
   "outputs": [
    {
     "data": {
      "text/plain": [
       "array([[1, 2, 3],\n",
       "       [7, 8, 9],\n",
       "       [4, 5, 6]])"
      ]
     },
     "execution_count": 41,
     "metadata": {},
     "output_type": "execute_result"
    }
   ],
   "source": [
    "matrice = np.arange(1, 10).reshape(3, 3)\n",
    "matrice[[1, 2], :] = matrice[[2, 1], :]\n",
    "matrice"
   ]
  }
 ],
 "metadata": {
  "kernelspec": {
   "display_name": "Python [conda env:base] *",
   "language": "python",
   "name": "conda-base-py"
  },
  "language_info": {
   "codemirror_mode": {
    "name": "ipython",
    "version": 3
   },
   "file_extension": ".py",
   "mimetype": "text/x-python",
   "name": "python",
   "nbconvert_exporter": "python",
   "pygments_lexer": "ipython3",
   "version": "3.13.5"
  }
 },
 "nbformat": 4,
 "nbformat_minor": 5
}
