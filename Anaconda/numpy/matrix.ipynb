{
 "cells": [
  {
   "cell_type": "code",
   "execution_count": 1,
   "id": "54579c5c-ee2d-4308-abcc-8b2c9cfb2274",
   "metadata": {},
   "outputs": [],
   "source": [
    "import numpy as np"
   ]
  },
  {
   "cell_type": "code",
   "execution_count": 5,
   "id": "efd005e0-3ebe-4318-8ed3-e1150031cecf",
   "metadata": {},
   "outputs": [],
   "source": [
    "liste_de_liste = [[1 , 2 , 3] , [4 , 5 ,6] , [7 , 8 , 9]]"
   ]
  },
  {
   "cell_type": "code",
   "execution_count": 6,
   "id": "97949afc-d493-42f4-8ef8-a901e1f8d8a8",
   "metadata": {},
   "outputs": [
    {
     "data": {
      "text/plain": [
       "[[1, 2, 3], [4, 5, 6], [7, 8, 9]]"
      ]
     },
     "execution_count": 6,
     "metadata": {},
     "output_type": "execute_result"
    }
   ],
   "source": [
    "liste_de_liste"
   ]
  },
  {
   "cell_type": "code",
   "execution_count": 7,
   "id": "cbd67d53-8a3b-419a-a379-9b1e9ecebdb0",
   "metadata": {},
   "outputs": [],
   "source": [
    "matrice = np.array(liste_de_liste)"
   ]
  },
  {
   "cell_type": "code",
   "execution_count": 8,
   "id": "2082777b-0d34-4d1e-a587-0dfabbed7525",
   "metadata": {},
   "outputs": [
    {
     "data": {
      "text/plain": [
       "array([[1, 2, 3],\n",
       "       [4, 5, 6],\n",
       "       [7, 8, 9]])"
      ]
     },
     "execution_count": 8,
     "metadata": {},
     "output_type": "execute_result"
    }
   ],
   "source": [
    "matrice"
   ]
  },
  {
   "cell_type": "markdown",
   "id": "abbea1af-a249-41ba-9f63-d455b0dcd26c",
   "metadata": {},
   "source": [
    "matrice (algèbre linéaire)"
   ]
  },
  {
   "cell_type": "code",
   "execution_count": 10,
   "id": "d7afe88b-7cd6-4383-ad2d-0530b8d43eda",
   "metadata": {},
   "outputs": [],
   "source": [
    "liste_de_liste1 = [[1 , 2] , [3 , 4] , [5 , 6]]"
   ]
  },
  {
   "cell_type": "code",
   "execution_count": 12,
   "id": "7743042d-fb0e-4ae6-bd66-c76a57574dc8",
   "metadata": {},
   "outputs": [],
   "source": [
    "matrice1 = np.array(liste_de_liste1)"
   ]
  },
  {
   "cell_type": "code",
   "execution_count": 13,
   "id": "d94f4030-58cc-4b02-9441-335cbf0a5574",
   "metadata": {},
   "outputs": [
    {
     "data": {
      "text/plain": [
       "array([[1, 2],\n",
       "       [3, 4],\n",
       "       [5, 6]])"
      ]
     },
     "execution_count": 13,
     "metadata": {},
     "output_type": "execute_result"
    }
   ],
   "source": [
    "matrice1"
   ]
  }
 ],
 "metadata": {
  "kernelspec": {
   "display_name": "Python [conda env:base] *",
   "language": "python",
   "name": "conda-base-py"
  },
  "language_info": {
   "codemirror_mode": {
    "name": "ipython",
    "version": 3
   },
   "file_extension": ".py",
   "mimetype": "text/x-python",
   "name": "python",
   "nbconvert_exporter": "python",
   "pygments_lexer": "ipython3",
   "version": "3.13.5"
  }
 },
 "nbformat": 4,
 "nbformat_minor": 5
}
