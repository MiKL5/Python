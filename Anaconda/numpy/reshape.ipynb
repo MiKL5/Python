{
 "cells": [
  {
   "cell_type": "code",
   "execution_count": 3,
   "id": "75438b1d-0be4-4b0f-a09d-015ecef93516",
   "metadata": {},
   "outputs": [],
   "source": [
    "import numpy as np"
   ]
  },
  {
   "cell_type": "markdown",
   "id": "54c82647-476e-4cc2-96bb-349d7cc6c97d",
   "metadata": {},
   "source": [
    "# **redimensionner le tableau sans changer ses données, sous réserve que le nombre total d'éléments reste le même avec les dimensions voulues**"
   ]
  },
  {
   "cell_type": "code",
   "execution_count": 5,
   "id": "3ccf0f02-d20e-4966-9e99-d275deb0ec2d",
   "metadata": {},
   "outputs": [
    {
     "data": {
      "text/plain": [
       "array([ 0,  1,  2,  3,  4,  5,  6,  7,  8,  9, 10, 11])"
      ]
     },
     "execution_count": 5,
     "metadata": {},
     "output_type": "execute_result"
    }
   ],
   "source": [
    "vecteur = np.arange(12)\n",
    "vecteur"
   ]
  },
  {
   "cell_type": "markdown",
   "id": "d7e4e84c-25b2-45b4-b4f0-390511fa4dbb",
   "metadata": {},
   "source": [
    "#### _le transformer en matrice_"
   ]
  },
  {
   "cell_type": "code",
   "execution_count": 7,
   "id": "804c811d-e5a1-45d1-aaa4-649c383f0a6d",
   "metadata": {},
   "outputs": [
    {
     "data": {
      "text/plain": [
       "array([[ 0,  1,  2,  3],\n",
       "       [ 4,  5,  6,  7],\n",
       "       [ 8,  9, 10, 11]])"
      ]
     },
     "execution_count": 7,
     "metadata": {},
     "output_type": "execute_result"
    }
   ],
   "source": [
    "matrice = vecteur.reshape((3,4))\n",
    "matrice"
   ]
  },
  {
   "cell_type": "code",
   "execution_count": 9,
   "id": "59ff5b7f-0506-4e89-8a78-6e0c8b1ee7c9",
   "metadata": {},
   "outputs": [
    {
     "data": {
      "text/plain": [
       "array([[ 0,  1,  2],\n",
       "       [ 3,  4,  5],\n",
       "       [ 6,  7,  8],\n",
       "       [ 9, 10, 11]])"
      ]
     },
     "execution_count": 9,
     "metadata": {},
     "output_type": "execute_result"
    }
   ],
   "source": [
    "matrice1 = vecteur.reshape((4,3)) # 4 lignes et 3 colonnes\n",
    "matrice1"
   ]
  },
  {
   "cell_type": "code",
   "execution_count": 10,
   "id": "24f64eee-4097-4479-ba6d-a710af35a23c",
   "metadata": {},
   "outputs": [
    {
     "ename": "ValueError",
     "evalue": "cannot reshape array of size 12 into shape (2,5)",
     "output_type": "error",
     "traceback": [
      "\u001b[0;31m---------------------------------------------------------------------------\u001b[0m",
      "\u001b[0;31mValueError\u001b[0m                                Traceback (most recent call last)",
      "Cell \u001b[0;32mIn[10], line 1\u001b[0m\n\u001b[0;32m----> 1\u001b[0m FalseMatrice \u001b[38;5;241m=\u001b[39m vecteur\u001b[38;5;241m.\u001b[39mreshape((\u001b[38;5;241m2\u001b[39m,\u001b[38;5;241m5\u001b[39m)) \u001b[38;5;66;03m# incompatible au nombre d'éléments\u001b[39;00m\n\u001b[1;32m      2\u001b[0m FalseMatrice\n",
      "\u001b[0;31mValueError\u001b[0m: cannot reshape array of size 12 into shape (2,5)"
     ]
    }
   ],
   "source": [
    "FalseMatrice = vecteur.reshape((2,5)) # incompatible au nombre d'éléments\n",
    "FalseMatrice"
   ]
  },
  {
   "cell_type": "code",
   "execution_count": null,
   "id": "6882c65e-d803-4451-9818-30b44267f2bc",
   "metadata": {},
   "outputs": [],
   "source": []
  }
 ],
 "metadata": {
  "kernelspec": {
   "display_name": "Python [conda env:base] *",
   "language": "python",
   "name": "conda-base-py"
  },
  "language_info": {
   "codemirror_mode": {
    "name": "ipython",
    "version": 3
   },
   "file_extension": ".py",
   "mimetype": "text/x-python",
   "name": "python",
   "nbconvert_exporter": "python",
   "pygments_lexer": "ipython3",
   "version": "3.13.5"
  }
 },
 "nbformat": 4,
 "nbformat_minor": 5
}
