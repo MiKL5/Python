{
 "cells": [
  {
   "cell_type": "code",
   "execution_count": 1,
   "id": "43f05fac-bcb7-4d10-aee6-5946d7bf85fb",
   "metadata": {},
   "outputs": [],
   "source": [
    "import numpy as np"
   ]
  },
  {
   "cell_type": "markdown",
   "id": "0cfb3014-70fb-4993-a972-370744d90176",
   "metadata": {},
   "source": [
    "# **Opération d'algèbre linéaire (évidement tableaux unidimensionnels)**"
   ]
  },
  {
   "cell_type": "code",
   "execution_count": 3,
   "id": "d6c8f2b0-9e03-4374-bfe6-592b0f40ae27",
   "metadata": {},
   "outputs": [
    {
     "data": {
      "text/plain": [
       "array([ 0,  1,  2,  3,  4,  5,  6,  7,  8,  9, 10])"
      ]
     },
     "execution_count": 3,
     "metadata": {},
     "output_type": "execute_result"
    }
   ],
   "source": [
    "vecteur = np.arange(0,11)\n",
    "vecteur"
   ]
  },
  {
   "cell_type": "code",
   "execution_count": 4,
   "id": "97aa5404-891c-42bf-babd-06f66ce6624a",
   "metadata": {},
   "outputs": [
    {
     "data": {
      "text/plain": [
       "array([10, 11, 12, 13, 14, 15, 16, 17, 18, 19, 20])"
      ]
     },
     "execution_count": 4,
     "metadata": {},
     "output_type": "execute_result"
    }
   ],
   "source": [
    "vecteur1 = np.arange(10,21)\n",
    "vecteur1"
   ]
  },
  {
   "cell_type": "code",
   "execution_count": 5,
   "id": "2a764575-2125-444a-ba5e-ffca42b4d190",
   "metadata": {},
   "outputs": [
    {
     "data": {
      "text/plain": [
       "array([10, 12, 14, 16, 18, 20, 22, 24, 26, 28, 30])"
      ]
     },
     "execution_count": 5,
     "metadata": {},
     "output_type": "execute_result"
    }
   ],
   "source": [
    "# sommer les vecteurs\n",
    "vecteur + vecteur1"
   ]
  },
  {
   "cell_type": "code",
   "execution_count": 6,
   "id": "c9118119-7ba5-40d8-96c3-82ce3bce6874",
   "metadata": {},
   "outputs": [
    {
     "data": {
      "text/plain": [
       "array([-10, -10, -10, -10, -10, -10, -10, -10, -10, -10, -10])"
      ]
     },
     "execution_count": 6,
     "metadata": {},
     "output_type": "execute_result"
    }
   ],
   "source": [
    "# les soustraires\n",
    "vecteur - vecteur1"
   ]
  },
  {
   "cell_type": "code",
   "execution_count": 7,
   "id": "e054cf18-ffce-4f6c-acb5-7a9a2230d192",
   "metadata": {},
   "outputs": [
    {
     "data": {
      "text/plain": [
       "array([  0,  11,  24,  39,  56,  75,  96, 119, 144, 171, 200])"
      ]
     },
     "execution_count": 7,
     "metadata": {},
     "output_type": "execute_result"
    }
   ],
   "source": [
    "# le produit\n",
    "vecteur * vecteur1"
   ]
  },
  {
   "cell_type": "code",
   "execution_count": 8,
   "id": "840651d8-5f94-40d8-b16b-d0f3bd33268b",
   "metadata": {},
   "outputs": [],
   "source": [
    "# la division"
   ]
  },
  {
   "cell_type": "code",
   "execution_count": 9,
   "id": "2da223d7-4328-4d74-aa35-3fa8b7631d12",
   "metadata": {},
   "outputs": [
    {
     "data": {
      "text/plain": [
       "array([0.        , 0.09090909, 0.16666667, 0.23076923, 0.28571429,\n",
       "       0.33333333, 0.375     , 0.41176471, 0.44444444, 0.47368421,\n",
       "       0.5       ])"
      ]
     },
     "execution_count": 9,
     "metadata": {},
     "output_type": "execute_result"
    }
   ],
   "source": [
    "vecteur / vecteur1"
   ]
  },
  {
   "cell_type": "code",
   "execution_count": 10,
   "id": "e3bee2ed-becd-4e2a-a0c4-432edc943166",
   "metadata": {},
   "outputs": [],
   "source": [
    "# ajouter 50 à vecteur1"
   ]
  },
  {
   "cell_type": "code",
   "execution_count": 11,
   "id": "80ba104a-d6f7-429e-831f-c75c215ea6ac",
   "metadata": {},
   "outputs": [
    {
     "data": {
      "text/plain": [
       "array([60, 61, 62, 63, 64, 65, 66, 67, 68, 69, 70])"
      ]
     },
     "execution_count": 11,
     "metadata": {},
     "output_type": "execute_result"
    }
   ],
   "source": [
    "vecteur1 + 50"
   ]
  },
  {
   "cell_type": "code",
   "execution_count": 12,
   "id": "d8f2e7c4-fa26-4556-85ad-ce9ce8df28e8",
   "metadata": {},
   "outputs": [
    {
     "data": {
      "text/plain": [
       "array([ 500,  550,  600,  650,  700,  750,  800,  850,  900,  950, 1000])"
      ]
     },
     "execution_count": 12,
     "metadata": {},
     "output_type": "execute_result"
    }
   ],
   "source": [
    "# vecteur1 * 50\n",
    "vecteur1 * 50"
   ]
  },
  {
   "cell_type": "code",
   "execution_count": 13,
   "id": "95e4b2f9-71e0-45a2-9b4d-22a75a6eb028",
   "metadata": {},
   "outputs": [
    {
     "name": "stderr",
     "output_type": "stream",
     "text": [
      "/var/folders/n0/_5ytbzzj5tqdxd4yymn1bkhw0000gn/T/ipykernel_10314/1969861347.py:2: RuntimeWarning: divide by zero encountered in divide\n",
      "  20 / vecteur\n"
     ]
    },
    {
     "data": {
      "text/plain": [
       "array([        inf, 20.        , 10.        ,  6.66666667,  5.        ,\n",
       "        4.        ,  3.33333333,  2.85714286,  2.5       ,  2.22222222,\n",
       "        2.        ])"
      ]
     },
     "execution_count": 13,
     "metadata": {},
     "output_type": "execute_result"
    }
   ],
   "source": [
    "# diviser le vecteur (attn on ne divise pas par 0 -> observer)\n",
    "20 / vecteur"
   ]
  },
  {
   "cell_type": "code",
   "execution_count": 14,
   "id": "e0fc660c-6304-4da1-85cd-d01b76a428f8",
   "metadata": {},
   "outputs": [
    {
     "data": {
      "text/plain": [
       "array([2.        , 1.81818182, 1.66666667, 1.53846154, 1.42857143,\n",
       "       1.33333333, 1.25      , 1.17647059, 1.11111111, 1.05263158,\n",
       "       1.        ])"
      ]
     },
     "execution_count": 14,
     "metadata": {},
     "output_type": "execute_result"
    }
   ],
   "source": [
    "# idem avec vecteur1\n",
    "20 / vecteur1"
   ]
  },
  {
   "cell_type": "code",
   "execution_count": 15,
   "id": "56621f5a-1a03-43cd-a4c4-19546b9e589b",
   "metadata": {},
   "outputs": [
    {
     "data": {
      "text/plain": [
       "array([  0,   1,   4,   9,  16,  25,  36,  49,  64,  81, 100])"
      ]
     },
     "execution_count": 15,
     "metadata": {},
     "output_type": "execute_result"
    }
   ],
   "source": [
    "# vecteur au carré\n",
    "vecteur **2"
   ]
  },
  {
   "cell_type": "code",
   "execution_count": 16,
   "id": "2cb9c7c9-f331-4718-a1c6-50a8f896d5f7",
   "metadata": {},
   "outputs": [
    {
     "data": {
      "text/plain": [
       "array([0.        , 1.        , 1.41421356, 1.73205081, 2.        ,\n",
       "       2.23606798, 2.44948974, 2.64575131, 2.82842712, 3.        ,\n",
       "       3.16227766])"
      ]
     },
     "execution_count": 16,
     "metadata": {},
     "output_type": "execute_result"
    }
   ],
   "source": [
    "# quelle est la racine carrée du vecteur\n",
    "np.sqrt(vecteur)"
   ]
  },
  {
   "cell_type": "code",
   "execution_count": 17,
   "id": "1816098b-0361-4ea7-9435-e99d258f15f3",
   "metadata": {},
   "outputs": [
    {
     "data": {
      "text/plain": [
       "array([2.20264658e+04, 5.98741417e+04, 1.62754791e+05, 4.42413392e+05,\n",
       "       1.20260428e+06, 3.26901737e+06, 8.88611052e+06, 2.41549528e+07,\n",
       "       6.56599691e+07, 1.78482301e+08, 4.85165195e+08])"
      ]
     },
     "execution_count": 17,
     "metadata": {},
     "output_type": "execute_result"
    }
   ],
   "source": [
    "# calculer le vecteur1 par l'expoentiel\n",
    "np.exp(vecteur1)"
   ]
  }
 ],
 "metadata": {
  "kernelspec": {
   "display_name": "Python [conda env:base] *",
   "language": "python",
   "name": "conda-base-py"
  },
  "language_info": {
   "codemirror_mode": {
    "name": "ipython",
    "version": 3
   },
   "file_extension": ".py",
   "mimetype": "text/x-python",
   "name": "python",
   "nbconvert_exporter": "python",
   "pygments_lexer": "ipython3",
   "version": "3.13.5"
  }
 },
 "nbformat": 4,
 "nbformat_minor": 5
}
