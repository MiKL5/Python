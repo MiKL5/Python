{
 "cells": [
  {
   "cell_type": "markdown",
   "id": "5dad32d8-447c-44df-9697-bd5d94268a13",
   "metadata": {},
   "source": [
    "# **Les principaux attributs**"
   ]
  },
  {
   "cell_type": "code",
   "execution_count": 1,
   "id": "3e8599e3-e501-42cc-b31b-0902649cc55c",
   "metadata": {},
   "outputs": [],
   "source": [
    "import numpy as np"
   ]
  },
  {
   "cell_type": "code",
   "execution_count": 2,
   "id": "22f23ca0-c0d3-41d0-ad9f-bf712ddf54e6",
   "metadata": {},
   "outputs": [],
   "source": [
    "vecteur = np.arange(5)"
   ]
  },
  {
   "cell_type": "code",
   "execution_count": 3,
   "id": "8422128c-fac3-4f8a-8085-47b4fd25f475",
   "metadata": {},
   "outputs": [
    {
     "data": {
      "text/plain": [
       "array([0, 1, 2, 3, 4])"
      ]
     },
     "execution_count": 3,
     "metadata": {},
     "output_type": "execute_result"
    }
   ],
   "source": [
    "vecteur"
   ]
  },
  {
   "cell_type": "markdown",
   "id": "3b5499ad-4f53-4f22-836f-2f40c3497275",
   "metadata": {},
   "source": [
    "## _Combien d'axe_"
   ]
  },
  {
   "cell_type": "code",
   "execution_count": 4,
   "id": "d04cb104-c319-442b-ad6d-52400a6208b2",
   "metadata": {},
   "outputs": [
    {
     "data": {
      "text/plain": [
       "1"
      ]
     },
     "execution_count": 4,
     "metadata": {},
     "output_type": "execute_result"
    }
   ],
   "source": [
    "vecteur.ndim"
   ]
  },
  {
   "cell_type": "code",
   "execution_count": 5,
   "id": "df7cef3d-76aa-40d6-a7fa-a8e93d28b794",
   "metadata": {},
   "outputs": [
    {
     "data": {
      "text/plain": [
       "1"
      ]
     },
     "execution_count": 5,
     "metadata": {},
     "output_type": "execute_result"
    }
   ],
   "source": [
    "np.ndim(vecteur)"
   ]
  },
  {
   "cell_type": "code",
   "execution_count": 7,
   "id": "bab81355-16e4-4eae-8191-7c91258b4a5c",
   "metadata": {},
   "outputs": [],
   "source": [
    "matrice = np.array([[0,1,2,3,4,] , [5,6,7,8,9] , [10,11,12,13,14]])"
   ]
  },
  {
   "cell_type": "code",
   "execution_count": 8,
   "id": "d324e696-a68e-4b4b-9e1f-bc39394f72e2",
   "metadata": {},
   "outputs": [
    {
     "data": {
      "text/plain": [
       "array([[ 0,  1,  2,  3,  4],\n",
       "       [ 5,  6,  7,  8,  9],\n",
       "       [10, 11, 12, 13, 14]])"
      ]
     },
     "execution_count": 8,
     "metadata": {},
     "output_type": "execute_result"
    }
   ],
   "source": [
    "matrice"
   ]
  },
  {
   "cell_type": "code",
   "execution_count": 9,
   "id": "0dc595d5-95e8-4451-9e22-68312cefcc8f",
   "metadata": {},
   "outputs": [
    {
     "data": {
      "text/plain": [
       "2"
      ]
     },
     "execution_count": 9,
     "metadata": {},
     "output_type": "execute_result"
    }
   ],
   "source": [
    "matrice.ndim # 2 axes (ligne et colonne)"
   ]
  },
  {
   "cell_type": "markdown",
   "id": "42e465cb-8c5b-4c94-9844-67f292dc13a8",
   "metadata": {},
   "source": [
    "## _La dimension_"
   ]
  },
  {
   "cell_type": "code",
   "execution_count": 10,
   "id": "17b7d6dc-7eb0-41e1-ada3-2dcbf6c29c50",
   "metadata": {},
   "outputs": [
    {
     "data": {
      "text/plain": [
       "(5,)"
      ]
     },
     "execution_count": 10,
     "metadata": {},
     "output_type": "execute_result"
    }
   ],
   "source": [
    "vecteur.shape # Un tuple de 5 éléments"
   ]
  },
  {
   "cell_type": "code",
   "execution_count": 11,
   "id": "11343937-2523-4c44-9900-31d7fa4a5fc5",
   "metadata": {},
   "outputs": [
    {
     "data": {
      "text/plain": [
       "(3, 5)"
      ]
     },
     "execution_count": 11,
     "metadata": {},
     "output_type": "execute_result"
    }
   ],
   "source": [
    "matrice.shape # Un tuple de 5 éléments et 3 lignes"
   ]
  },
  {
   "cell_type": "markdown",
   "id": "8652edaf-1b7d-464f-81ca-76f552b678ac",
   "metadata": {},
   "source": [
    "## _Combien d'élément ?_"
   ]
  },
  {
   "cell_type": "code",
   "execution_count": 12,
   "id": "30c4015b-0cec-47c7-9eb1-76a7c34864ca",
   "metadata": {},
   "outputs": [
    {
     "data": {
      "text/plain": [
       "5"
      ]
     },
     "execution_count": 12,
     "metadata": {},
     "output_type": "execute_result"
    }
   ],
   "source": [
    "vecteur.size # 5 éléments"
   ]
  },
  {
   "cell_type": "code",
   "execution_count": 13,
   "id": "6019944a-a922-43f6-b47d-933d370cb388",
   "metadata": {},
   "outputs": [
    {
     "data": {
      "text/plain": [
       "15"
      ]
     },
     "execution_count": 13,
     "metadata": {},
     "output_type": "execute_result"
    }
   ],
   "source": [
    "matrice.size # 15 éléments"
   ]
  }
 ],
 "metadata": {
  "kernelspec": {
   "display_name": "Python [conda env:base] *",
   "language": "python",
   "name": "conda-base-py"
  },
  "language_info": {
   "codemirror_mode": {
    "name": "ipython",
    "version": 3
   },
   "file_extension": ".py",
   "mimetype": "text/x-python",
   "name": "python",
   "nbconvert_exporter": "python",
   "pygments_lexer": "ipython3",
   "version": "3.13.5"
  }
 },
 "nbformat": 4,
 "nbformat_minor": 5
}
