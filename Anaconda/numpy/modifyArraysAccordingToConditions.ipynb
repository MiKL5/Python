{
 "cells": [
  {
   "cell_type": "code",
   "execution_count": 1,
   "id": "b06e5cff-716e-4e82-b6ef-7c38dd99aab4",
   "metadata": {},
   "outputs": [],
   "source": [
    "import numpy as np"
   ]
  },
  {
   "cell_type": "markdown",
   "id": "65a96bcb-1106-4d76-bd2f-1bd71c0a31cc",
   "metadata": {},
   "source": [
    "# **Modifier les tableau selon les conditions**"
   ]
  },
  {
   "cell_type": "code",
   "execution_count": 2,
   "id": "489a130b-652b-42eb-84a3-70b268a0c6ba",
   "metadata": {},
   "outputs": [
    {
     "data": {
      "text/plain": [
       "array([[ 0,  1,  2,  3,  4,  5],\n",
       "       [ 6,  7,  8,  9, 10, 11],\n",
       "       [12, 13, 14, 15, 16, 17],\n",
       "       [18, 19, 20, 21, 22, 23],\n",
       "       [24, 25, 26, 27, 28, 29]])"
      ]
     },
     "execution_count": 2,
     "metadata": {},
     "output_type": "execute_result"
    }
   ],
   "source": [
    "matrice = np.arange(30).reshape(5, 6)\n",
    "matrice"
   ]
  },
  {
   "cell_type": "code",
   "execution_count": 3,
   "id": "a91f06ca-44db-49d4-97b9-02fb8ad9f9d4",
   "metadata": {},
   "outputs": [
    {
     "name": "stdout",
     "output_type": "stream",
     "text": [
      "<class 'numpy.ndarray'>\n"
     ]
    }
   ],
   "source": [
    "print(type(matrice))"
   ]
  },
  {
   "cell_type": "code",
   "execution_count": 4,
   "id": "7df594db-0c87-424e-ae74-3f885a1310fe",
   "metadata": {},
   "outputs": [],
   "source": [
    "# sélectionner les élément paires et les remplacés par 100\n",
    "matrice[matrice % 2 == 0] = 100"
   ]
  },
  {
   "cell_type": "code",
   "execution_count": 5,
   "id": "d0d4ae12-e03d-4fde-af2a-060ab6e7bad6",
   "metadata": {},
   "outputs": [
    {
     "data": {
      "text/plain": [
       "array([[100,   1, 100,   3, 100,   5],\n",
       "       [100,   7, 100,   9, 100,  11],\n",
       "       [100,  13, 100,  15, 100,  17],\n",
       "       [100,  19, 100,  21, 100,  23],\n",
       "       [100,  25, 100,  27, 100,  29]])"
      ]
     },
     "execution_count": 5,
     "metadata": {},
     "output_type": "execute_result"
    }
   ],
   "source": [
    "matrice"
   ]
  },
  {
   "cell_type": "code",
   "execution_count": 6,
   "id": "336b2359-60cc-49de-b3aa-92f63813085f",
   "metadata": {},
   "outputs": [
    {
     "data": {
      "text/plain": [
       "array([[100, 200, 100, 200, 100, 200],\n",
       "       [100, 200, 100, 200, 100, 200],\n",
       "       [100, 200, 100, 200, 100, 200],\n",
       "       [100, 200, 100,  21, 100,  23],\n",
       "       [100,  25, 100,  27, 100,  29]])"
      ]
     },
     "execution_count": 6,
     "metadata": {},
     "output_type": "execute_result"
    }
   ],
   "source": [
    "# sélectionner ce qui est impaire et inférieur à 20 et remplacer par 200\n",
    "matrice[(matrice < 20) & (matrice % 2 != 0)] = 200\n",
    "matrice"
   ]
  }
 ],
 "metadata": {
  "kernelspec": {
   "display_name": "Python [conda env:base] *",
   "language": "python",
   "name": "conda-base-py"
  },
  "language_info": {
   "codemirror_mode": {
    "name": "ipython",
    "version": 3
   },
   "file_extension": ".py",
   "mimetype": "text/x-python",
   "name": "python",
   "nbconvert_exporter": "python",
   "pygments_lexer": "ipython3",
   "version": "3.13.5"
  }
 },
 "nbformat": 4,
 "nbformat_minor": 5
}
