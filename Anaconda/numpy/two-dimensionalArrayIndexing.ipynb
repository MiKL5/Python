{
 "cells": [
  {
   "cell_type": "code",
   "execution_count": 1,
   "id": "7b013bd2-9672-4d77-b9e0-327dc2258b4e",
   "metadata": {},
   "outputs": [],
   "source": [
    "import numpy as np"
   ]
  },
  {
   "cell_type": "markdown",
   "id": "ca2f81f5-9d2d-4d44-b85f-531ac3f9df48",
   "metadata": {},
   "source": [
    "# **L'indexation dans les matrices**"
   ]
  },
  {
   "cell_type": "code",
   "execution_count": 2,
   "id": "9e3ea7a0-d7da-4ee1-8325-5d4b2333d733",
   "metadata": {},
   "outputs": [
    {
     "data": {
      "text/plain": [
       "array([[ 5, 10, 15],\n",
       "       [20, 25, 30],\n",
       "       [35, 40, 45]])"
      ]
     },
     "execution_count": 2,
     "metadata": {},
     "output_type": "execute_result"
    }
   ],
   "source": [
    "matrice = np.array([[5,10,15],[20,25,30],[35,40,45]])\n",
    "matrice"
   ]
  },
  {
   "cell_type": "code",
   "execution_count": 3,
   "id": "01b5619c-efa6-4abb-9f51-fff3f7cae69b",
   "metadata": {},
   "outputs": [
    {
     "data": {
      "text/plain": [
       "np.int64(5)"
      ]
     },
     "execution_count": 3,
     "metadata": {},
     "output_type": "execute_result"
    }
   ],
   "source": [
    "# récupérer le premier élément de la première colonne\n",
    "matrice[0,0]"
   ]
  },
  {
   "cell_type": "code",
   "execution_count": 4,
   "id": "932d552e-ea3b-4f55-8997-05fdb39ebcbf",
   "metadata": {},
   "outputs": [
    {
     "data": {
      "text/plain": [
       "np.int64(30)"
      ]
     },
     "execution_count": 4,
     "metadata": {},
     "output_type": "execute_result"
    }
   ],
   "source": [
    "# index de ligne 1, index de colonne 2\n",
    "matrice[1,2]"
   ]
  },
  {
   "cell_type": "code",
   "execution_count": 5,
   "id": "75945a8e-c902-4f9b-a02b-2949acc7c6e0",
   "metadata": {},
   "outputs": [
    {
     "data": {
      "text/plain": [
       "np.int64(30)"
      ]
     },
     "execution_count": 5,
     "metadata": {},
     "output_type": "execute_result"
    }
   ],
   "source": [
    "# index de ligne 1, index de colonne 2 d'une autre façon\n",
    "matrice[1][2]"
   ]
  },
  {
   "cell_type": "markdown",
   "id": "59b9ea53-8708-49c7-bc9b-cbd2ab1ad564",
   "metadata": {},
   "source": [
    "La première méthode est préférée proche des procédures mathématiques."
   ]
  },
  {
   "cell_type": "code",
   "execution_count": 6,
   "id": "d4aa52b4-f20e-4d45-94df-620b393e7210",
   "metadata": {},
   "outputs": [
    {
     "data": {
      "text/plain": [
       "array([ 5, 10, 15])"
      ]
     },
     "execution_count": 6,
     "metadata": {},
     "output_type": "execute_result"
    }
   ],
   "source": [
    "# la première ligne\n",
    "matrice[0]"
   ]
  },
  {
   "cell_type": "code",
   "execution_count": 7,
   "id": "ce3e52b7-6382-46cd-a797-174cee230a22",
   "metadata": {},
   "outputs": [
    {
     "data": {
      "text/plain": [
       "array([35, 40, 45])"
      ]
     },
     "execution_count": 7,
     "metadata": {},
     "output_type": "execute_result"
    }
   ],
   "source": [
    "# la dernière colonne (verbeuse)\n",
    "matrice[2,:]"
   ]
  },
  {
   "cell_type": "code",
   "execution_count": 8,
   "id": "a9ec6e47-c49d-49a5-a89a-d536feb6d203",
   "metadata": {},
   "outputs": [],
   "source": [
    "# la première et la seconde"
   ]
  },
  {
   "cell_type": "code",
   "execution_count": 9,
   "id": "0c97f774-6d72-4b40-b93e-81d3d66d7554",
   "metadata": {},
   "outputs": [
    {
     "data": {
      "text/plain": [
       "array([[ 5, 10, 15],\n",
       "       [20, 25, 30]])"
      ]
     },
     "execution_count": 9,
     "metadata": {},
     "output_type": "execute_result"
    }
   ],
   "source": [
    "matrice[:2] # indice 2 exclu"
   ]
  },
  {
   "cell_type": "code",
   "execution_count": 10,
   "id": "8fb78409-abcb-400f-acb4-29f48f9e5e37",
   "metadata": {},
   "outputs": [
    {
     "data": {
      "text/plain": [
       "array([[20, 25, 30],\n",
       "       [35, 40, 45]])"
      ]
     },
     "execution_count": 10,
     "metadata": {},
     "output_type": "execute_result"
    }
   ],
   "source": [
    "# Les dernières\n",
    "matrice[1:]"
   ]
  },
  {
   "cell_type": "code",
   "execution_count": 11,
   "id": "1b2d0699-d19f-43f8-acef-b888381e75cb",
   "metadata": {},
   "outputs": [
    {
     "data": {
      "text/plain": [
       "array([ 5, 20, 35])"
      ]
     },
     "execution_count": 11,
     "metadata": {},
     "output_type": "execute_result"
    }
   ],
   "source": [
    "# la premiière colonne (considèrer toutes les lignes)\n",
    "matrice[:,0]"
   ]
  },
  {
   "cell_type": "code",
   "execution_count": 13,
   "id": "eabd3dd8-1edf-47f6-9c83-96ffac58e609",
   "metadata": {},
   "outputs": [
    {
     "data": {
      "text/plain": [
       "array([10, 25, 40])"
      ]
     },
     "execution_count": 13,
     "metadata": {},
     "output_type": "execute_result"
    }
   ],
   "source": [
    "# la seconde colonne\n",
    "matrice[:,1]"
   ]
  },
  {
   "cell_type": "code",
   "execution_count": 14,
   "id": "7c1fc39d-a4a1-4caa-9ee1-3390d7a74727",
   "metadata": {},
   "outputs": [
    {
     "data": {
      "text/plain": [
       "array([[10, 15],\n",
       "       [25, 30]])"
      ]
     },
     "execution_count": 14,
     "metadata": {},
     "output_type": "execute_result"
    }
   ],
   "source": [
    "# les 2 dernières colonnes des 2 premières lignes\n",
    "matrice[:2,1:]"
   ]
  },
  {
   "cell_type": "code",
   "execution_count": 16,
   "id": "093a6ddb-447b-46f5-b1b6-5245b344c2c4",
   "metadata": {},
   "outputs": [
    {
     "data": {
      "text/plain": [
       "array([35, 40])"
      ]
     },
     "execution_count": 16,
     "metadata": {},
     "output_type": "execute_result"
    }
   ],
   "source": [
    "# les 2 premières colonnes de la dernière ligne\n",
    "matrice[2,0:2] # ligne, puis colonne"
   ]
  }
 ],
 "metadata": {
  "kernelspec": {
   "display_name": "Python [conda env:base] *",
   "language": "python",
   "name": "conda-base-py"
  },
  "language_info": {
   "codemirror_mode": {
    "name": "ipython",
    "version": 3
   },
   "file_extension": ".py",
   "mimetype": "text/x-python",
   "name": "python",
   "nbconvert_exporter": "python",
   "pygments_lexer": "ipython3",
   "version": "3.13.5"
  }
 },
 "nbformat": 4,
 "nbformat_minor": 5
}
