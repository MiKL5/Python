{
 "cells": [
  {
   "cell_type": "code",
   "execution_count": 1,
   "id": "202b9d47-5956-4d70-93b4-df8dff65d538",
   "metadata": {},
   "outputs": [],
   "source": [
    "import numpy as np"
   ]
  },
  {
   "cell_type": "markdown",
   "id": "936e407b-c22a-4fb3-b66c-258ed1622caf",
   "metadata": {},
   "source": [
    "# **La méthode resize vs la fonction resize**"
   ]
  },
  {
   "cell_type": "markdown",
   "id": "e041a145-8818-4422-a585-c44913c4e061",
   "metadata": {},
   "source": [
    "## **La méthode resize**"
   ]
  },
  {
   "cell_type": "code",
   "execution_count": 2,
   "id": "f23336cd-2764-4b2f-836c-c3dcd0f40c26",
   "metadata": {},
   "outputs": [
    {
     "data": {
      "text/plain": [
       "array([ 0,  1,  2,  3,  4,  5,  6,  7,  8,  9, 10, 11, 12, 13, 14])"
      ]
     },
     "execution_count": 2,
     "metadata": {},
     "output_type": "execute_result"
    }
   ],
   "source": [
    "vecteur = np.arange(15)\n",
    "vecteur"
   ]
  },
  {
   "cell_type": "markdown",
   "id": "73762eb8-3741-43f6-a8b8-2d762281b09a",
   "metadata": {},
   "source": [
    "#### _Modifier le vecteur_"
   ]
  },
  {
   "cell_type": "code",
   "execution_count": 3,
   "id": "c5d16617-98ac-4fe9-8c08-4d068e01d461",
   "metadata": {},
   "outputs": [],
   "source": [
    "vecteur.resize ((3,5)) # Il devient une matrice"
   ]
  },
  {
   "cell_type": "code",
   "execution_count": 4,
   "id": "36416434-4351-42ea-bb77-047fbf67ae58",
   "metadata": {},
   "outputs": [
    {
     "data": {
      "text/plain": [
       "array([[ 0,  1,  2,  3,  4],\n",
       "       [ 5,  6,  7,  8,  9],\n",
       "       [10, 11, 12, 13, 14]])"
      ]
     },
     "execution_count": 4,
     "metadata": {},
     "output_type": "execute_result"
    }
   ],
   "source": [
    "vecteur"
   ]
  },
  {
   "cell_type": "code",
   "execution_count": 5,
   "id": "cb9f4493-0fa2-47ab-9850-cc0880f2d11d",
   "metadata": {},
   "outputs": [
    {
     "data": {
      "text/plain": [
       "array([ 0,  1,  2,  3,  4,  5,  6,  7,  8,  9, 10, 11])"
      ]
     },
     "execution_count": 5,
     "metadata": {},
     "output_type": "execute_result"
    }
   ],
   "source": [
    "tab2 = np.arange(12)\n",
    "tab2"
   ]
  },
  {
   "cell_type": "code",
   "execution_count": 6,
   "id": "67041fbe-839f-4d77-8a0e-c81b974d00f5",
   "metadata": {},
   "outputs": [
    {
     "ename": "ValueError",
     "evalue": "cannot resize an array that references or is referenced\nby another array in this way.\nUse the np.resize function or refcheck=False",
     "output_type": "error",
     "traceback": [
      "\u001b[0;31m---------------------------------------------------------------------------\u001b[0m",
      "\u001b[0;31mValueError\u001b[0m                                Traceback (most recent call last)",
      "Cell \u001b[0;32mIn[6], line 1\u001b[0m\n\u001b[0;32m----> 1\u001b[0m tab2\u001b[38;5;241m.\u001b[39mresize((\u001b[38;5;241m2\u001b[39m,\u001b[38;5;241m5\u001b[39m))\n",
      "\u001b[0;31mValueError\u001b[0m: cannot resize an array that references or is referenced\nby another array in this way.\nUse the np.resize function or refcheck=False"
     ]
    }
   ],
   "source": [
    "tab2.resize((2,5)) # impossible"
   ]
  },
  {
   "cell_type": "code",
   "execution_count": 7,
   "id": "703ed33e-aed7-4745-b5fd-0c9f3c6f6a34",
   "metadata": {},
   "outputs": [],
   "source": [
    "tab2.resize((2,5) , refcheck = False) # Tronque le tableau"
   ]
  },
  {
   "cell_type": "code",
   "execution_count": 8,
   "id": "ce5979d9-26ee-47f8-80bb-8337b074b346",
   "metadata": {},
   "outputs": [
    {
     "data": {
      "text/plain": [
       "array([[0, 1, 2, 3, 4],\n",
       "       [5, 6, 7, 8, 9]])"
      ]
     },
     "execution_count": 8,
     "metadata": {},
     "output_type": "execute_result"
    }
   ],
   "source": [
    "tab2"
   ]
  },
  {
   "cell_type": "code",
   "execution_count": 9,
   "id": "18be01dc-a4b1-4c00-820d-621e918564dd",
   "metadata": {},
   "outputs": [
    {
     "data": {
      "text/plain": [
       "array([[0, 1, 2, 3, 4],\n",
       "       [5, 6, 7, 8, 9],\n",
       "       [0, 0, 0, 0, 0],\n",
       "       [0, 0, 0, 0, 0],\n",
       "       [0, 0, 0, 0, 0]])"
      ]
     },
     "execution_count": 9,
     "metadata": {},
     "output_type": "execute_result"
    }
   ],
   "source": [
    "tab2.resize((5,5) , refcheck = False) # Agrandi en forçant\n",
    "tab2"
   ]
  },
  {
   "cell_type": "markdown",
   "id": "91602371-f4f2-442c-b847-44ad32700f63",
   "metadata": {},
   "source": [
    "## **La fonction resize()**"
   ]
  },
  {
   "cell_type": "code",
   "execution_count": 10,
   "id": "3a85b37a-24b4-4cc7-a0e1-6fc0446aca83",
   "metadata": {},
   "outputs": [
    {
     "data": {
      "text/plain": [
       "array([0, 1, 2, 3, 4, 5, 6, 7, 8])"
      ]
     },
     "execution_count": 10,
     "metadata": {},
     "output_type": "execute_result"
    }
   ],
   "source": [
    "tab3 = np.arange(9)\n",
    "tab3"
   ]
  },
  {
   "cell_type": "markdown",
   "id": "3a769bb1-67b3-4bd6-9f5c-aefb6666b281",
   "metadata": {},
   "source": [
    "##### **_Le tableau initial est inchangé_**"
   ]
  },
  {
   "cell_type": "code",
   "execution_count": 11,
   "id": "e8867939-dda4-4cb7-ae63-26cf7a7b3b08",
   "metadata": {},
   "outputs": [
    {
     "data": {
      "text/plain": [
       "array([[0, 1, 2, 3, 4],\n",
       "       [5, 6, 7, 8, 0],\n",
       "       [1, 2, 3, 4, 5],\n",
       "       [6, 7, 8, 0, 1],\n",
       "       [2, 3, 4, 5, 6]])"
      ]
     },
     "execution_count": 11,
     "metadata": {},
     "output_type": "execute_result"
    }
   ],
   "source": [
    "m = np.resize(tab3,(5,5)) # Les éléments sont répétés, pas de 0\n",
    "m"
   ]
  },
  {
   "cell_type": "code",
   "execution_count": null,
   "id": "45f8695f-4da7-4e15-817b-64a385a05d65",
   "metadata": {},
   "outputs": [],
   "source": []
  }
 ],
 "metadata": {
  "kernelspec": {
   "display_name": "Python [conda env:base] *",
   "language": "python",
   "name": "conda-base-py"
  },
  "language_info": {
   "codemirror_mode": {
    "name": "ipython",
    "version": 3
   },
   "file_extension": ".py",
   "mimetype": "text/x-python",
   "name": "python",
   "nbconvert_exporter": "python",
   "pygments_lexer": "ipython3",
   "version": "3.13.5"
  }
 },
 "nbformat": 4,
 "nbformat_minor": 5
}
