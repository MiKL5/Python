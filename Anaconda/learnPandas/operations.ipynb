{
 "cells": [
  {
   "cell_type": "code",
   "execution_count": 1,
   "id": "f3aafc43-0693-453b-bad9-836c7079987b",
   "metadata": {},
   "outputs": [],
   "source": [
    "import numpy  as np\n",
    "import pandas as pd"
   ]
  },
  {
   "cell_type": "markdown",
   "id": "39c0b274-6f8d-4df1-a361-91bf8a642a6c",
   "metadata": {},
   "source": [
    "# **Opérations**"
   ]
  },
  {
   "cell_type": "code",
   "execution_count": 2,
   "id": "0e57c8da-6cb4-459f-a4e8-f1488970700d",
   "metadata": {},
   "outputs": [
    {
     "data": {
      "text/html": [
       "<div>\n",
       "<style scoped>\n",
       "    .dataframe tbody tr th:only-of-type {\n",
       "        vertical-align: middle;\n",
       "    }\n",
       "\n",
       "    .dataframe tbody tr th {\n",
       "        vertical-align: top;\n",
       "    }\n",
       "\n",
       "    .dataframe thead th {\n",
       "        text-align: right;\n",
       "    }\n",
       "</style>\n",
       "<table border=\"1\" class=\"dataframe\">\n",
       "  <thead>\n",
       "    <tr style=\"text-align: right;\">\n",
       "      <th></th>\n",
       "      <th>Anglais</th>\n",
       "      <th>Français</th>\n",
       "      <th>Histoire</th>\n",
       "      <th>Informatique</th>\n",
       "      <th>Maths</th>\n",
       "      <th>Moyenne</th>\n",
       "    </tr>\n",
       "  </thead>\n",
       "  <tbody>\n",
       "    <tr>\n",
       "      <th>Christophe</th>\n",
       "      <td>1</td>\n",
       "      <td>0</td>\n",
       "      <td>0</td>\n",
       "      <td>0</td>\n",
       "      <td>17</td>\n",
       "      <td>3.6</td>\n",
       "    </tr>\n",
       "    <tr>\n",
       "      <th>Carla</th>\n",
       "      <td>1</td>\n",
       "      <td>5</td>\n",
       "      <td>9</td>\n",
       "      <td>15</td>\n",
       "      <td>6</td>\n",
       "      <td>7.2</td>\n",
       "    </tr>\n",
       "    <tr>\n",
       "      <th>Caroline</th>\n",
       "      <td>18</td>\n",
       "      <td>20</td>\n",
       "      <td>20</td>\n",
       "      <td>19</td>\n",
       "      <td>20</td>\n",
       "      <td>19.4</td>\n",
       "    </tr>\n",
       "    <tr>\n",
       "      <th>Jean-Baptiste</th>\n",
       "      <td>17</td>\n",
       "      <td>12</td>\n",
       "      <td>18</td>\n",
       "      <td>17</td>\n",
       "      <td>12</td>\n",
       "      <td>15.2</td>\n",
       "    </tr>\n",
       "    <tr>\n",
       "      <th>Florence</th>\n",
       "      <td>17</td>\n",
       "      <td>19</td>\n",
       "      <td>20</td>\n",
       "      <td>18</td>\n",
       "      <td>16</td>\n",
       "      <td>18.0</td>\n",
       "    </tr>\n",
       "    <tr>\n",
       "      <th>Emma</th>\n",
       "      <td>20</td>\n",
       "      <td>19</td>\n",
       "      <td>19</td>\n",
       "      <td>11</td>\n",
       "      <td>19</td>\n",
       "      <td>17.6</td>\n",
       "    </tr>\n",
       "  </tbody>\n",
       "</table>\n",
       "</div>"
      ],
      "text/plain": [
       "               Anglais  Français  Histoire  Informatique  Maths  Moyenne\n",
       "Christophe           1         0         0             0     17      3.6\n",
       "Carla                1         5         9            15      6      7.2\n",
       "Caroline            18        20        20            19     20     19.4\n",
       "Jean-Baptiste       17        12        18            17     12     15.2\n",
       "Florence            17        19        20            18     16     18.0\n",
       "Emma                20        19        19            11     19     17.6"
      ]
     },
     "execution_count": 2,
     "metadata": {},
     "output_type": "execute_result"
    }
   ],
   "source": [
    "notes = pd.DataFrame({\n",
    "    'Anglais'     : {\"Christophe\":  1, \"Carla\":  1, \"Caroline\": 18, \"Jean-Baptiste\": 17, \"Florence\": 17, \"Emma\": 20},\n",
    "    'Français'    : {\"Christophe\":  0, \"Carla\":  5, \"Caroline\": 20, \"Jean-Baptiste\": 12, \"Florence\": 19, \"Emma\": 19},\n",
    "    'Histoire'    : {\"Christophe\":  0, \"Carla\":  9, \"Caroline\": 20, \"Jean-Baptiste\": 18, \"Florence\": 20, \"Emma\": 19},\n",
    "    'Informatique': {\"Christophe\":  0, \"Carla\": 15, \"Caroline\": 19, \"Jean-Baptiste\": 17, \"Florence\": 18, \"Emma\": 11},\n",
    "    'Maths'       : {\"Christophe\": 17, \"Carla\":  6, \"Caroline\": 20, \"Jean-Baptiste\": 12, \"Florence\": 16, \"Emma\": 19}\n",
    "})\n",
    "\n",
    "# Calcule la moyenne et l'ajoute en dernière colonne\n",
    "notes['Moyenne'] = notes.mean(axis=1)\n",
    "notes"
   ]
  },
  {
   "cell_type": "code",
   "execution_count": 3,
   "id": "e9ecfb9f-5f0d-4c95-95a0-835e2867b56a",
   "metadata": {},
   "outputs": [
    {
     "data": {
      "text/plain": [
       "array([ 1, 18, 17, 20])"
      ]
     },
     "execution_count": 3,
     "metadata": {},
     "output_type": "execute_result"
    }
   ],
   "source": [
    "# Les notes de tous en Anglais sans répéter les valeurs identiques `unique()`\n",
    "notes['Anglais'].unique()"
   ]
  },
  {
   "cell_type": "code",
   "execution_count": 4,
   "id": "d19206b6-5ad6-4acd-8430-b7e2905815e5",
   "metadata": {},
   "outputs": [
    {
     "data": {
      "text/plain": [
       "Christophe        1\n",
       "Carla             1\n",
       "Caroline         18\n",
       "Jean-Baptiste    17\n",
       "Florence         17\n",
       "Emma             20\n",
       "Name: Anglais, dtype: int64"
      ]
     },
     "execution_count": 4,
     "metadata": {},
     "output_type": "execute_result"
    }
   ],
   "source": [
    "notes['Anglais']"
   ]
  },
  {
   "cell_type": "code",
   "execution_count": 5,
   "id": "c97825b6-259a-4b4f-a44c-9abf24a455de",
   "metadata": {},
   "outputs": [
    {
     "data": {
      "text/plain": [
       "4"
      ]
     },
     "execution_count": 5,
     "metadata": {},
     "output_type": "execute_result"
    }
   ],
   "source": [
    "# Combien de valeurs uniques\n",
    "notes['Anglais'].nunique()"
   ]
  },
  {
   "cell_type": "code",
   "execution_count": 6,
   "id": "6efc39eb-17ca-4ce2-bdc1-3a4de4083c1f",
   "metadata": {},
   "outputs": [
    {
     "data": {
      "text/plain": [
       "9"
      ]
     },
     "execution_count": 6,
     "metadata": {},
     "output_type": "execute_result"
    }
   ],
   "source": [
    "# Le carré d'x\n",
    "def carre(x):\n",
    "    return x*x\n",
    "\n",
    "carre(3)"
   ]
  },
  {
   "cell_type": "code",
   "execution_count": 7,
   "id": "fd4cd2b9-678f-4dda-8c9b-a14ab94f07a7",
   "metadata": {},
   "outputs": [
    {
     "data": {
      "text/plain": [
       "Christophe         1\n",
       "Carla              1\n",
       "Caroline         324\n",
       "Jean-Baptiste    289\n",
       "Florence         289\n",
       "Emma             400\n",
       "Name: Anglais, dtype: int64"
      ]
     },
     "execution_count": 7,
     "metadata": {},
     "output_type": "execute_result"
    }
   ],
   "source": [
    "# Le carré des notes d'anglais\n",
    "notes['Anglais'].apply(carre)"
   ]
  },
  {
   "cell_type": "code",
   "execution_count": 8,
   "id": "951260e6-823f-4a34-a3c0-5cde3fe9a37d",
   "metadata": {},
   "outputs": [
    {
     "data": {
      "text/html": [
       "<div>\n",
       "<style scoped>\n",
       "    .dataframe tbody tr th:only-of-type {\n",
       "        vertical-align: middle;\n",
       "    }\n",
       "\n",
       "    .dataframe tbody tr th {\n",
       "        vertical-align: top;\n",
       "    }\n",
       "\n",
       "    .dataframe thead th {\n",
       "        text-align: right;\n",
       "    }\n",
       "</style>\n",
       "<table border=\"1\" class=\"dataframe\">\n",
       "  <thead>\n",
       "    <tr style=\"text-align: right;\">\n",
       "      <th></th>\n",
       "      <th>Anglais</th>\n",
       "      <th>Français</th>\n",
       "      <th>Histoire</th>\n",
       "      <th>Informatique</th>\n",
       "      <th>Maths</th>\n",
       "      <th>Moyenne</th>\n",
       "    </tr>\n",
       "  </thead>\n",
       "  <tbody>\n",
       "    <tr>\n",
       "      <th>Christophe</th>\n",
       "      <td>1</td>\n",
       "      <td>0</td>\n",
       "      <td>0</td>\n",
       "      <td>0</td>\n",
       "      <td>17</td>\n",
       "      <td>3.6</td>\n",
       "    </tr>\n",
       "    <tr>\n",
       "      <th>Carla</th>\n",
       "      <td>1</td>\n",
       "      <td>5</td>\n",
       "      <td>9</td>\n",
       "      <td>15</td>\n",
       "      <td>6</td>\n",
       "      <td>7.2</td>\n",
       "    </tr>\n",
       "    <tr>\n",
       "      <th>Jean-Baptiste</th>\n",
       "      <td>17</td>\n",
       "      <td>12</td>\n",
       "      <td>18</td>\n",
       "      <td>17</td>\n",
       "      <td>12</td>\n",
       "      <td>15.2</td>\n",
       "    </tr>\n",
       "    <tr>\n",
       "      <th>Florence</th>\n",
       "      <td>17</td>\n",
       "      <td>19</td>\n",
       "      <td>20</td>\n",
       "      <td>18</td>\n",
       "      <td>16</td>\n",
       "      <td>18.0</td>\n",
       "    </tr>\n",
       "    <tr>\n",
       "      <th>Emma</th>\n",
       "      <td>20</td>\n",
       "      <td>19</td>\n",
       "      <td>19</td>\n",
       "      <td>11</td>\n",
       "      <td>19</td>\n",
       "      <td>17.6</td>\n",
       "    </tr>\n",
       "    <tr>\n",
       "      <th>Caroline</th>\n",
       "      <td>18</td>\n",
       "      <td>20</td>\n",
       "      <td>20</td>\n",
       "      <td>19</td>\n",
       "      <td>20</td>\n",
       "      <td>19.4</td>\n",
       "    </tr>\n",
       "  </tbody>\n",
       "</table>\n",
       "</div>"
      ],
      "text/plain": [
       "               Anglais  Français  Histoire  Informatique  Maths  Moyenne\n",
       "Christophe           1         0         0             0     17      3.6\n",
       "Carla                1         5         9            15      6      7.2\n",
       "Jean-Baptiste       17        12        18            17     12     15.2\n",
       "Florence            17        19        20            18     16     18.0\n",
       "Emma                20        19        19            11     19     17.6\n",
       "Caroline            18        20        20            19     20     19.4"
      ]
     },
     "execution_count": 8,
     "metadata": {},
     "output_type": "execute_result"
    }
   ],
   "source": [
    "# Ordonner le tableau selon les notes en français\n",
    "notes.sort_values('Français')"
   ]
  },
  {
   "cell_type": "code",
   "execution_count": 9,
   "id": "1b0e03a0-cc68-4237-b9b1-1eba87a6adfb",
   "metadata": {},
   "outputs": [
    {
     "data": {
      "text/html": [
       "<div>\n",
       "<style scoped>\n",
       "    .dataframe tbody tr th:only-of-type {\n",
       "        vertical-align: middle;\n",
       "    }\n",
       "\n",
       "    .dataframe tbody tr th {\n",
       "        vertical-align: top;\n",
       "    }\n",
       "\n",
       "    .dataframe thead th {\n",
       "        text-align: right;\n",
       "    }\n",
       "</style>\n",
       "<table border=\"1\" class=\"dataframe\">\n",
       "  <thead>\n",
       "    <tr style=\"text-align: right;\">\n",
       "      <th></th>\n",
       "      <th>Anglais</th>\n",
       "      <th>Français</th>\n",
       "      <th>Histoire</th>\n",
       "      <th>Informatique</th>\n",
       "      <th>Maths</th>\n",
       "      <th>Moyenne</th>\n",
       "    </tr>\n",
       "  </thead>\n",
       "  <tbody>\n",
       "    <tr>\n",
       "      <th>Christophe</th>\n",
       "      <td>False</td>\n",
       "      <td>False</td>\n",
       "      <td>False</td>\n",
       "      <td>False</td>\n",
       "      <td>False</td>\n",
       "      <td>False</td>\n",
       "    </tr>\n",
       "    <tr>\n",
       "      <th>Carla</th>\n",
       "      <td>False</td>\n",
       "      <td>False</td>\n",
       "      <td>False</td>\n",
       "      <td>False</td>\n",
       "      <td>False</td>\n",
       "      <td>False</td>\n",
       "    </tr>\n",
       "    <tr>\n",
       "      <th>Caroline</th>\n",
       "      <td>False</td>\n",
       "      <td>False</td>\n",
       "      <td>False</td>\n",
       "      <td>False</td>\n",
       "      <td>False</td>\n",
       "      <td>False</td>\n",
       "    </tr>\n",
       "    <tr>\n",
       "      <th>Jean-Baptiste</th>\n",
       "      <td>False</td>\n",
       "      <td>False</td>\n",
       "      <td>False</td>\n",
       "      <td>False</td>\n",
       "      <td>False</td>\n",
       "      <td>False</td>\n",
       "    </tr>\n",
       "    <tr>\n",
       "      <th>Florence</th>\n",
       "      <td>False</td>\n",
       "      <td>False</td>\n",
       "      <td>False</td>\n",
       "      <td>False</td>\n",
       "      <td>False</td>\n",
       "      <td>False</td>\n",
       "    </tr>\n",
       "    <tr>\n",
       "      <th>Emma</th>\n",
       "      <td>False</td>\n",
       "      <td>False</td>\n",
       "      <td>False</td>\n",
       "      <td>False</td>\n",
       "      <td>False</td>\n",
       "      <td>False</td>\n",
       "    </tr>\n",
       "  </tbody>\n",
       "</table>\n",
       "</div>"
      ],
      "text/plain": [
       "               Anglais  Français  Histoire  Informatique  Maths  Moyenne\n",
       "Christophe       False     False     False         False  False    False\n",
       "Carla            False     False     False         False  False    False\n",
       "Caroline         False     False     False         False  False    False\n",
       "Jean-Baptiste    False     False     False         False  False    False\n",
       "Florence         False     False     False         False  False    False\n",
       "Emma             False     False     False         False  False    False"
      ]
     },
     "execution_count": 9,
     "metadata": {},
     "output_type": "execute_result"
    }
   ],
   "source": [
    "# Quelles valeurs sont nules\n",
    "notes.isnull()"
   ]
  },
  {
   "cell_type": "code",
   "execution_count": 10,
   "id": "d2b1ae69-6558-4edb-b32c-392b594aeacd",
   "metadata": {},
   "outputs": [
    {
     "data": {
      "text/plain": [
       "'Emma'"
      ]
     },
     "execution_count": 10,
     "metadata": {},
     "output_type": "execute_result"
    }
   ],
   "source": [
    "# Qui a la meillleur note en anglais\n",
    "notes['Anglais'].idxmax()"
   ]
  },
  {
   "cell_type": "code",
   "execution_count": 11,
   "id": "a1fd868b-0f6c-453a-8c6a-0aa8eb424805",
   "metadata": {},
   "outputs": [
    {
     "data": {
      "text/plain": [
       "'Christophe'"
      ]
     },
     "execution_count": 11,
     "metadata": {},
     "output_type": "execute_result"
    }
   ],
   "source": [
    "# Qui a la plus basse note en histoire\n",
    "notes['Histoire'].idxmin()"
   ]
  },
  {
   "cell_type": "code",
   "execution_count": 12,
   "id": "a5f17976-94a3-43b2-911e-fe49ed554342",
   "metadata": {},
   "outputs": [
    {
     "data": {
      "text/plain": [
       "'Christophe'"
      ]
     },
     "execution_count": 12,
     "metadata": {},
     "output_type": "execute_result"
    }
   ],
   "source": [
    "# La plus basse en anglais\n",
    "notes['Anglais'].idxmin()"
   ]
  },
  {
   "cell_type": "markdown",
   "id": "e93bbfd3-8c1b-47e8-a3f2-f9a1fc1719b8",
   "metadata": {},
   "source": [
    "Carla aussi, mais il ne l'affiche pas"
   ]
  },
  {
   "cell_type": "code",
   "execution_count": 13,
   "id": "44b29c27-6ee6-4368-91f4-1ee888e9cd02",
   "metadata": {},
   "outputs": [
    {
     "data": {
      "text/plain": [
       "np.int64(2)"
      ]
     },
     "execution_count": 13,
     "metadata": {},
     "output_type": "execute_result"
    }
   ],
   "source": [
    "# L'indice du meilleur élève en informatique\n",
    "notes['Informatique'].argmax()"
   ]
  },
  {
   "cell_type": "code",
   "execution_count": 14,
   "id": "e83d4675-fd01-4c59-83c1-949233a633e2",
   "metadata": {},
   "outputs": [
    {
     "data": {
      "text/plain": [
       "np.int64(0)"
      ]
     },
     "execution_count": 14,
     "metadata": {},
     "output_type": "execute_result"
    }
   ],
   "source": [
    "# Le moins bon\n",
    "notes['Informatique'].argmin()"
   ]
  }
 ],
 "metadata": {
  "kernelspec": {
   "display_name": "Python [conda env:base] *",
   "language": "python",
   "name": "conda-base-py"
  },
  "language_info": {
   "codemirror_mode": {
    "name": "ipython",
    "version": 3
   },
   "file_extension": ".py",
   "mimetype": "text/x-python",
   "name": "python",
   "nbconvert_exporter": "python",
   "pygments_lexer": "ipython3",
   "version": "3.13.5"
  }
 },
 "nbformat": 4,
 "nbformat_minor": 5
}
