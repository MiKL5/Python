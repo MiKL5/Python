{
 "cells": [
  {
   "cell_type": "code",
   "execution_count": 1,
   "id": "d23a51a0-1202-4dfb-9de0-24178d0352f2",
   "metadata": {},
   "outputs": [],
   "source": [
    "import numpy  as np\n",
    "import pandas as pd"
   ]
  },
  {
   "cell_type": "markdown",
   "id": "bf951078-c147-497a-8f04-92f19a5489b6",
   "metadata": {},
   "source": [
    "# **Créer un dataframe depuis plusieurs séries**"
   ]
  },
  {
   "cell_type": "code",
   "execution_count": 2,
   "id": "5d3490f3-f113-44d2-ae87-da130905d53d",
   "metadata": {},
   "outputs": [
    {
     "data": {
      "text/plain": [
       "Christophe       17.0\n",
       "Carla             6.0\n",
       "Caroine          20.0\n",
       "Jean-Baptiste     2.0\n",
       "Florence         15.5\n",
       "Emma             19.0\n",
       "dtype: float64"
      ]
     },
     "execution_count": 2,
     "metadata": {},
     "output_type": "execute_result"
    }
   ],
   "source": [
    "notes_maths = pd.Series({\"Christophe\": 17, \"Carla\": 6, \"Caroine\": 20, \"Jean-Baptiste\": 2, \"Florence\": 15.5, \"Emma\": 19})\n",
    "notes_maths"
   ]
  },
  {
   "cell_type": "code",
   "execution_count": 3,
   "id": "3a0e9c47-38a7-4b3c-b99c-bc761d5ab6ad",
   "metadata": {},
   "outputs": [
    {
     "data": {
      "text/plain": [
       "Christophe        0\n",
       "Carla             5\n",
       "Caroine          20\n",
       "Jean-Baptiste    12\n",
       "Florence         19\n",
       "Emma             19\n",
       "dtype: int64"
      ]
     },
     "execution_count": 3,
     "metadata": {},
     "output_type": "execute_result"
    }
   ],
   "source": [
    "notes_français = pd.Series({\"Christophe\": 0, \"Carla\": 5, \"Caroine\": 20, \"Jean-Baptiste\": 12, \"Florence\": 19, \"Emma\": 19})\n",
    "notes_français"
   ]
  },
  {
   "cell_type": "code",
   "execution_count": 4,
   "id": "c22001f0-af93-43c4-a541-509faa6f84c3",
   "metadata": {},
   "outputs": [
    {
     "data": {
      "text/plain": [
       "Christophe        0\n",
       "Carla             9\n",
       "Caroine          20\n",
       "Jean-Baptiste    18\n",
       "Florence         20\n",
       "Emma             19\n",
       "dtype: int64"
      ]
     },
     "execution_count": 4,
     "metadata": {},
     "output_type": "execute_result"
    }
   ],
   "source": [
    "notes_histoire = pd.Series({\"Christophe\": 0, \"Carla\": 9, \"Caroine\": 20, \"Jean-Baptiste\": 18, \"Florence\": 20, \"Emma\": 19})\n",
    "notes_histoire"
   ]
  },
  {
   "cell_type": "code",
   "execution_count": 5,
   "id": "cd68434b-f121-4483-b802-74fdfa72675d",
   "metadata": {},
   "outputs": [
    {
     "data": {
      "text/html": [
       "<div>\n",
       "<style scoped>\n",
       "    .dataframe tbody tr th:only-of-type {\n",
       "        vertical-align: middle;\n",
       "    }\n",
       "\n",
       "    .dataframe tbody tr th {\n",
       "        vertical-align: top;\n",
       "    }\n",
       "\n",
       "    .dataframe thead th {\n",
       "        text-align: right;\n",
       "    }\n",
       "</style>\n",
       "<table border=\"1\" class=\"dataframe\">\n",
       "  <thead>\n",
       "    <tr style=\"text-align: right;\">\n",
       "      <th></th>\n",
       "      <th>Français</th>\n",
       "      <th>Histoire</th>\n",
       "      <th>Maths</th>\n",
       "    </tr>\n",
       "  </thead>\n",
       "  <tbody>\n",
       "    <tr>\n",
       "      <th>Christophe</th>\n",
       "      <td>0</td>\n",
       "      <td>0</td>\n",
       "      <td>17.0</td>\n",
       "    </tr>\n",
       "    <tr>\n",
       "      <th>Carla</th>\n",
       "      <td>5</td>\n",
       "      <td>9</td>\n",
       "      <td>6.0</td>\n",
       "    </tr>\n",
       "    <tr>\n",
       "      <th>Caroine</th>\n",
       "      <td>20</td>\n",
       "      <td>20</td>\n",
       "      <td>20.0</td>\n",
       "    </tr>\n",
       "    <tr>\n",
       "      <th>Jean-Baptiste</th>\n",
       "      <td>12</td>\n",
       "      <td>18</td>\n",
       "      <td>2.0</td>\n",
       "    </tr>\n",
       "    <tr>\n",
       "      <th>Florence</th>\n",
       "      <td>19</td>\n",
       "      <td>20</td>\n",
       "      <td>15.5</td>\n",
       "    </tr>\n",
       "    <tr>\n",
       "      <th>Emma</th>\n",
       "      <td>19</td>\n",
       "      <td>19</td>\n",
       "      <td>19.0</td>\n",
       "    </tr>\n",
       "  </tbody>\n",
       "</table>\n",
       "</div>"
      ],
      "text/plain": [
       "               Français  Histoire  Maths\n",
       "Christophe            0         0   17.0\n",
       "Carla                 5         9    6.0\n",
       "Caroine              20        20   20.0\n",
       "Jean-Baptiste        12        18    2.0\n",
       "Florence             19        20   15.5\n",
       "Emma                 19        19   19.0"
      ]
     },
     "execution_count": 5,
     "metadata": {},
     "output_type": "execute_result"
    }
   ],
   "source": [
    "# Créer le dataframe notes depuis ces séries\n",
    "notes = pd.DataFrame({'Français':notes_français,'Histoire':notes_histoire,'Maths':notes_maths})\n",
    "notes"
   ]
  },
  {
   "cell_type": "code",
   "execution_count": null,
   "id": "c45fb08a-57cf-4552-9f37-cc8a3ba990a2",
   "metadata": {},
   "outputs": [],
   "source": [
    "# _Les clés sont les colonnes, et les séries sont les valeurs, les étiquettes sont les indexes_"
   ]
  }
 ],
 "metadata": {
  "kernelspec": {
   "display_name": "Python [conda env:base] *",
   "language": "python",
   "name": "conda-base-py"
  },
  "language_info": {
   "codemirror_mode": {
    "name": "ipython",
    "version": 3
   },
   "file_extension": ".py",
   "mimetype": "text/x-python",
   "name": "python",
   "nbconvert_exporter": "python",
   "pygments_lexer": "ipython3",
   "version": "3.13.5"
  }
 },
 "nbformat": 4,
 "nbformat_minor": 5
}
