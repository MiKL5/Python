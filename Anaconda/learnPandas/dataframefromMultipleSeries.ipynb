{
 "cells": [
  {
   "cell_type": "code",
   "execution_count": 1,
   "id": "27c168a4-3eb1-4b12-8d89-be4aca51a4e7",
   "metadata": {},
   "outputs": [],
   "source": [
    "import numpy  as np\n",
    "import pandas as pd"
   ]
  },
  {
   "cell_type": "markdown",
   "id": "004ff8d3-0602-49fc-b4b5-2a1baaa0e32c",
   "metadata": {},
   "source": [
    "# **Créer un dataframe depuis plusieurs séries**"
   ]
  },
  {
   "cell_type": "code",
   "execution_count": 2,
   "id": "8b756c60-e024-4643-a151-604b86b24908",
   "metadata": {},
   "outputs": [
    {
     "data": {
      "text/plain": [
       "Christophe       17.0\n",
       "Carla             6.0\n",
       "Caroine          20.0\n",
       "Jean-Baptiste     2.0\n",
       "Florence         15.5\n",
       "Emma             19.0\n",
       "dtype: float64"
      ]
     },
     "execution_count": 2,
     "metadata": {},
     "output_type": "execute_result"
    }
   ],
   "source": [
    "notes_maths = pd.Series({\"Christophe\": 17, \"Carla\": 6, \"Caroine\": 20, \"Jean-Baptiste\": 2, \"Florence\": 15.5, \"Emma\": 19})\n",
    "notes_maths"
   ]
  },
  {
   "cell_type": "code",
   "execution_count": 3,
   "id": "260360ec-1f67-4427-95d2-9c7cc95ba83d",
   "metadata": {},
   "outputs": [
    {
     "data": {
      "text/plain": [
       "Christophe        0\n",
       "Carla             5\n",
       "Caroine          20\n",
       "Jean-Baptiste    12\n",
       "Florence         19\n",
       "Emma             19\n",
       "dtype: int64"
      ]
     },
     "execution_count": 3,
     "metadata": {},
     "output_type": "execute_result"
    }
   ],
   "source": [
    "notes_français = pd.Series({\"Christophe\": 0, \"Carla\": 5, \"Caroine\": 20, \"Jean-Baptiste\": 12, \"Florence\": 19, \"Emma\": 19})\n",
    "notes_français"
   ]
  },
  {
   "cell_type": "code",
   "execution_count": null,
   "id": "823899c4-5c41-4092-b9e8-6df3a54c3fc6",
   "metadata": {},
   "outputs": [
    {
     "data": {
      "text/plain": [
       "Christophe        0\n",
       "Carla             9\n",
       "Caroine          20\n",
       "Jean-Baptiste    18\n",
       "Florence         20\n",
       "Emma             19\n",
       "dtype: int64"
      ]
     },
     "execution_count": 4,
     "metadata": {},
     "output_type": "execute_result"
    }
   ],
   "source": [
    "\n",
    "notes_histoire"
   ]
  },
  {
   "cell_type": "code",
   "execution_count": 5,
   "id": "07fb3b9a-65fd-4190-8453-21ffede63a7c",
   "metadata": {},
   "outputs": [
    {
     "data": {
      "text/html": [
       "<div>\n",
       "<style scoped>\n",
       "    .dataframe tbody tr th:only-of-type {\n",
       "        vertical-align: middle;\n",
       "    }\n",
       "\n",
       "    .dataframe tbody tr th {\n",
       "        vertical-align: top;\n",
       "    }\n",
       "\n",
       "    .dataframe thead th {\n",
       "        text-align: right;\n",
       "    }\n",
       "</style>\n",
       "<table border=\"1\" class=\"dataframe\">\n",
       "  <thead>\n",
       "    <tr style=\"text-align: right;\">\n",
       "      <th></th>\n",
       "      <th>Français</th>\n",
       "      <th>Histoire</th>\n",
       "      <th>Maths</th>\n",
       "    </tr>\n",
       "  </thead>\n",
       "  <tbody>\n",
       "    <tr>\n",
       "      <th>Christophe</th>\n",
       "      <td>0</td>\n",
       "      <td>0</td>\n",
       "      <td>17.0</td>\n",
       "    </tr>\n",
       "    <tr>\n",
       "      <th>Carla</th>\n",
       "      <td>5</td>\n",
       "      <td>9</td>\n",
       "      <td>6.0</td>\n",
       "    </tr>\n",
       "    <tr>\n",
       "      <th>Caroine</th>\n",
       "      <td>20</td>\n",
       "      <td>20</td>\n",
       "      <td>20.0</td>\n",
       "    </tr>\n",
       "    <tr>\n",
       "      <th>Jean-Baptiste</th>\n",
       "      <td>12</td>\n",
       "      <td>18</td>\n",
       "      <td>2.0</td>\n",
       "    </tr>\n",
       "    <tr>\n",
       "      <th>Florence</th>\n",
       "      <td>19</td>\n",
       "      <td>20</td>\n",
       "      <td>15.5</td>\n",
       "    </tr>\n",
       "    <tr>\n",
       "      <th>Emma</th>\n",
       "      <td>19</td>\n",
       "      <td>19</td>\n",
       "      <td>19.0</td>\n",
       "    </tr>\n",
       "  </tbody>\n",
       "</table>\n",
       "</div>"
      ],
      "text/plain": [
       "               Français  Histoire  Maths\n",
       "Christophe            0         0   17.0\n",
       "Carla                 5         9    6.0\n",
       "Caroine              20        20   20.0\n",
       "Jean-Baptiste        12        18    2.0\n",
       "Florence             19        20   15.5\n",
       "Emma                 19        19   19.0"
      ]
     },
     "execution_count": 5,
     "metadata": {},
     "output_type": "execute_result"
    }
   ],
   "source": [
    "# Créer le dataframe notes depuis ces séries\n",
    "notes = pd.DataFrame({'Français':notes_français,'Histoire':notes_histoire,'Maths':notes_maths})\n",
    "notes"
   ]
  },
  {
   "cell_type": "code",
   "execution_count": 6,
   "id": "4ed2a12c-d75a-411e-aa0e-2bc34f8d07ac",
   "metadata": {},
   "outputs": [
    {
     "data": {
      "text/plain": [
       "Index(['Christophe', 'Carla', 'Caroine', 'Jean-Baptiste', 'Florence', 'Emma'], dtype='object')"
      ]
     },
     "execution_count": 6,
     "metadata": {},
     "output_type": "execute_result"
    }
   ],
   "source": [
    "# _Les clés sont les colonnes, et les séries sont les valeurs, les étiquettes sont les indexes_\n",
    "notes.index"
   ]
  },
  {
   "cell_type": "code",
   "execution_count": 7,
   "id": "fd0874fe-e66c-482b-a383-89d533c1c580",
   "metadata": {},
   "outputs": [],
   "source": [
    "# Les noms des colonnes"
   ]
  },
  {
   "cell_type": "code",
   "execution_count": 8,
   "id": "6523d912-f266-435c-9c19-a98be7df7149",
   "metadata": {},
   "outputs": [
    {
     "data": {
      "text/plain": [
       "Index(['Français', 'Histoire', 'Maths'], dtype='object')"
      ]
     },
     "execution_count": 8,
     "metadata": {},
     "output_type": "execute_result"
    }
   ],
   "source": [
    "notes.columns"
   ]
  },
  {
   "cell_type": "markdown",
   "id": "497a9d14-f631-48c7-9431-7e64d39c1cf8",
   "metadata": {},
   "source": [
    "C'est comme la généralistaion d'un tableau NumPy bidimentionnel, où les lignes et colonnes ont les libéllées pour accéder aux données.  \n",
    "Un dataframe peut aussi être comme un dictionnaire spécialisé.  \n",
    "Le dictionnaire fait correspondre clé et valeur ; le dataframe, le nom de colonne à une série de données de colonnes."
   ]
  },
  {
   "cell_type": "code",
   "execution_count": 11,
   "id": "4320696e-d988-4c3e-a6e1-16955eb51b64",
   "metadata": {},
   "outputs": [
    {
     "data": {
      "text/plain": [
       "Christophe       17.0\n",
       "Carla             6.0\n",
       "Caroine          20.0\n",
       "Jean-Baptiste     2.0\n",
       "Florence         15.5\n",
       "Emma             19.0\n",
       "Name: Maths, dtype: float64"
      ]
     },
     "execution_count": 11,
     "metadata": {},
     "output_type": "execute_result"
    }
   ],
   "source": [
    "notes['Maths']"
   ]
  },
  {
   "cell_type": "markdown",
   "id": "25bea4e0-d329-4185-ac24-8b55f1609f81",
   "metadata": {},
   "source": [
    "Pandas affiche un tableau unidimensionnel"
   ]
  }
 ],
 "metadata": {
  "kernelspec": {
   "display_name": "Python [conda env:base] *",
   "language": "python",
   "name": "conda-base-py"
  },
  "language_info": {
   "codemirror_mode": {
    "name": "ipython",
    "version": 3
   },
   "file_extension": ".py",
   "mimetype": "text/x-python",
   "name": "python",
   "nbconvert_exporter": "python",
   "pygments_lexer": "ipython3",
   "version": "3.13.5"
  }
 },
 "nbformat": 4,
 "nbformat_minor": 5
}
