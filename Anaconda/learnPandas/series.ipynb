{
 "cells": [
  {
   "cell_type": "code",
   "execution_count": 1,
   "id": "9ce2e00c-704c-4aa9-adb1-c7b48ba59d4e",
   "metadata": {},
   "outputs": [],
   "source": [
    "import numpy  as np\n",
    "import pandas as pd"
   ]
  },
  {
   "cell_type": "markdown",
   "id": "215777b7-e5a6-41f1-9e0e-d647d978d273",
   "metadata": {},
   "source": [
    "# **Les séries**"
   ]
  },
  {
   "cell_type": "markdown",
   "id": "27129c62-52d1-4e18-a88b-15700d0d77e4",
   "metadata": {},
   "source": [
    "C'est un tableau unidimensionnel indexé.  \n",
    "L'essentielle différence est l'explicite présente des indices.  \n",
    "Ainsi, l'objet à des fonctionnalités supplémentaires :\n",
    "* pas obliger d'être un INT ;\n",
    "* peut être n'importe quelle valeur ;\n",
    "* une string peut être un indice. Pandas est sensible à la casse.\n",
    "\n",
    "Pouvant être créé d'une liste ou sans liste."
   ]
  },
  {
   "cell_type": "markdown",
   "id": "2a39407b-b370-47f8-9c02-fc216ec09818",
   "metadata": {},
   "source": [
    "## Depuis une liste"
   ]
  },
  {
   "cell_type": "code",
   "execution_count": 2,
   "id": "d75b9000-0cc3-4130-8b88-e95dc39e3a00",
   "metadata": {},
   "outputs": [
    {
     "data": {
      "text/plain": [
       "0     5\n",
       "1    10\n",
       "2    15\n",
       "3    20\n",
       "dtype: int64"
      ]
     },
     "execution_count": 2,
     "metadata": {},
     "output_type": "execute_result"
    }
   ],
   "source": [
    "data = pd.Series([5,10,15,20])\n",
    "data"
   ]
  },
  {
   "cell_type": "code",
   "execution_count": 3,
   "id": "92583648-bda1-43da-8ef1-db6e19308c84",
   "metadata": {},
   "outputs": [
    {
     "data": {
      "text/plain": [
       "array([ 5, 10, 15, 20])"
      ]
     },
     "execution_count": 3,
     "metadata": {},
     "output_type": "execute_result"
    }
   ],
   "source": [
    "# récupérer les valeurs\n",
    "data.values"
   ]
  },
  {
   "cell_type": "code",
   "execution_count": 4,
   "id": "33fe37bb-f447-4ad3-87b3-8766da179735",
   "metadata": {},
   "outputs": [
    {
     "data": {
      "text/plain": [
       "RangeIndex(start=0, stop=4, step=1)"
      ]
     },
     "execution_count": 4,
     "metadata": {},
     "output_type": "execute_result"
    }
   ],
   "source": [
    "# récupérer l'index\n",
    "data.index"
   ]
  },
  {
   "cell_type": "code",
   "execution_count": 5,
   "id": "ccf2a669-daab-4783-8388-2ffed99a68cd",
   "metadata": {},
   "outputs": [
    {
     "data": {
      "text/plain": [
       "np.int64(5)"
      ]
     },
     "execution_count": 5,
     "metadata": {},
     "output_type": "execute_result"
    }
   ],
   "source": [
    "# Le premier élément\n",
    "data[0]"
   ]
  },
  {
   "cell_type": "code",
   "execution_count": 6,
   "id": "b8da119b-2566-449f-ba4b-728615b1f843",
   "metadata": {},
   "outputs": [
    {
     "data": {
      "text/plain": [
       "np.int64(20)"
      ]
     },
     "execution_count": 6,
     "metadata": {},
     "output_type": "execute_result"
    }
   ],
   "source": [
    "# le dernier\n",
    "data[3]"
   ]
  },
  {
   "cell_type": "code",
   "execution_count": 8,
   "id": "e962d54a-f433-483d-a978-17c32c3d30cd",
   "metadata": {},
   "outputs": [
    {
     "data": {
      "text/plain": [
       "1    10\n",
       "2    15\n",
       "dtype: int64"
      ]
     },
     "execution_count": 8,
     "metadata": {},
     "output_type": "execute_result"
    }
   ],
   "source": [
    "# Le permier et le second\n",
    "data[1:3]"
   ]
  },
  {
   "cell_type": "code",
   "execution_count": 9,
   "id": "b97c0eb7-83e4-4941-862f-6a6c27d2d69d",
   "metadata": {},
   "outputs": [
    {
     "data": {
      "text/plain": [
       "0     5\n",
       "1    10\n",
       "2    15\n",
       "3    20\n",
       "dtype: int64"
      ]
     },
     "execution_count": 9,
     "metadata": {},
     "output_type": "execute_result"
    }
   ],
   "source": [
    "# tout\n",
    "data[:]"
   ]
  },
  {
   "cell_type": "code",
   "execution_count": 10,
   "id": "1a082aee-ecba-4f72-8f84-127321b8ab9c",
   "metadata": {},
   "outputs": [],
   "source": [
    "# indices au hasard\n",
    "liste   = [1,2,3,4,5]\n",
    "indices = ['a',2,3,'de','fin']"
   ]
  },
  {
   "cell_type": "code",
   "execution_count": 12,
   "id": "5e3cdea4-fc8a-4f8d-946c-2f25b9ddb2d9",
   "metadata": {},
   "outputs": [
    {
     "data": {
      "text/plain": [
       "a      1\n",
       "2      2\n",
       "3      3\n",
       "de     4\n",
       "fin    5\n",
       "dtype: int64"
      ]
     },
     "execution_count": 12,
     "metadata": {},
     "output_type": "execute_result"
    }
   ],
   "source": [
    "serie   = pd.Series(data = liste, index = indices)\n",
    "serie"
   ]
  },
  {
   "cell_type": "markdown",
   "id": "ff87f169-31f1-454b-bcf5-f554c94e10b2",
   "metadata": {},
   "source": [
    "Les indices NumPy sont implicites."
   ]
  },
  {
   "cell_type": "code",
   "execution_count": 13,
   "id": "c756d5f4-b58f-4d62-9479-c86f929a8f1d",
   "metadata": {},
   "outputs": [
    {
     "data": {
      "text/plain": [
       "a      1\n",
       "2      2\n",
       "3      3\n",
       "de     4\n",
       "fin    5\n",
       "dtype: int64"
      ]
     },
     "execution_count": 13,
     "metadata": {},
     "output_type": "execute_result"
    }
   ],
   "source": [
    "serie1  = pd.Series(liste, indices)\n",
    "serie1"
   ]
  },
  {
   "cell_type": "markdown",
   "id": "d41ce0b6-7242-4f94-9cde-2d8eaaf07f53",
   "metadata": {},
   "source": [
    "## Sans liste"
   ]
  },
  {
   "cell_type": "code",
   "execution_count": 14,
   "id": "fabc1c94-a218-46b4-a967-ee2c3279bda5",
   "metadata": {},
   "outputs": [
    {
     "data": {
      "text/plain": [
       "a    1\n",
       "b    2\n",
       "c    3\n",
       "dtype: int64"
      ]
     },
     "execution_count": 14,
     "metadata": {},
     "output_type": "execute_result"
    }
   ],
   "source": [
    "noListe = pd.Series([1,2,3],[\"a\",\"b\",\"c\"])\n",
    "noListe"
   ]
  },
  {
   "cell_type": "code",
   "execution_count": 16,
   "id": "26097c7e-f978-4a59-a61c-3f079ab13bdf",
   "metadata": {},
   "outputs": [
    {
     "data": {
      "text/plain": [
       "np.int64(2)"
      ]
     },
     "execution_count": 16,
     "metadata": {},
     "output_type": "execute_result"
    }
   ],
   "source": [
    "# le second élément\n",
    "noListe[\"b\"]"
   ]
  }
 ],
 "metadata": {
  "kernelspec": {
   "display_name": "Python [conda env:base] *",
   "language": "python",
   "name": "conda-base-py"
  },
  "language_info": {
   "codemirror_mode": {
    "name": "ipython",
    "version": 3
   },
   "file_extension": ".py",
   "mimetype": "text/x-python",
   "name": "python",
   "nbconvert_exporter": "python",
   "pygments_lexer": "ipython3",
   "version": "3.13.5"
  }
 },
 "nbformat": 4,
 "nbformat_minor": 5
}
