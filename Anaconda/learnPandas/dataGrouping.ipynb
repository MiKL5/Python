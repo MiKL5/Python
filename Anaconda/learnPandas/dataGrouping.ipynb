{
 "cells": [
  {
   "cell_type": "code",
   "execution_count": 1,
   "id": "7f1d12c5-9d44-4a83-87b4-89a4d9c0674c",
   "metadata": {},
   "outputs": [],
   "source": [
    "import pandas as pd"
   ]
  },
  {
   "cell_type": "markdown",
   "id": "872c39c2-b1ff-4752-8e7e-7b1a99f17cea",
   "metadata": {},
   "source": [
    "# **Groupement des données**"
   ]
  },
  {
   "cell_type": "markdown",
   "id": "9e16a44a-9482-450d-91c5-cb2b9e46c742",
   "metadata": {},
   "source": [
    "La synthèse efficace est essentielle dans l'analyse de données volumineuses.  \n",
    "Le calcul des paramètres statistiques tels que la somme, moyenne, médiane, le minimum, maximum, l'écart type... dans laquelle un nombre unique apporte un aperçu d'un ensemble potentiellement volumeineux de données et très intéressant.  \n",
    "Et chauqe analyste doit d'abord comprendre comment les calculer, les grouper & les analyser.  \n",
    "\n",
    "Avec Pandas, le groupement regroupe les lignes selon un critère de colonnes."
   ]
  },
  {
   "cell_type": "markdown",
   "id": "b39e6992-c5ae-4e82-9ea4-5c7b0ceb606d",
   "metadata": {},
   "source": [
    "Pour le groupement, il faut commencer par séparer les clés afin de regrouper les lignes ayant la même clé.  \n",
    "Puis par exemple sommer les données.\n",
    "\n",
    "Dans la pratique, Pandas, permet de grouper directement."
   ]
  },
  {
   "cell_type": "code",
   "execution_count": 2,
   "id": "a9f56146-a83f-40e0-94ec-6e1c32738968",
   "metadata": {},
   "outputs": [
    {
     "data": {
      "text/html": [
       "<div>\n",
       "<style scoped>\n",
       "    .dataframe tbody tr th:only-of-type {\n",
       "        vertical-align: middle;\n",
       "    }\n",
       "\n",
       "    .dataframe tbody tr th {\n",
       "        vertical-align: top;\n",
       "    }\n",
       "\n",
       "    .dataframe thead th {\n",
       "        text-align: right;\n",
       "    }\n",
       "</style>\n",
       "<table border=\"1\" class=\"dataframe\">\n",
       "  <thead>\n",
       "    <tr style=\"text-align: right;\">\n",
       "      <th></th>\n",
       "      <th>cle</th>\n",
       "      <th>data</th>\n",
       "    </tr>\n",
       "  </thead>\n",
       "  <tbody>\n",
       "    <tr>\n",
       "      <th>0</th>\n",
       "      <td>A</td>\n",
       "      <td>0</td>\n",
       "    </tr>\n",
       "    <tr>\n",
       "      <th>1</th>\n",
       "      <td>B</td>\n",
       "      <td>1</td>\n",
       "    </tr>\n",
       "    <tr>\n",
       "      <th>2</th>\n",
       "      <td>C</td>\n",
       "      <td>2</td>\n",
       "    </tr>\n",
       "    <tr>\n",
       "      <th>3</th>\n",
       "      <td>A</td>\n",
       "      <td>3</td>\n",
       "    </tr>\n",
       "    <tr>\n",
       "      <th>4</th>\n",
       "      <td>B</td>\n",
       "      <td>4</td>\n",
       "    </tr>\n",
       "    <tr>\n",
       "      <th>5</th>\n",
       "      <td>C</td>\n",
       "      <td>5</td>\n",
       "    </tr>\n",
       "  </tbody>\n",
       "</table>\n",
       "</div>"
      ],
      "text/plain": [
       "  cle  data\n",
       "0   A     0\n",
       "1   B     1\n",
       "2   C     2\n",
       "3   A     3\n",
       "4   B     4\n",
       "5   C     5"
      ]
     },
     "execution_count": 2,
     "metadata": {},
     "output_type": "execute_result"
    }
   ],
   "source": [
    "dict_donnees = {'cle':['A','B','C','A','B','C'],'data':range(6)}\n",
    "\n",
    "df_donnees   = pd.DataFrame(dict_donnees)\n",
    "df_donnees"
   ]
  },
  {
   "cell_type": "code",
   "execution_count": 3,
   "id": "6aed3753-567e-4d3c-9d59-629f8942fffd",
   "metadata": {},
   "outputs": [
    {
     "data": {
      "text/plain": [
       "<pandas.core.groupby.generic.DataFrameGroupBy object at 0x13e1a9160>"
      ]
     },
     "execution_count": 3,
     "metadata": {},
     "output_type": "execute_result"
    }
   ],
   "source": [
    "# Grouper / clé\n",
    "df_donnees.groupby('cle')"
   ]
  },
  {
   "cell_type": "code",
   "execution_count": 4,
   "id": "35f8f85f-07eb-4ef1-aabf-9ad4bae2726a",
   "metadata": {},
   "outputs": [
    {
     "data": {
      "text/html": [
       "<div>\n",
       "<style scoped>\n",
       "    .dataframe tbody tr th:only-of-type {\n",
       "        vertical-align: middle;\n",
       "    }\n",
       "\n",
       "    .dataframe tbody tr th {\n",
       "        vertical-align: top;\n",
       "    }\n",
       "\n",
       "    .dataframe thead th {\n",
       "        text-align: right;\n",
       "    }\n",
       "</style>\n",
       "<table border=\"1\" class=\"dataframe\">\n",
       "  <thead>\n",
       "    <tr style=\"text-align: right;\">\n",
       "      <th></th>\n",
       "      <th>data</th>\n",
       "    </tr>\n",
       "    <tr>\n",
       "      <th>cle</th>\n",
       "      <th></th>\n",
       "    </tr>\n",
       "  </thead>\n",
       "  <tbody>\n",
       "    <tr>\n",
       "      <th>A</th>\n",
       "      <td>3</td>\n",
       "    </tr>\n",
       "    <tr>\n",
       "      <th>B</th>\n",
       "      <td>5</td>\n",
       "    </tr>\n",
       "    <tr>\n",
       "      <th>C</th>\n",
       "      <td>7</td>\n",
       "    </tr>\n",
       "  </tbody>\n",
       "</table>\n",
       "</div>"
      ],
      "text/plain": [
       "     data\n",
       "cle      \n",
       "A       3\n",
       "B       5\n",
       "C       7"
      ]
     },
     "execution_count": 4,
     "metadata": {},
     "output_type": "execute_result"
    }
   ],
   "source": [
    "sum_by_cle = df_donnees.groupby('cle').sum()\n",
    "sum_by_cle"
   ]
  },
  {
   "cell_type": "code",
   "execution_count": 5,
   "id": "83967060-0ccd-452b-9276-117d93e89fdd",
   "metadata": {},
   "outputs": [
    {
     "data": {
      "text/html": [
       "<div>\n",
       "<style scoped>\n",
       "    .dataframe tbody tr th:only-of-type {\n",
       "        vertical-align: middle;\n",
       "    }\n",
       "\n",
       "    .dataframe tbody tr th {\n",
       "        vertical-align: top;\n",
       "    }\n",
       "\n",
       "    .dataframe thead th {\n",
       "        text-align: right;\n",
       "    }\n",
       "</style>\n",
       "<table border=\"1\" class=\"dataframe\">\n",
       "  <thead>\n",
       "    <tr style=\"text-align: right;\">\n",
       "      <th></th>\n",
       "      <th>data</th>\n",
       "    </tr>\n",
       "    <tr>\n",
       "      <th>cle</th>\n",
       "      <th></th>\n",
       "    </tr>\n",
       "  </thead>\n",
       "  <tbody>\n",
       "    <tr>\n",
       "      <th>A</th>\n",
       "      <td>1.5</td>\n",
       "    </tr>\n",
       "    <tr>\n",
       "      <th>B</th>\n",
       "      <td>2.5</td>\n",
       "    </tr>\n",
       "    <tr>\n",
       "      <th>C</th>\n",
       "      <td>3.5</td>\n",
       "    </tr>\n",
       "  </tbody>\n",
       "</table>\n",
       "</div>"
      ],
      "text/plain": [
       "     data\n",
       "cle      \n",
       "A     1.5\n",
       "B     2.5\n",
       "C     3.5"
      ]
     },
     "execution_count": 5,
     "metadata": {},
     "output_type": "execute_result"
    }
   ],
   "source": [
    "# Faire la moyenne\n",
    "mean_by_cle = df_donnees.groupby('cle').mean()\n",
    "mean_by_cle"
   ]
  },
  {
   "cell_type": "code",
   "execution_count": 6,
   "id": "3b4a318f-79a8-4da9-a509-0ce9f23d96f5",
   "metadata": {},
   "outputs": [
    {
     "data": {
      "text/html": [
       "<div>\n",
       "<style scoped>\n",
       "    .dataframe tbody tr th:only-of-type {\n",
       "        vertical-align: middle;\n",
       "    }\n",
       "\n",
       "    .dataframe tbody tr th {\n",
       "        vertical-align: top;\n",
       "    }\n",
       "\n",
       "    .dataframe thead th {\n",
       "        text-align: right;\n",
       "    }\n",
       "</style>\n",
       "<table border=\"1\" class=\"dataframe\">\n",
       "  <thead>\n",
       "    <tr style=\"text-align: right;\">\n",
       "      <th></th>\n",
       "      <th>Nom</th>\n",
       "      <th>Matières</th>\n",
       "      <th>Note</th>\n",
       "    </tr>\n",
       "  </thead>\n",
       "  <tbody>\n",
       "    <tr>\n",
       "      <th>0</th>\n",
       "      <td>Christiane</td>\n",
       "      <td>Maths</td>\n",
       "      <td>17</td>\n",
       "    </tr>\n",
       "    <tr>\n",
       "      <th>1</th>\n",
       "      <td>Clara</td>\n",
       "      <td>Maths</td>\n",
       "      <td>13</td>\n",
       "    </tr>\n",
       "    <tr>\n",
       "      <th>2</th>\n",
       "      <td>Lina</td>\n",
       "      <td>Maths</td>\n",
       "      <td>12</td>\n",
       "    </tr>\n",
       "    <tr>\n",
       "      <th>3</th>\n",
       "      <td>Amine</td>\n",
       "      <td>Maths</td>\n",
       "      <td>15</td>\n",
       "    </tr>\n",
       "    <tr>\n",
       "      <th>4</th>\n",
       "      <td>Amandine</td>\n",
       "      <td>Maths</td>\n",
       "      <td>9</td>\n",
       "    </tr>\n",
       "    <tr>\n",
       "      <th>5</th>\n",
       "      <td>Christiane</td>\n",
       "      <td>Physiquye</td>\n",
       "      <td>10</td>\n",
       "    </tr>\n",
       "    <tr>\n",
       "      <th>6</th>\n",
       "      <td>Clara</td>\n",
       "      <td>Physiquye</td>\n",
       "      <td>5</td>\n",
       "    </tr>\n",
       "    <tr>\n",
       "      <th>7</th>\n",
       "      <td>Lina</td>\n",
       "      <td>Physiquye</td>\n",
       "      <td>8</td>\n",
       "    </tr>\n",
       "    <tr>\n",
       "      <th>8</th>\n",
       "      <td>Amine</td>\n",
       "      <td>Physiquye</td>\n",
       "      <td>13</td>\n",
       "    </tr>\n",
       "    <tr>\n",
       "      <th>9</th>\n",
       "      <td>Amandine</td>\n",
       "      <td>Physiquye</td>\n",
       "      <td>16</td>\n",
       "    </tr>\n",
       "  </tbody>\n",
       "</table>\n",
       "</div>"
      ],
      "text/plain": [
       "          Nom   Matières  Note\n",
       "0  Christiane      Maths    17\n",
       "1       Clara      Maths    13\n",
       "2        Lina      Maths    12\n",
       "3       Amine      Maths    15\n",
       "4    Amandine      Maths     9\n",
       "5  Christiane  Physiquye    10\n",
       "6       Clara  Physiquye     5\n",
       "7        Lina  Physiquye     8\n",
       "8       Amine  Physiquye    13\n",
       "9    Amandine  Physiquye    16"
      ]
     },
     "execution_count": 6,
     "metadata": {},
     "output_type": "execute_result"
    }
   ],
   "source": [
    "dict_etudiants  = {'Nom'     :['Christiane','Clara','Lina','Amine','Amandine','Christiane','Clara','Lina','Amine','Amandine'],\n",
    "                   'Matières':['Maths','Maths','Maths','Maths','Maths','Physiquye','Physiquye','Physiquye','Physiquye','Physiquye'],\n",
    "                   'Note'    :[17,13,12,15,9,10,5,8,13,16]\n",
    "                  }\n",
    "\n",
    "df_etudiant    = pd.DataFrame(dict_etudiants)\n",
    "df_etudiant"
   ]
  },
  {
   "cell_type": "code",
   "execution_count": 7,
   "id": "98564128-4e4d-420a-b811-7898b40cfeb1",
   "metadata": {},
   "outputs": [
    {
     "data": {
      "text/plain": [
       "<pandas.core.groupby.generic.DataFrameGroupBy object at 0x13e18e3f0>"
      ]
     },
     "execution_count": 7,
     "metadata": {},
     "output_type": "execute_result"
    }
   ],
   "source": [
    "groupby_nom = df_etudiant.groupby('Nom')\n",
    "groupby_nom"
   ]
  },
  {
   "cell_type": "code",
   "execution_count": 8,
   "id": "51436b32-7086-4963-88db-b5f082720a1b",
   "metadata": {},
   "outputs": [
    {
     "data": {
      "text/plain": [
       "Nom\n",
       "Amandine      12.5\n",
       "Amine         14.0\n",
       "Christiane    13.5\n",
       "Clara          9.0\n",
       "Lina          10.0\n",
       "Name: Note, dtype: float64"
      ]
     },
     "execution_count": 8,
     "metadata": {},
     "output_type": "execute_result"
    }
   ],
   "source": [
    "# Moyenne\n",
    "groupby_nom['Note'].mean()"
   ]
  },
  {
   "cell_type": "code",
   "execution_count": 9,
   "id": "0a1ab170-5363-4a03-a3b2-46f048639366",
   "metadata": {},
   "outputs": [
    {
     "data": {
      "text/plain": [
       "Nom\n",
       "Amandine      25\n",
       "Amine         28\n",
       "Christiane    27\n",
       "Clara         18\n",
       "Lina          20\n",
       "Name: Note, dtype: int64"
      ]
     },
     "execution_count": 9,
     "metadata": {},
     "output_type": "execute_result"
    }
   ],
   "source": [
    "# Somme\n",
    "groupby_nom['Note'].sum()"
   ]
  },
  {
   "cell_type": "code",
   "execution_count": 10,
   "id": "13903fdc-dc77-4562-9f92-1e4dbf777c06",
   "metadata": {},
   "outputs": [
    {
     "data": {
      "text/plain": [
       "Nom\n",
       "Amandine      4.949747\n",
       "Amine         1.414214\n",
       "Christiane    4.949747\n",
       "Clara         5.656854\n",
       "Lina          2.828427\n",
       "Name: Note, dtype: float64"
      ]
     },
     "execution_count": 10,
     "metadata": {},
     "output_type": "execute_result"
    }
   ],
   "source": [
    "# L'écart type\n",
    "groupby_nom['Note'].std()"
   ]
  },
  {
   "cell_type": "code",
   "execution_count": 11,
   "id": "a7ed74f6-76bb-4cc2-a3f0-33354450fac8",
   "metadata": {},
   "outputs": [
    {
     "data": {
      "text/plain": [
       "np.float64(13.5)"
      ]
     },
     "execution_count": 11,
     "metadata": {},
     "output_type": "execute_result"
    }
   ],
   "source": [
    "# La moyenne pour Christiane\n",
    "moyenne_christiane = groupby_nom['Note'].mean().loc['Christiane']\n",
    "moyenne_christiane"
   ]
  },
  {
   "cell_type": "code",
   "execution_count": 12,
   "id": "efeaefc8-6c38-418b-a47e-072227dedf2c",
   "metadata": {},
   "outputs": [
    {
     "data": {
      "text/plain": [
       "np.float64(4.949747468305833)"
      ]
     },
     "execution_count": 12,
     "metadata": {},
     "output_type": "execute_result"
    }
   ],
   "source": [
    "# L'écart type pour Christiane\n",
    "ecart_type_christiane = groupby_nom['Note'].std().loc['Christiane']\n",
    "ecart_type_christiane"
   ]
  },
  {
   "cell_type": "code",
   "execution_count": 13,
   "id": "d7d0d1d9-c38e-4a9f-87e5-0ee8b2e02661",
   "metadata": {},
   "outputs": [
    {
     "data": {
      "text/plain": [
       "np.float64(13.5)"
      ]
     },
     "execution_count": 13,
     "metadata": {},
     "output_type": "execute_result"
    }
   ],
   "source": [
    "moyenne_christiane = df_etudiant.groupby('Nom')['Note'].mean().loc['Christiane']\n",
    "moyenne_christiane"
   ]
  },
  {
   "cell_type": "code",
   "execution_count": 14,
   "id": "1a1bc4f5-1431-4a90-a710-9d37963a9e6b",
   "metadata": {},
   "outputs": [
    {
     "data": {
      "text/html": [
       "<div>\n",
       "<style scoped>\n",
       "    .dataframe tbody tr th:only-of-type {\n",
       "        vertical-align: middle;\n",
       "    }\n",
       "\n",
       "    .dataframe tbody tr th {\n",
       "        vertical-align: top;\n",
       "    }\n",
       "\n",
       "    .dataframe thead th {\n",
       "        text-align: right;\n",
       "    }\n",
       "</style>\n",
       "<table border=\"1\" class=\"dataframe\">\n",
       "  <thead>\n",
       "    <tr style=\"text-align: right;\">\n",
       "      <th></th>\n",
       "      <th>Matières</th>\n",
       "      <th>Note</th>\n",
       "    </tr>\n",
       "    <tr>\n",
       "      <th>Nom</th>\n",
       "      <th></th>\n",
       "      <th></th>\n",
       "    </tr>\n",
       "  </thead>\n",
       "  <tbody>\n",
       "    <tr>\n",
       "      <th>Amandine</th>\n",
       "      <td>2</td>\n",
       "      <td>2</td>\n",
       "    </tr>\n",
       "    <tr>\n",
       "      <th>Amine</th>\n",
       "      <td>2</td>\n",
       "      <td>2</td>\n",
       "    </tr>\n",
       "    <tr>\n",
       "      <th>Christiane</th>\n",
       "      <td>2</td>\n",
       "      <td>2</td>\n",
       "    </tr>\n",
       "    <tr>\n",
       "      <th>Clara</th>\n",
       "      <td>2</td>\n",
       "      <td>2</td>\n",
       "    </tr>\n",
       "    <tr>\n",
       "      <th>Lina</th>\n",
       "      <td>2</td>\n",
       "      <td>2</td>\n",
       "    </tr>\n",
       "  </tbody>\n",
       "</table>\n",
       "</div>"
      ],
      "text/plain": [
       "            Matières  Note\n",
       "Nom                       \n",
       "Amandine           2     2\n",
       "Amine              2     2\n",
       "Christiane         2     2\n",
       "Clara              2     2\n",
       "Lina               2     2"
      ]
     },
     "execution_count": 14,
     "metadata": {},
     "output_type": "execute_result"
    }
   ],
   "source": [
    "# Combien de répétition des noms\n",
    "df_etudiant.groupby('Nom').count()"
   ]
  },
  {
   "cell_type": "code",
   "execution_count": 15,
   "id": "793ae30c-c306-4f39-a0cd-f9d74915f917",
   "metadata": {},
   "outputs": [
    {
     "data": {
      "text/html": [
       "<div>\n",
       "<style scoped>\n",
       "    .dataframe tbody tr th:only-of-type {\n",
       "        vertical-align: middle;\n",
       "    }\n",
       "\n",
       "    .dataframe tbody tr th {\n",
       "        vertical-align: top;\n",
       "    }\n",
       "\n",
       "    .dataframe thead th {\n",
       "        text-align: right;\n",
       "    }\n",
       "</style>\n",
       "<table border=\"1\" class=\"dataframe\">\n",
       "  <thead>\n",
       "    <tr style=\"text-align: right;\">\n",
       "      <th></th>\n",
       "      <th>Matières</th>\n",
       "      <th>Note</th>\n",
       "    </tr>\n",
       "    <tr>\n",
       "      <th>Nom</th>\n",
       "      <th></th>\n",
       "      <th></th>\n",
       "    </tr>\n",
       "  </thead>\n",
       "  <tbody>\n",
       "    <tr>\n",
       "      <th>Amandine</th>\n",
       "      <td>Physiquye</td>\n",
       "      <td>16</td>\n",
       "    </tr>\n",
       "    <tr>\n",
       "      <th>Amine</th>\n",
       "      <td>Physiquye</td>\n",
       "      <td>15</td>\n",
       "    </tr>\n",
       "    <tr>\n",
       "      <th>Christiane</th>\n",
       "      <td>Physiquye</td>\n",
       "      <td>17</td>\n",
       "    </tr>\n",
       "    <tr>\n",
       "      <th>Clara</th>\n",
       "      <td>Physiquye</td>\n",
       "      <td>13</td>\n",
       "    </tr>\n",
       "    <tr>\n",
       "      <th>Lina</th>\n",
       "      <td>Physiquye</td>\n",
       "      <td>12</td>\n",
       "    </tr>\n",
       "  </tbody>\n",
       "</table>\n",
       "</div>"
      ],
      "text/plain": [
       "             Matières  Note\n",
       "Nom                        \n",
       "Amandine    Physiquye    16\n",
       "Amine       Physiquye    15\n",
       "Christiane  Physiquye    17\n",
       "Clara       Physiquye    13\n",
       "Lina        Physiquye    12"
      ]
     },
     "execution_count": 15,
     "metadata": {},
     "output_type": "execute_result"
    }
   ],
   "source": [
    "# Le maximum\n",
    "df_etudiant.groupby('Nom').max() # Les colonnes ne correspondront pas car Python calcul pour la colonne note et pour la matière, l'alphabet"
   ]
  },
  {
   "cell_type": "code",
   "execution_count": 16,
   "id": "ebeffb26-a6e4-44bb-921f-a30e2b77c6ed",
   "metadata": {},
   "outputs": [
    {
     "data": {
      "text/html": [
       "<div>\n",
       "<style scoped>\n",
       "    .dataframe tbody tr th:only-of-type {\n",
       "        vertical-align: middle;\n",
       "    }\n",
       "\n",
       "    .dataframe tbody tr th {\n",
       "        vertical-align: top;\n",
       "    }\n",
       "\n",
       "    .dataframe thead th {\n",
       "        text-align: right;\n",
       "    }\n",
       "</style>\n",
       "<table border=\"1\" class=\"dataframe\">\n",
       "  <thead>\n",
       "    <tr style=\"text-align: right;\">\n",
       "      <th></th>\n",
       "      <th>Matières</th>\n",
       "      <th>Note</th>\n",
       "    </tr>\n",
       "    <tr>\n",
       "      <th>Nom</th>\n",
       "      <th></th>\n",
       "      <th></th>\n",
       "    </tr>\n",
       "  </thead>\n",
       "  <tbody>\n",
       "    <tr>\n",
       "      <th>Amandine</th>\n",
       "      <td>Maths</td>\n",
       "      <td>9</td>\n",
       "    </tr>\n",
       "    <tr>\n",
       "      <th>Amine</th>\n",
       "      <td>Maths</td>\n",
       "      <td>13</td>\n",
       "    </tr>\n",
       "    <tr>\n",
       "      <th>Christiane</th>\n",
       "      <td>Maths</td>\n",
       "      <td>10</td>\n",
       "    </tr>\n",
       "    <tr>\n",
       "      <th>Clara</th>\n",
       "      <td>Maths</td>\n",
       "      <td>5</td>\n",
       "    </tr>\n",
       "    <tr>\n",
       "      <th>Lina</th>\n",
       "      <td>Maths</td>\n",
       "      <td>8</td>\n",
       "    </tr>\n",
       "  </tbody>\n",
       "</table>\n",
       "</div>"
      ],
      "text/plain": [
       "           Matières  Note\n",
       "Nom                      \n",
       "Amandine      Maths     9\n",
       "Amine         Maths    13\n",
       "Christiane    Maths    10\n",
       "Clara         Maths     5\n",
       "Lina          Maths     8"
      ]
     },
     "execution_count": 16,
     "metadata": {},
     "output_type": "execute_result"
    }
   ],
   "source": [
    "# Le minimum\n",
    "df_etudiant.groupby('Nom').min()"
   ]
  },
  {
   "cell_type": "code",
   "execution_count": 17,
   "id": "7b41e91d-3c2c-4295-afea-463b37f7855c",
   "metadata": {},
   "outputs": [
    {
     "data": {
      "text/html": [
       "<div>\n",
       "<style scoped>\n",
       "    .dataframe tbody tr th:only-of-type {\n",
       "        vertical-align: middle;\n",
       "    }\n",
       "\n",
       "    .dataframe tbody tr th {\n",
       "        vertical-align: top;\n",
       "    }\n",
       "\n",
       "    .dataframe thead tr th {\n",
       "        text-align: left;\n",
       "    }\n",
       "\n",
       "    .dataframe thead tr:last-of-type th {\n",
       "        text-align: right;\n",
       "    }\n",
       "</style>\n",
       "<table border=\"1\" class=\"dataframe\">\n",
       "  <thead>\n",
       "    <tr>\n",
       "      <th></th>\n",
       "      <th colspan=\"8\" halign=\"left\">Note</th>\n",
       "    </tr>\n",
       "    <tr>\n",
       "      <th></th>\n",
       "      <th>count</th>\n",
       "      <th>mean</th>\n",
       "      <th>std</th>\n",
       "      <th>min</th>\n",
       "      <th>25%</th>\n",
       "      <th>50%</th>\n",
       "      <th>75%</th>\n",
       "      <th>max</th>\n",
       "    </tr>\n",
       "    <tr>\n",
       "      <th>Nom</th>\n",
       "      <th></th>\n",
       "      <th></th>\n",
       "      <th></th>\n",
       "      <th></th>\n",
       "      <th></th>\n",
       "      <th></th>\n",
       "      <th></th>\n",
       "      <th></th>\n",
       "    </tr>\n",
       "  </thead>\n",
       "  <tbody>\n",
       "    <tr>\n",
       "      <th>Amandine</th>\n",
       "      <td>2.0</td>\n",
       "      <td>12.5</td>\n",
       "      <td>4.949747</td>\n",
       "      <td>9.0</td>\n",
       "      <td>10.75</td>\n",
       "      <td>12.5</td>\n",
       "      <td>14.25</td>\n",
       "      <td>16.0</td>\n",
       "    </tr>\n",
       "    <tr>\n",
       "      <th>Amine</th>\n",
       "      <td>2.0</td>\n",
       "      <td>14.0</td>\n",
       "      <td>1.414214</td>\n",
       "      <td>13.0</td>\n",
       "      <td>13.50</td>\n",
       "      <td>14.0</td>\n",
       "      <td>14.50</td>\n",
       "      <td>15.0</td>\n",
       "    </tr>\n",
       "    <tr>\n",
       "      <th>Christiane</th>\n",
       "      <td>2.0</td>\n",
       "      <td>13.5</td>\n",
       "      <td>4.949747</td>\n",
       "      <td>10.0</td>\n",
       "      <td>11.75</td>\n",
       "      <td>13.5</td>\n",
       "      <td>15.25</td>\n",
       "      <td>17.0</td>\n",
       "    </tr>\n",
       "    <tr>\n",
       "      <th>Clara</th>\n",
       "      <td>2.0</td>\n",
       "      <td>9.0</td>\n",
       "      <td>5.656854</td>\n",
       "      <td>5.0</td>\n",
       "      <td>7.00</td>\n",
       "      <td>9.0</td>\n",
       "      <td>11.00</td>\n",
       "      <td>13.0</td>\n",
       "    </tr>\n",
       "    <tr>\n",
       "      <th>Lina</th>\n",
       "      <td>2.0</td>\n",
       "      <td>10.0</td>\n",
       "      <td>2.828427</td>\n",
       "      <td>8.0</td>\n",
       "      <td>9.00</td>\n",
       "      <td>10.0</td>\n",
       "      <td>11.00</td>\n",
       "      <td>12.0</td>\n",
       "    </tr>\n",
       "  </tbody>\n",
       "</table>\n",
       "</div>"
      ],
      "text/plain": [
       "            Note                                                \n",
       "           count  mean       std   min    25%   50%    75%   max\n",
       "Nom                                                             \n",
       "Amandine     2.0  12.5  4.949747   9.0  10.75  12.5  14.25  16.0\n",
       "Amine        2.0  14.0  1.414214  13.0  13.50  14.0  14.50  15.0\n",
       "Christiane   2.0  13.5  4.949747  10.0  11.75  13.5  15.25  17.0\n",
       "Clara        2.0   9.0  5.656854   5.0   7.00   9.0  11.00  13.0\n",
       "Lina         2.0  10.0  2.828427   8.0   9.00  10.0  11.00  12.0"
      ]
     },
     "execution_count": 17,
     "metadata": {},
     "output_type": "execute_result"
    }
   ],
   "source": [
    "# Récupérer plusieurs calculs en 1 fois, il faut la méthode `describe()`\n",
    "df_etudiant.groupby('Nom').describe()"
   ]
  },
  {
   "cell_type": "code",
   "execution_count": 18,
   "id": "6aaf2a3d-ae3d-4626-93b1-e779269c59e1",
   "metadata": {},
   "outputs": [
    {
     "data": {
      "text/plain": [
       "Note  count     2.000000\n",
       "      mean     13.500000\n",
       "      std       4.949747\n",
       "      min      10.000000\n",
       "      25%      11.750000\n",
       "      50%      13.500000\n",
       "      75%      15.250000\n",
       "      max      17.000000\n",
       "Name: Christiane, dtype: float64"
      ]
     },
     "execution_count": 18,
     "metadata": {},
     "output_type": "execute_result"
    }
   ],
   "source": [
    "# Idem que pour Christiane\n",
    "df_etudiant.groupby('Nom').describe().loc['Christiane']"
   ]
  },
  {
   "cell_type": "code",
   "execution_count": 19,
   "id": "7bf7e2ea-edc1-4fac-a523-24a8a668604e",
   "metadata": {},
   "outputs": [
    {
     "data": {
      "text/plain": [
       "Note  count     2.000000\n",
       "      mean     13.500000\n",
       "      std       4.949747\n",
       "      min      10.000000\n",
       "      25%      11.750000\n",
       "      50%      13.500000\n",
       "      75%      15.250000\n",
       "      max      17.000000\n",
       "Name: Christiane, dtype: float64"
      ]
     },
     "execution_count": 19,
     "metadata": {},
     "output_type": "execute_result"
    }
   ],
   "source": [
    "stats_christiane = df_etudiant.groupby('Nom').describe().loc['Christiane']\n",
    "stats_christiane"
   ]
  }
 ],
 "metadata": {
  "kernelspec": {
   "display_name": "Python [conda env:base] *",
   "language": "python",
   "name": "conda-base-py"
  },
  "language_info": {
   "codemirror_mode": {
    "name": "ipython",
    "version": 3
   },
   "file_extension": ".py",
   "mimetype": "text/x-python",
   "name": "python",
   "nbconvert_exporter": "python",
   "pygments_lexer": "ipython3",
   "version": "3.13.5"
  }
 },
 "nbformat": 4,
 "nbformat_minor": 5
}
